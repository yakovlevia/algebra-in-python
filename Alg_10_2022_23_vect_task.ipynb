{
  "nbformat": 4,
  "nbformat_minor": 0,
  "metadata": {
    "kernelspec": {
      "display_name": "Python 3",
      "language": "python",
      "name": "python3"
    },
    "language_info": {
      "codemirror_mode": {
        "name": "ipython",
        "version": 3
      },
      "file_extension": ".py",
      "mimetype": "text/x-python",
      "name": "python",
      "nbconvert_exporter": "python",
      "pygments_lexer": "ipython3",
      "version": "3.7.3"
    },
    "colab": {
      "provenance": []
    }
  },
  "cells": [
    {
      "cell_type": "code",
      "metadata": {
        "id": "BQ-uTnJuCclQ"
      },
      "source": [
        "import sympy\n",
        "from sympy import  Matrix, symbols, latex, Symbol, S\n",
        "from sympy import  sin as Sin\n",
        "from sympy import  cos as Cos\n",
        "from sympy import  pi as Pi\n",
        "from sympy.vector import CoordSys3D, Vector, matrix_to_vector, AxisOrienter, express\n",
        "from IPython.display import Latex"
      ],
      "execution_count": 13,
      "outputs": []
    },
    {
      "cell_type": "markdown",
      "metadata": {
        "id": "HaZ4p6ZaCclc"
      },
      "source": [
        "# Практическое занятие 10\n",
        "# Компьютерный практикум по алгебре на Python\n",
        "## Векторы\n",
        "### Задание 1.\n",
        "Задать систему координат с именем '1'. \n",
        "Найти скалярное и векторное произведение векторов $a(-\\cos(\\pi/4), \\sin(\\pi/3), 1)$ и $b(2, -1, 3)$."
      ]
    },
    {
      "cell_type": "code",
      "source": [
        "N = CoordSys3D('1')\n",
        "display(N)\n",
        "\n",
        "a = -Cos(Pi / 4) * N.i + Sin(Pi / 3) * N.j + N.k\n",
        "b = 2 * N.i - N.j + 3 * N.k\n",
        "display(a.dot(b), a.cross(b))"
      ],
      "metadata": {
        "id": "E-7tcvAUka_H",
        "colab": {
          "base_uri": "https://localhost:8080/",
          "height": 155
        },
        "outputId": "b0f08daa-e29c-4c1d-a74d-edb45af264bc"
      },
      "execution_count": 3,
      "outputs": [
        {
          "output_type": "display_data",
          "data": {
            "text/plain": [
              "1"
            ],
            "text/latex": "$\\displaystyle CoordSys3D\\left(1, \\left( \\left[\\begin{matrix}1 & 0 & 0\\\\0 & 1 & 0\\\\0 & 0 & 1\\end{matrix}\\right], \\  \\mathbf{\\hat{0}}\\right)\\right)$"
          },
          "metadata": {}
        },
        {
          "output_type": "display_data",
          "data": {
            "text/plain": [
              "-sqrt(2) - sqrt(3)/2 + 3"
            ],
            "text/latex": "$\\displaystyle - \\sqrt{2} - \\frac{\\sqrt{3}}{2} + 3$"
          },
          "metadata": {}
        },
        {
          "output_type": "display_data",
          "data": {
            "text/plain": [
              "(1 + 3*sqrt(3)/2)*1.i + (2 + 3*sqrt(2)/2)*1.j + (-sqrt(3) + sqrt(2)/2)*1.k"
            ],
            "text/latex": "$\\displaystyle (1 + \\frac{3 \\sqrt{3}}{2})\\mathbf{\\hat{i}_{1}} + (2 + \\frac{3 \\sqrt{2}}{2})\\mathbf{\\hat{j}_{1}} + (- \\sqrt{3} + \\frac{\\sqrt{2}}{2})\\mathbf{\\hat{k}_{1}}$"
          },
          "metadata": {}
        }
      ]
    },
    {
      "cell_type": "markdown",
      "metadata": {
        "id": "B8Je98zJCclg"
      },
      "source": [
        "### Задание 2\n",
        "Ввести безымянную систему координат M и символы $p$ и $q$.\n",
        "Вычислить $((v + u)\\cdot(v - u)) + (((2v + u)\\times(v - 3u))\\cdot(2v - 3u)) - ((3v - 2u)\\cdot((5v - u)\\times(- u)))$, $u(q, -p, q + p)$, $v(p, 2p - q, 1)$. Скалярное произведение обозначено $\\cdot$, векторное $\\times$.\n",
        "Использовать  & и ^, скобки расставить как в условии, поскольку приоритет у & и ^ ниже, чем у + и -. Упростить полученное выражение."
      ]
    },
    {
      "cell_type": "code",
      "source": [
        "M = CoordSys3D('M')\n",
        "display(M)\n",
        "p, q = symbols('p q')\n",
        "\n",
        "v = p * M.i + (2 * p - q) * M.j + M.k\n",
        "u = q * M.i - p * M.j + (q + p) * M.k\n",
        "\n",
        "res = ((v + u) & (v - u)) + (((2 * v + u) ^ (v - 3 * u)) & (2 * v - 3 * u)) - ((3 * v - 2 * u) & ((5 * v - u) ^ (-u)))\n",
        "display(res.simplify())"
      ],
      "metadata": {
        "id": "vpe_eZTGkaV_",
        "colab": {
          "base_uri": "https://localhost:8080/",
          "height": 100
        },
        "outputId": "858fde5a-b6cf-4b4e-8445-bfa3baca3ae3"
      },
      "execution_count": 4,
      "outputs": [
        {
          "output_type": "display_data",
          "data": {
            "text/plain": [
              "M"
            ],
            "text/latex": "$\\displaystyle CoordSys3D\\left(M, \\left( \\left[\\begin{matrix}1 & 0 & 0\\\\0 & 1 & 0\\\\0 & 0 & 1\\end{matrix}\\right], \\  \\mathbf{\\hat{0}}\\right)\\right)$"
          },
          "metadata": {}
        },
        {
          "output_type": "display_data",
          "data": {
            "text/plain": [
              "3*p**2 - 6*p*q - q**2 + 1"
            ],
            "text/latex": "$\\displaystyle 3 p^{2} - 6 p q - q^{2} + 1$"
          },
          "metadata": {}
        }
      ]
    },
    {
      "cell_type": "markdown",
      "metadata": {
        "id": "5M-6y40TCclh"
      },
      "source": [
        "### Задание 3\n",
        "Упростить вектор $g(-2p^2 + 5pq - 3q^2, \\cos(q) + 2\\sin(q - \\pi/2), \\sin^2(p) - \\cos^2(p))$.\n",
        "Вывести на экран координаты упрощенного вектора, его длину и проекции на координатные оси"
      ]
    },
    {
      "cell_type": "code",
      "source": [
        "g = (-2 * p**2 + 5 * p * q - 3 * q**2) * M.i + (Cos(q) + 2 * Sin(q - Pi / 2)) * M.j + (Sin(p)**2 - Cos(p)**2) * M.k\n",
        "g = g.factor().trigsimp()\n",
        "\n",
        "display(*map(Latex, map('\\ =\\ '.join,\n",
        "                    zip(('g', 'g.components', 'g.magnitude()', \n",
        "        'M.i.projection(g)', 'M.j.projection(g)', 'M.k.projection(g)',),\n",
        "                    map(latex,\n",
        "        (g, g.components, g.magnitude(), \n",
        "                    M.i.projection(g), M.j.projection(g), M.k.projection(g),\n",
        "        ))))))\n"
      ],
      "metadata": {
        "id": "s6WlgX5Ckc5V",
        "colab": {
          "base_uri": "https://localhost:8080/",
          "height": 169
        },
        "outputId": "77bc7f26-887f-4855-cf3e-cd3bc95b4f7a"
      },
      "execution_count": 5,
      "outputs": [
        {
          "output_type": "display_data",
          "data": {
            "text/plain": [
              "<IPython.core.display.Latex object>"
            ],
            "text/latex": "g\\ =\\ (- \\left(p - q\\right) \\left(2 p - 3 q\\right))\\mathbf{\\hat{i}_{M}} + (- \\cos{\\left(q \\right)})\\mathbf{\\hat{j}_{M}} + (- \\cos{\\left(2 p \\right)})\\mathbf{\\hat{k}_{M}}"
          },
          "metadata": {}
        },
        {
          "output_type": "display_data",
          "data": {
            "text/plain": [
              "<IPython.core.display.Latex object>"
            ],
            "text/latex": "g.components\\ =\\ \\left\\{ \\mathbf{\\hat{i}_{M}} : - \\left(p - q\\right) \\left(2 p - 3 q\\right), \\  \\mathbf{\\hat{j}_{M}} : - \\cos{\\left(q \\right)}, \\  \\mathbf{\\hat{k}_{M}} : - \\cos{\\left(2 p \\right)}\\right\\}"
          },
          "metadata": {}
        },
        {
          "output_type": "display_data",
          "data": {
            "text/plain": [
              "<IPython.core.display.Latex object>"
            ],
            "text/latex": "g.magnitude()\\ =\\ \\sqrt{\\left(p - q\\right)^{2} \\left(2 p - 3 q\\right)^{2} + \\cos^{2}{\\left(2 p \\right)} + \\cos^{2}{\\left(q \\right)}}"
          },
          "metadata": {}
        },
        {
          "output_type": "display_data",
          "data": {
            "text/plain": [
              "<IPython.core.display.Latex object>"
            ],
            "text/latex": "M.i.projection(g)\\ =\\ (- \\left(p - q\\right) \\left(2 p - 3 q\\right))\\mathbf{\\hat{i}_{M}}"
          },
          "metadata": {}
        },
        {
          "output_type": "display_data",
          "data": {
            "text/plain": [
              "<IPython.core.display.Latex object>"
            ],
            "text/latex": "M.j.projection(g)\\ =\\ (- \\cos{\\left(q \\right)})\\mathbf{\\hat{j}_{M}}"
          },
          "metadata": {}
        },
        {
          "output_type": "display_data",
          "data": {
            "text/plain": [
              "<IPython.core.display.Latex object>"
            ],
            "text/latex": "M.k.projection(g)\\ =\\ (- \\cos{\\left(2 p \\right)})\\mathbf{\\hat{k}_{M}}"
          },
          "metadata": {}
        }
      ]
    },
    {
      "cell_type": "markdown",
      "metadata": {
        "id": "nOqai9ifCclj"
      },
      "source": [
        "### Задание  4\n",
        "Преобразовать матрицу $\\left(\\begin{matrix}-q\\\\ p\\\\ q + p\\end{matrix}\\right)$ в вектор в системе координат из Заданий 1 и 2."
      ]
    },
    {
      "cell_type": "code",
      "source": [
        "b = Matrix([-p, q, q + p])\n",
        "display(*map(Latex, map(':\\ '.join, zip(('1', 'M'),\n",
        "                                        map(latex, (matrix_to_vector(b, N),\n",
        "                                                    matrix_to_vector(b, M)))))))"
      ],
      "metadata": {
        "id": "vhDPX2cakd_1",
        "outputId": "5603c9fb-ce07-4540-b584-18af808606ee",
        "colab": {
          "base_uri": "https://localhost:8080/",
          "height": 62
        }
      },
      "execution_count": 6,
      "outputs": [
        {
          "output_type": "display_data",
          "data": {
            "text/plain": [
              "<IPython.core.display.Latex object>"
            ],
            "text/latex": "1:\\ (- p)\\mathbf{\\hat{i}_{1}} + (q)\\mathbf{\\hat{j}_{1}} + (p + q)\\mathbf{\\hat{k}_{1}}"
          },
          "metadata": {}
        },
        {
          "output_type": "display_data",
          "data": {
            "text/plain": [
              "<IPython.core.display.Latex object>"
            ],
            "text/latex": "M:\\ (- p)\\mathbf{\\hat{i}_{M}} + (q)\\mathbf{\\hat{j}_{M}} + (p + q)\\mathbf{\\hat{k}_{M}}"
          },
          "metadata": {}
        }
      ]
    },
    {
      "cell_type": "markdown",
      "metadata": {
        "id": "hfKN73PnCclj"
      },
      "source": [
        "### Задание 5.\n",
        "Ввести новую систему координат S5, которая получается поворотом системы координат M из Задания 2 на угол $\\pi/4$ относительно оси $j$ по часовой стрелке.\n",
        "Определить вектор b5 на основе матрицы из Задания 4 в соответствии с системой координат M, затем получить представление в матричном виде вектора b5_S5 в системе координат S5.  Вывести на экран матрицу поворота, вектор b5 в системе координат M  и S5."
      ]
    },
    {
      "cell_type": "code",
      "source": [
        "S5 = M.orient_new_axis('S5', -Pi / 4, M.j)\n",
        "b5 = matrix_to_vector(b, M)\n",
        "b5_S5 = b5.to_matrix(S5)\n",
        "\n",
        "display(*map(Latex, map('\\ =\\ '.join,\n",
        "                        zip(('b5\\_M', 'b5\\_S5', 'M.rotation_matrix(S5)'),\n",
        "                            map(latex,\n",
        "                                (b5,\n",
        "                                 b5_S5,\n",
        "                                 M.rotation_matrix(S5)))))))"
      ],
      "metadata": {
        "id": "1o27xJDLkfO2",
        "colab": {
          "base_uri": "https://localhost:8080/",
          "height": 182
        },
        "outputId": "58054923-65ae-4e14-cc26-e3a403f1d0fd"
      },
      "execution_count": 7,
      "outputs": [
        {
          "output_type": "display_data",
          "data": {
            "text/plain": [
              "<IPython.core.display.Latex object>"
            ],
            "text/latex": "b5\\_M\\ =\\ (- p)\\mathbf{\\hat{i}_{M}} + (q)\\mathbf{\\hat{j}_{M}} + (p + q)\\mathbf{\\hat{k}_{M}}"
          },
          "metadata": {}
        },
        {
          "output_type": "display_data",
          "data": {
            "text/plain": [
              "<IPython.core.display.Latex object>"
            ],
            "text/latex": "b5\\_S5\\ =\\ \\left[\\begin{matrix}- \\frac{\\sqrt{2} p}{2} + \\frac{\\sqrt{2} \\left(p + q\\right)}{2}\\\\q\\\\\\frac{\\sqrt{2} p}{2} + \\frac{\\sqrt{2} \\left(p + q\\right)}{2}\\end{matrix}\\right]"
          },
          "metadata": {}
        },
        {
          "output_type": "display_data",
          "data": {
            "text/plain": [
              "<IPython.core.display.Latex object>"
            ],
            "text/latex": "M.rotation_matrix(S5)\\ =\\ \\left[\\begin{matrix}\\frac{\\sqrt{2}}{2} & 0 & - \\frac{\\sqrt{2}}{2}\\\\0 & 1 & 0\\\\\\frac{\\sqrt{2}}{2} & 0 & \\frac{\\sqrt{2}}{2}\\end{matrix}\\right]"
          },
          "metadata": {}
        }
      ]
    },
    {
      "cell_type": "markdown",
      "metadata": {
        "id": "wsupzWmVCclk"
      },
      "source": [
        "### Задание 6.\n",
        "Повернуть систему координат  M  из Задания 2 на $\\pi/4$ по часовой стрелке относительно оси, определяемой вектором $(1, -1, 0)$. Выразить вектор b5 в новой системе координат."
      ]
    },
    {
      "cell_type": "code",
      "source": [
        "M_new = M.orient_new_axis('M\\_new', -Pi / 4, M.i - M.j)\n",
        "b5_new = express(matrix_to_vector(b, M), M_new)\n",
        "display()\n",
        "display(Latex(f'$b5\\_new =' + latex(b5_new.simplify()) + '$'))"
      ],
      "metadata": {
        "id": "wyBDm-0Vkgie",
        "colab": {
          "base_uri": "https://localhost:8080/",
          "height": 42
        },
        "outputId": "7b8d4be0-4952-4a0d-9903-c9295d951e4d"
      },
      "execution_count": 23,
      "outputs": [
        {
          "output_type": "display_data",
          "data": {
            "text/plain": [
              "<IPython.core.display.Latex object>"
            ],
            "text/latex": "$b5\\_new =(- p - \\frac{\\sqrt{2} p}{4} - q + \\frac{\\sqrt{2} q}{4})\\mathbf{\\hat{i}_{M\\_new}} + (\\frac{\\sqrt{2} \\left(- p + q\\right)}{4})\\mathbf{\\hat{j}_{M\\_new}} + (- \\frac{p}{2} + \\frac{q}{2} + \\frac{\\sqrt{2} \\left(p + q\\right)}{2})\\mathbf{\\hat{k}_{M\\_new}}$"
          },
          "metadata": {}
        }
      ]
    },
    {
      "cell_type": "markdown",
      "metadata": {
        "id": "LVIOHcc0Ccll"
      },
      "source": [
        "### Индивидуальное задание.\n",
        "Ввести безымянную систему координат XYZ, задать в ней векторы $v_1(-2, 6, a)$ и $v_2(2a, -1, 1)$. Построить новую систему координат XYZ1 с именем Name поворотом  XYZ на $\\pi/3$ против часовой стрелки относительно оси, определяемой вектором $(\\sqrt{3}, 1, 0)$, выразить векторы $v_1$ и $v_2$ в новой системе координат. Найти скалярное и векторное произведение векторов в новой и старой системе координат. Выразить вектор, равный векторному произведению $v_1$ и $v_2$ в старой системе координат через новую систему координат, сравнить с векторным произведением $v_1$ и $v_2$, выраженных в новой системе координат."
      ]
    },
    {
      "cell_type": "code",
      "source": [
        "#126\n",
        "XYZ = CoordSys3D('')\n",
        "a = Symbol('a')\n",
        "v1 = Matrix([-7, 3, 5])\n",
        "v2 = Matrix([3, -8, 8])\n",
        "XYZ1 = XYZ.orient_new_axis('N1', -Pi / 3, 3 * XYZ.i + 9 * XYZ.j)\n",
        "\n",
        "\n",
        "v1_prev = matrix_to_vector(v1, XYZ)\n",
        "v2_prev = matrix_to_vector(v2, XYZ)\n",
        "v1_new = express(matrix_to_vector(v1, XYZ), XYZ1)\n",
        "v2_new = express(matrix_to_vector(v2, XYZ), XYZ1)\n",
        "\n",
        "scal_1 = v1_prev & v2_prev\n",
        "scal_2 = v1_new & v2_new\n",
        "vec_1 = v1_prev ^ v2_prev\n",
        "vec_2 = v1_new ^ v2_new\n",
        "new_vec_2 = express(vec_1, XYZ1)\n",
        "\n",
        "display(Latex(f'$v1\\_prev =' + latex(v1_prev.simplify()) + '$'))\n",
        "display(Latex(f'$v2\\_prev =' + latex(v2_prev.simplify()) + '$'))\n",
        "display(Latex(f'$v1\\_new =' + latex(v1_new.simplify()) + '$'))\n",
        "display(Latex(f'$v2\\_new =' + latex(v2_new.simplify()) + '$'))\n",
        "print('\\n')\n",
        "display(Latex(f'$scal_1 =' + latex(scal_1.simplify()) + '$'))\n",
        "display(Latex(f'$scal_2 =' + latex(scal_2.simplify()) + '$'))\n",
        "display(Latex(f'$vec_1 =' + latex(vec_1.simplify()) + '$'))\n",
        "display(Latex(f'$vec_2 =' + latex(vec_2.simplify()) + '$'))\n",
        "display(Latex(f'$new\\_vec_2 =' + latex(new_vec_2.simplify()) + '$'))\n"
      ],
      "metadata": {
        "id": "RXhG9Nfnkhr1",
        "colab": {
          "base_uri": "https://localhost:8080/",
          "height": 260
        },
        "outputId": "dce5155e-66cf-43c7-9b2e-87fb272480c8"
      },
      "execution_count": 36,
      "outputs": [
        {
          "output_type": "display_data",
          "data": {
            "text/plain": [
              "<IPython.core.display.Latex object>"
            ],
            "text/latex": "$v1\\_prev =(-7)\\mathbf{\\hat{i}_{}} + (3)\\mathbf{\\hat{j}_{}} + (5)\\mathbf{\\hat{k}_{}}$"
          },
          "metadata": {}
        },
        {
          "output_type": "display_data",
          "data": {
            "text/plain": [
              "<IPython.core.display.Latex object>"
            ],
            "text/latex": "$v2\\_prev =(3)\\mathbf{\\hat{i}_{}} + (-8)\\mathbf{\\hat{j}_{}} + (8)\\mathbf{\\hat{k}_{}}$"
          },
          "metadata": {}
        },
        {
          "output_type": "display_data",
          "data": {
            "text/plain": [
              "<IPython.core.display.Latex object>"
            ],
            "text/latex": "$v1\\_new =(- \\frac{17}{5} + \\frac{3 \\sqrt{30}}{4})\\mathbf{\\hat{i}_{N1}} + (\\frac{9}{5} - \\frac{\\sqrt{30}}{4})\\mathbf{\\hat{j}_{N1}} + (\\frac{5}{2} + \\frac{6 \\sqrt{30}}{5})\\mathbf{\\hat{k}_{N1}}$"
          },
          "metadata": {}
        },
        {
          "output_type": "display_data",
          "data": {
            "text/plain": [
              "<IPython.core.display.Latex object>"
            ],
            "text/latex": "$v2\\_new =(\\frac{9}{20} + \\frac{6 \\sqrt{30}}{5})\\mathbf{\\hat{i}_{N1}} + (- \\frac{143}{20} - \\frac{2 \\sqrt{30}}{5})\\mathbf{\\hat{j}_{N1}} + (4 - \\frac{17 \\sqrt{30}}{20})\\mathbf{\\hat{k}_{N1}}$"
          },
          "metadata": {}
        },
        {
          "output_type": "stream",
          "name": "stdout",
          "text": [
            "\n",
            "\n"
          ]
        },
        {
          "output_type": "display_data",
          "data": {
            "text/plain": [
              "<IPython.core.display.Latex object>"
            ],
            "text/latex": "$scal_1 =-5$"
          },
          "metadata": {}
        },
        {
          "output_type": "display_data",
          "data": {
            "text/plain": [
              "<IPython.core.display.Latex object>"
            ],
            "text/latex": "$scal_2 =-5$"
          },
          "metadata": {}
        },
        {
          "output_type": "display_data",
          "data": {
            "text/plain": [
              "<IPython.core.display.Latex object>"
            ],
            "text/latex": "$vec_1 =(64)\\mathbf{\\hat{i}_{}} + (71)\\mathbf{\\hat{j}_{}} + (47)\\mathbf{\\hat{k}_{}}$"
          },
          "metadata": {}
        },
        {
          "output_type": "display_data",
          "data": {
            "text/plain": [
              "<IPython.core.display.Latex object>"
            ],
            "text/latex": "$vec_2 =(\\frac{141 \\sqrt{30}}{20} + \\frac{917}{20})\\mathbf{\\hat{i}_{N1}} + (\\frac{1541}{20} - \\frac{47 \\sqrt{30}}{20})\\mathbf{\\hat{j}_{N1}} + (\\frac{47}{2} - \\frac{121 \\sqrt{30}}{20})\\mathbf{\\hat{k}_{N1}}$"
          },
          "metadata": {}
        },
        {
          "output_type": "display_data",
          "data": {
            "text/plain": [
              "<IPython.core.display.Latex object>"
            ],
            "text/latex": "$new\\_vec_2 =(\\frac{141 \\sqrt{30}}{20} + \\frac{917}{20})\\mathbf{\\hat{i}_{N1}} + (\\frac{1541}{20} - \\frac{47 \\sqrt{30}}{20})\\mathbf{\\hat{j}_{N1}} + (\\frac{47}{2} - \\frac{121 \\sqrt{30}}{20})\\mathbf{\\hat{k}_{N1}}$"
          },
          "metadata": {}
        }
      ]
    },
    {
      "cell_type": "markdown",
      "source": [
        "$vec_2 = new\\_vec_2$"
      ],
      "metadata": {
        "id": "nTLxpqTGs0AX"
      }
    }
  ]
}