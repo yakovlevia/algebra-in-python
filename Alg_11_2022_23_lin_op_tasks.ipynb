{
  "nbformat": 4,
  "nbformat_minor": 0,
  "metadata": {
    "kernelspec": {
      "display_name": "Python 3",
      "language": "python",
      "name": "python3"
    },
    "language_info": {
      "codemirror_mode": {
        "name": "ipython",
        "version": 3
      },
      "file_extension": ".py",
      "mimetype": "text/x-python",
      "name": "python",
      "nbconvert_exporter": "python",
      "pygments_lexer": "ipython3",
      "version": "3.7.3"
    },
    "colab": {
      "provenance": []
    }
  },
  "cells": [
    {
      "cell_type": "code",
      "metadata": {
        "id": "N4mLs7g4G85I"
      },
      "source": [
        "import sympy\n",
        "from sympy import Matrix, latex\n",
        "from sympy import pi as Pi\n",
        "from sympy import cos as Cos\n",
        "from sympy import sin as Sin\n",
        "import matplotlib.pyplot as plt\n",
        "from IPython.display import Latex"
      ],
      "execution_count": null,
      "outputs": []
    },
    {
      "cell_type": "markdown",
      "metadata": {
        "id": "L53ZTfO2G85R"
      },
      "source": [
        "# Практическое занятие 11\n",
        "# Компьютерный практикум по алгебре на Python\n",
        "## Линейные операторы на плоскости и в пространстве\n",
        "### Задание 1.\n",
        "Написать функцию, составляющую матрицу линейного оператора поворота на alpha градусов или радиан **по** или **против часовой стрелки** на плоскости. Параметры: обязательные - угол поворота, необязательные - тип меры угла (градусы или радианы), направление поворота (по или против часовой стрелки). Значения по умолчанию - против часовой стрелки в радианах.\n",
        "\n",
        "Использовать полученную функцию для выведения на экран координат векторов, полученных поворотом вектора [1, 2] \n",
        "\n",
        "1) на 10, 20, 45 градусов **по  часовой стрелке**\n",
        "\n",
        "2) на $\\pi/3$ радиан **против часовой стрелки**."
      ]
    },
    {
      "cell_type": "code",
      "source": [],
      "metadata": {
        "id": "9h-Bi8fI-aR-"
      },
      "execution_count": null,
      "outputs": []
    },
    {
      "cell_type": "markdown",
      "metadata": {
        "id": "oqFUkn1SG85T"
      },
      "source": [
        "### Задание 2.\n",
        "Найти собственные числа и собственные векторы линейного оператора, заданного матрицей \n",
        "$$\n",
        "\\left(\\begin{matrix}\n",
        "-34&20&-5\\\\\n",
        "-40&56&-20\\\\\n",
        "20&-8&50\n",
        "\\end{matrix}\\right)\n",
        "$$\n",
        "Воспользоваться eigenvals и eigenvects, проверить выполнение равенства нулю характеристического многочлена $|A-\\lambda E|$ и условия $Ax=\\lambda x$.\n"
      ]
    },
    {
      "cell_type": "code",
      "source": [],
      "metadata": {
        "id": "GSHRfBy4-cDl"
      },
      "execution_count": null,
      "outputs": []
    },
    {
      "cell_type": "markdown",
      "metadata": {
        "id": "4sQHp6cxG85U"
      },
      "source": [
        "### Задание 3.\n",
        "Построить матрицу оператора из задания 2 в базисе из векторов $(1,1,1)$, $(0,5,3)$ и $(1,6,0)$.\n"
      ]
    },
    {
      "cell_type": "code",
      "source": [],
      "metadata": {
        "id": "kY_F72NP-dWN"
      },
      "execution_count": null,
      "outputs": []
    },
    {
      "cell_type": "markdown",
      "metadata": {
        "id": "q0SjtudQG85V"
      },
      "source": [
        "### Задание 4.\n",
        "Построить матрицу оператора из задания 2 в базисе из собственных векторов с помощью eigenvects и матрицы перехода. Сравнить диагональные элементы с собственными числами."
      ]
    },
    {
      "cell_type": "code",
      "source": [],
      "metadata": {
        "id": "YnwKWID6-erN"
      },
      "execution_count": null,
      "outputs": []
    },
    {
      "cell_type": "markdown",
      "source": [
        "# Задание 5*\n",
        "Изобразить на графике вектор [1, 2] из Задания 1 и результаты его поворота (по Заданию 1). В легенде графика для каждого вектора, кроме [1, 2] указать матрицу поворота, а для [1, 2] единичную матрицу."
      ],
      "metadata": {
        "id": "eXSlGWqS9axu"
      }
    },
    {
      "cell_type": "code",
      "source": [],
      "metadata": {
        "id": "pD8Lk6Dp-SWT"
      },
      "execution_count": null,
      "outputs": []
    },
    {
      "cell_type": "markdown",
      "metadata": {
        "id": "DeW-9Q28G85W"
      },
      "source": [
        "###  Индивидуальное задание\n",
        "Найти собственные числа и собственные векторы линейного оператора. Построить матрицу оператора в заданном базисе. Построить матрицу оператора в базисе из собственных векторов.\n",
        "\n",
        "Вывести на экран матрицу оператора А, матрицу перехода к базису ($e_1$, $e_2$, $e_3$), матрицу оператора в базисе ($e_1$, $e_2$, $e_3$), матрицу перехода к базису из собственных векторов, матрицу оператора в базисе из собственных векторов.\n",
        "\n",
        "Матрица оператора A, векторы базиса $e_1$, $e_2$, $e_3$:\n",
        "$$\n",
        "A = \\left(\n",
        "\\begin{matrix}\n",
        "48 & -12 & -4\\\\\n",
        "-40 & 44 & -8\\\\\n",
        "50 & 30 & 78\n",
        "\\end{matrix}\\right),\n",
        "\\quad \n",
        "e_1 = \\left(\n",
        "\\begin{matrix}\n",
        "2\\\\ -1\\\\ 3\n",
        "\\end{matrix}\n",
        "\\right)\n",
        "\\quad \n",
        "e_2 = \n",
        "\\left(\\begin{matrix}\n",
        "2\\\\ 0\\\\ -3\n",
        "\\end{matrix}\\right)\n",
        "\\quad \n",
        "e_3 = \n",
        "\\left(\\begin{matrix}\n",
        "5\\\\ 1\\\\ -2\n",
        "\\end{matrix}\\right)\n",
        "$$"
      ]
    },
    {
      "cell_type": "code",
      "source": [],
      "metadata": {
        "id": "Z_OtrVQe-ihW"
      },
      "execution_count": null,
      "outputs": []
    }
  ]
}