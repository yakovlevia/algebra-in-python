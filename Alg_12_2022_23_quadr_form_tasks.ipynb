{
  "cells": [
    {
      "cell_type": "code",
      "execution_count": 3,
      "metadata": {
        "id": "nVsRFN7HPrjP"
      },
      "outputs": [],
      "source": [
        "import sympy\n",
        "from sympy import Eq, S, latex, plot_implicit, Matrix, symbols\n",
        "from sympy import simplify, expand, collect, solve, solveset\n",
        "from sympy import pi as Pi\n",
        "from sympy import cos as Cos\n",
        "from sympy import sin as Sin\n",
        "from IPython.display import Latex"
      ]
    },
    {
      "cell_type": "markdown",
      "metadata": {
        "id": "iy2K466yPrjR"
      },
      "source": [
        "# Практическое занятие 12\n",
        "# Компьютерный практикум по алгебре на Python\n",
        "### Задание 1.\n",
        "Составить матрицу квадратичной формы $7x^2+10\\sqrt{3}xy-3y^2−20z^2$, проверить, что она определяет именно заданное уравнение. Найти и вывести на экран собственные числа и собственные векторы матрицы квадратичной формы. "
      ]
    },
    {
      "cell_type": "code",
      "source": [
        "from sympy.abc import x, y, z\n",
        "u = 7 * x**2 - 3 * y**2 - 20 * z**2 + 10 * sympy.sqrt(3) * x * y\n",
        "A = Matrix([[7, 5 * sympy.sqrt(3), 0], [5 * sympy.sqrt(3), -3, 0], [0, 0, -20]])\n",
        "display(Latex(f'A = {latex(A)}'))\n",
        "X = Matrix([x, y, z])\n",
        "res = X.T * A * X\n",
        "quadr_form = simplify(expand(res[0]))\n",
        "display(Latex(f'X = {latex(X)},\\ X^T  A  X = {latex(quadr_form)},\\ \\\n",
        "X^T  A  X - u = {latex(quadr_form - u)}'))\n",
        "\n",
        "ev = A.eigenvects()\n",
        "for a, b, c in ev:\n",
        "  display(Latex('\\lambda = ' + latex(a) + '; ' + 'v =' + latex(*c)))"
      ],
      "metadata": {
        "id": "1CYanPco8FlA",
        "colab": {
          "base_uri": "https://localhost:8080/",
          "height": 329
        },
        "outputId": "d056afa8-728f-4d5d-ecb6-4e755587afa2"
      },
      "execution_count": 4,
      "outputs": [
        {
          "output_type": "display_data",
          "data": {
            "text/plain": [
              "<IPython.core.display.Latex object>"
            ],
            "text/latex": "A = \\left[\\begin{matrix}7 & 5 \\sqrt{3} & 0\\\\5 \\sqrt{3} & -3 & 0\\\\0 & 0 & -20\\end{matrix}\\right]"
          },
          "metadata": {}
        },
        {
          "output_type": "display_data",
          "data": {
            "text/plain": [
              "<IPython.core.display.Latex object>"
            ],
            "text/latex": "X = \\left[\\begin{matrix}x\\\\y\\\\z\\end{matrix}\\right],\\ X^T  A  X = 7 x^{2} + 10 \\sqrt{3} x y - 3 y^{2} - 20 z^{2},\\ X^T  A  X - u = 0"
          },
          "metadata": {}
        },
        {
          "output_type": "display_data",
          "data": {
            "text/plain": [
              "<IPython.core.display.Latex object>"
            ],
            "text/latex": "\\lambda = -20; v =\\left[\\begin{matrix}0\\\\0\\\\1\\end{matrix}\\right]"
          },
          "metadata": {}
        },
        {
          "output_type": "display_data",
          "data": {
            "text/plain": [
              "<IPython.core.display.Latex object>"
            ],
            "text/latex": "\\lambda = -8; v =\\left[\\begin{matrix}- \\frac{\\sqrt{3}}{3}\\\\1\\\\0\\end{matrix}\\right]"
          },
          "metadata": {}
        },
        {
          "output_type": "display_data",
          "data": {
            "text/plain": [
              "<IPython.core.display.Latex object>"
            ],
            "text/latex": "\\lambda = 12; v =\\left[\\begin{matrix}\\sqrt{3}\\\\1\\\\0\\end{matrix}\\right]"
          },
          "metadata": {}
        }
      ]
    },
    {
      "cell_type": "markdown",
      "metadata": {
        "id": "9UM-8WNdPrjW"
      },
      "source": [
        "### Задание 2.\n",
        "Привести квадратичную форму Примера 1 к каноническому виду с помощью перехода к новому базису из собственных векторов."
      ]
    },
    {
      "cell_type": "code",
      "source": [
        "P = Matrix([Matrix([vect.normalized() for vect in vects]).T for num, multipl, vects in ev]).T\n",
        "display(Latex(f'P = {latex(P)}'))\n",
        "A_new = P.T * A * P\n",
        "display(Latex(f'A\\_new =' + latex(simplify(A_new))))\n",
        "eq2 = X.T * A_new * X\n",
        "display(*eq2)"
      ],
      "metadata": {
        "id": "MyFWP3yP8Gmf",
        "colab": {
          "base_uri": "https://localhost:8080/",
          "height": 171
        },
        "outputId": "90875713-9ff9-4719-cee4-ba4e708de7af"
      },
      "execution_count": 6,
      "outputs": [
        {
          "output_type": "display_data",
          "data": {
            "text/plain": [
              "<IPython.core.display.Latex object>"
            ],
            "text/latex": "P = \\left[\\begin{matrix}0 & - \\frac{1}{2} & \\frac{\\sqrt{3}}{2}\\\\0 & \\frac{\\sqrt{3}}{2} & \\frac{1}{2}\\\\1 & 0 & 0\\end{matrix}\\right]"
          },
          "metadata": {}
        },
        {
          "output_type": "display_data",
          "data": {
            "text/plain": [
              "<IPython.core.display.Latex object>"
            ],
            "text/latex": "A\\_new =\\left[\\begin{matrix}-20 & 0 & 0\\\\0 & -8 & 0\\\\0 & 0 & 12\\end{matrix}\\right]"
          },
          "metadata": {}
        },
        {
          "output_type": "display_data",
          "data": {
            "text/plain": [
              "-20*x**2 - 8*y**2 + 12*z**2"
            ],
            "text/latex": "$\\displaystyle - 20 x^{2} - 8 y^{2} + 12 z^{2}$"
          },
          "metadata": {}
        }
      ]
    },
    {
      "cell_type": "markdown",
      "metadata": {
        "id": "D7VmR2N5PrjY"
      },
      "source": [
        "### Задание 3.\n",
        "Определить тип кривой второго порядка, заданной уравнением\n",
        "$$\n",
        "97x^2 - 144xy + 97y^2 + 482x - 532y = 3452\n",
        "$$\n",
        "Построить в одной координатной плоскости график заданного уравнения и канонического уравнения соответствующей кривой, каноническое уравнение сделать названием графика. "
      ]
    },
    {
      "cell_type": "code",
      "source": [
        "A3 = Matrix([[97, -72, 241], [-72, 97, -266], [241, -266, -3452]])\n",
        "X3 = Matrix([x, y, 1])\n",
        "display(Latex(f'A_3 = {latex(A3)}, X_3 = {latex(X3)}'))\n",
        "eq3 = Eq(simplify(expand(X3.T * A3 * X3))[0], 0)\n",
        "display(Latex(f'eq_3 =' + latex(eq3)))"
      ],
      "metadata": {
        "id": "3RLRUbT58HuG",
        "colab": {
          "base_uri": "https://localhost:8080/",
          "height": 100
        },
        "outputId": "00698c0b-95b2-4277-d8dc-61af3788e578"
      },
      "execution_count": null,
      "outputs": [
        {
          "output_type": "display_data",
          "data": {
            "text/plain": [
              "<IPython.core.display.Latex object>"
            ],
            "text/latex": "A_3 = \\left[\\begin{matrix}97 & -72 & 241\\\\-72 & 97 & -266\\\\241 & -266 & -3452\\end{matrix}\\right], X_3 = \\left[\\begin{matrix}x\\\\y\\\\1\\end{matrix}\\right]"
          },
          "metadata": {}
        },
        {
          "output_type": "display_data",
          "data": {
            "text/plain": [
              "<IPython.core.display.Latex object>"
            ],
            "text/latex": "eq_3 =97 x^{2} - 144 x y + 482 x + 97 y^{2} - 532 y - 3452 = 0"
          },
          "metadata": {}
        }
      ]
    },
    {
      "cell_type": "code",
      "source": [
        "alpha = sympy.acot((A3[0, 0] - A3[1, 1]) / (2 * A3[0, 1])) / 2\n",
        "P = Matrix([[Cos(alpha), -Sin(alpha), 0],\n",
        "            [Sin(alpha), Cos(alpha), 0],\n",
        "            [0, 0, 1]])\n",
        "P.simplify()\n",
        "display(Latex(f'P =' + latex(simplify(P))))"
      ],
      "metadata": {
        "colab": {
          "base_uri": "https://localhost:8080/",
          "height": 88
        },
        "id": "NzrcHp-Chuib",
        "outputId": "4b9b6fa8-d883-4068-df17-13f1e4afa06e"
      },
      "execution_count": null,
      "outputs": [
        {
          "output_type": "display_data",
          "data": {
            "text/plain": [
              "<IPython.core.display.Latex object>"
            ],
            "text/latex": "P =\\left[\\begin{matrix}\\frac{\\sqrt{2}}{2} & - \\frac{\\sqrt{2}}{2} & 0\\\\\\frac{\\sqrt{2}}{2} & \\frac{\\sqrt{2}}{2} & 0\\\\0 & 0 & 1\\end{matrix}\\right]"
          },
          "metadata": {}
        }
      ]
    },
    {
      "cell_type": "code",
      "source": [
        "from sympy.abc import X, Y, Z\n",
        "A3_new = P.T * A3 * P\n",
        "A3_new.simplify()\n",
        "display(Latex(f'A_{{3\\_new}} =' + latex(simplify(A3_new))))\n",
        "\n",
        "X3 = Matrix((X, Y, 1))\n",
        "simplify(expand((X3.T * A3_new * X3)[0]))\n",
        "\n",
        "X3_new = Matrix((X - A3_new[0, 2] / A3_new[0, 0],\n",
        "                 Y - A3_new[1, 2] / A3_new[1, 1],\n",
        "                 1))\n",
        "\n",
        "eq3_new = simplify(expand(X3_new.T * A3_new * X3_new))[0]\n",
        "display(Latex(f'X_{{3\\_new}} = {latex(X3_new)},\\ \\\n",
        "eq_{{3\\_new}} = {latex(eq3_new)}'))\n",
        "\n",
        "free = eq3_new.subs({X: 0, Y: 0})\n",
        "eq3_last = eq3_new / (-free) + 1\n",
        "eq3_last_xy = Eq(eq3_last.subs({X: x, Y: y}), 1)\n",
        "display(eq3_last_xy)\n",
        "print('\\n')\n",
        "\n",
        "p = plot_implicit(eq3, (x, -20, 20), (y, -20, 20), line_color='g', aspect_ratio=(1, 1),\n",
        "                  xlabel='$x$', ylabel='$y$', \n",
        "                   title=f'{latex(eq3_last_xy, mode=\"inline\")}\\n',\n",
        "                   adaptive=False, show=False)\n",
        "p.extend(plot_implicit(eq3_last_xy, (x, -20, 20), (y, -20, 20), line_color='m',\n",
        "                       aspect_ratio=(1, 1), adaptive=False, show=False))\n",
        "p.show()"
      ],
      "metadata": {
        "colab": {
          "base_uri": "https://localhost:8080/",
          "height": 512
        },
        "id": "kQibvDo6hzWV",
        "outputId": "a55ff6cd-56cd-4ec0-a75c-006b48e9f799"
      },
      "execution_count": null,
      "outputs": [
        {
          "output_type": "display_data",
          "data": {
            "text/plain": [
              "<IPython.core.display.Latex object>"
            ],
            "text/latex": "A_{3\\_new} =\\left[\\begin{matrix}25 & 0 & - \\frac{25 \\sqrt{2}}{2}\\\\0 & 169 & - \\frac{507 \\sqrt{2}}{2}\\\\- \\frac{25 \\sqrt{2}}{2} & - \\frac{507 \\sqrt{2}}{2} & -3452\\end{matrix}\\right]"
          },
          "metadata": {}
        },
        {
          "output_type": "display_data",
          "data": {
            "text/plain": [
              "<IPython.core.display.Latex object>"
            ],
            "text/latex": "X_{3\\_new} = \\left[\\begin{matrix}X + \\frac{\\sqrt{2}}{2}\\\\Y + \\frac{3 \\sqrt{2}}{2}\\\\1\\end{matrix}\\right],\\ eq_{3\\_new} = 25 X^{2} + 169 Y^{2} - 4225"
          },
          "metadata": {}
        },
        {
          "output_type": "display_data",
          "data": {
            "text/plain": [
              "Eq(x**2/169 + y**2/25, 1)"
            ],
            "text/latex": "$\\displaystyle \\frac{x^{2}}{169} + \\frac{y^{2}}{25} = 1$"
          },
          "metadata": {}
        },
        {
          "output_type": "stream",
          "name": "stdout",
          "text": [
            "\n",
            "\n"
          ]
        },
        {
          "output_type": "display_data",
          "data": {
            "text/plain": [
              "<Figure size 432x288 with 1 Axes>"
            ],
            "image/png": "[encoded data removed]"
          },
          "metadata": {
            "needs_background": "light"
          }
        }
      ]
    },
    {
      "cell_type": "markdown",
      "metadata": {
        "id": "goIfBxdUPrja"
      },
      "source": [
        "### Задание 4.\n",
        "Определить тип кривой второго порядка, заданной уравнением\n",
        "$$\n",
        "x^2+2xy+y^2-4x+4y=4\n",
        "$$\n",
        "Построить в одной координатной плоскости график заданного уравнения и канонического уравнения соответствующей кривой, каноническое уравнение сделать названием графика. \n",
        "\n",
        "Указание: каноническое уравнение параболы $y^2 = 2px$ или $x^2 = 2py$; для того, чтобы выразить $x$ или $y$ можно воспользоваться solve или solveset."
      ]
    },
    {
      "cell_type": "code",
      "source": [
        "A4 = Matrix([[1, 1, -2], [1, 1, 2], [-2, 2, -4]])\n",
        "X4 = Matrix([x, y, 1])\n",
        "display(Latex(f'A_4 = {latex(A4)}, X_4 = {latex(X4)}'))\n",
        "eq4 = Eq(simplify(expand(X4.T * A4 * X4))[0], 0)\n",
        "display(Latex(f'eq_4 =' + latex(eq4)))"
      ],
      "metadata": {
        "id": "K0D6Tn7b8JHn",
        "colab": {
          "base_uri": "https://localhost:8080/",
          "height": 100
        },
        "outputId": "407c1cc3-b9b2-4fd2-9167-0fd1cf7a5886"
      },
      "execution_count": 8,
      "outputs": [
        {
          "output_type": "display_data",
          "data": {
            "text/plain": [
              "<IPython.core.display.Latex object>"
            ],
            "text/latex": "A_4 = \\left[\\begin{matrix}1 & 1 & -2\\\\1 & 1 & 2\\\\-2 & 2 & -4\\end{matrix}\\right], X_4 = \\left[\\begin{matrix}x\\\\y\\\\1\\end{matrix}\\right]"
          },
          "metadata": {}
        },
        {
          "output_type": "display_data",
          "data": {
            "text/plain": [
              "<IPython.core.display.Latex object>"
            ],
            "text/latex": "eq_4 =x^{2} + 2 x y - 4 x + y^{2} + 4 y - 4 = 0"
          },
          "metadata": {}
        }
      ]
    },
    {
      "cell_type": "code",
      "source": [
        "alpha = sympy.acot((A4[0, 0] - A4[1, 1]) / (2 * A4[0, 1])) / 2\n",
        "P = Matrix([[Cos(alpha), -Sin(alpha), 0],\n",
        "            [Sin(alpha), Cos(alpha), 0],\n",
        "            [0, 0, 1]])\n",
        "P.simplify()\n",
        "display(Latex(f'P =' + latex(simplify(P))))"
      ],
      "metadata": {
        "colab": {
          "base_uri": "https://localhost:8080/",
          "height": 88
        },
        "id": "vmQcDkqwkg8C",
        "outputId": "2e22a0fa-38f2-4810-ac9d-9020f2531dfa"
      },
      "execution_count": 9,
      "outputs": [
        {
          "output_type": "display_data",
          "data": {
            "text/plain": [
              "<IPython.core.display.Latex object>"
            ],
            "text/latex": "P =\\left[\\begin{matrix}\\frac{\\sqrt{2}}{2} & - \\frac{\\sqrt{2}}{2} & 0\\\\\\frac{\\sqrt{2}}{2} & \\frac{\\sqrt{2}}{2} & 0\\\\0 & 0 & 1\\end{matrix}\\right]"
          },
          "metadata": {}
        }
      ]
    },
    {
      "cell_type": "code",
      "source": [
        "from sympy.abc import X, Y, Z\n",
        "A4_new = P.T * A4 * P\n",
        "A4_new.simplify()\n",
        "display(Latex(f'A_{{4\\_new}} =' + latex(simplify(A4_new))))\n",
        "\n",
        "X4 = Matrix((X, Y, 1))\n",
        "eq4_new = Eq(simplify(expand((X4.T * A4_new * X4)[0])), 0)\n",
        "sol = list(solveset(eq4_new, X**2))[0]\n",
        "sol_last = Eq(x**2, sol.subs({X: x, Y: y -}))\n",
        "\n",
        "p = plot_implicit(eq4, (x, -10, 10), (y, -10, 10), line_color='g', aspect_ratio=(1, 1),\n",
        "                  xlabel='$x$', ylabel='$y$', \n",
        "                   title=f'{latex(sol_last, mode=\"inline\")}\\n',\n",
        "                   adaptive=False, show=False)\n",
        "p.extend(plot_implicit(sol_last, (x, -10, 10), (y, -10, 10), line_color='m',\n",
        "                       aspect_ratio=(1, 1), adaptive=False, show=False))\n",
        "p.show()"
      ],
      "metadata": {
        "colab": {
          "base_uri": "https://localhost:8080/",
          "height": 360
        },
        "id": "2VEzDU79khTF",
        "outputId": "39392c0d-e0bf-4699-c846-1e66d8f5007f"
      },
      "execution_count": 12,
      "outputs": [
        {
          "output_type": "display_data",
          "data": {
            "text/plain": [
              "<IPython.core.display.Latex object>"
            ],
            "text/latex": "A_{4\\_new} =\\left[\\begin{matrix}2 & 0 & 0\\\\0 & 0 & 2 \\sqrt{2}\\\\0 & 2 \\sqrt{2} & -4\\end{matrix}\\right]"
          },
          "metadata": {}
        },
        {
          "output_type": "display_data",
          "data": {
            "text/plain": [
              "<Figure size 432x288 with 1 Axes>"
            ],
            "image/png": "[encoded data removed]"
          },
          "metadata": {
            "needs_background": "light"
          }
        }
      ]
    },
    {
      "cell_type": "markdown",
      "metadata": {
        "id": "WM4LDoZIPrjc"
      },
      "source": [
        "###  Индивидуальное задание\n",
        "Составить матрицу квадратичной формы и привести ее к каноническому виду с помощью перехода к новому базису из собственных векторов. Векторы выводить на экран не нужно. Вывести на экран матрицу в исходном виде и канонической форме, а также саму квадратичную форму в каноническом виде."
      ]
    },
    {
      "cell_type": "code",
      "source": [
        "#126\n",
        "\n",
        "from sympy.abc import x, y, z\n",
        "u = 4949 * x**2 + 30 * sympy.sqrt(11) * x * y + 204 * sympy.sqrt(6) * x * z + 1275 * y**2 - 60 * sympy.sqrt(66) * y * z + 3776 * z**2\n",
        "A = Matrix([[4949, 15 * sympy.sqrt(11), 102 * sympy.sqrt(6)], [15 * sympy.sqrt(11), 1275, -30 * sympy.sqrt(66)], [102 * sympy.sqrt(6), -30 * sympy.sqrt(66), 3776]])\n",
        "display(u, Latex(f'A = {latex(A)}'))\n",
        "X = Matrix([x, y, z])\n",
        "res = X.T * A * X\n",
        "quadr_form = simplify(expand(res[0]))\n",
        "\n",
        "#display(Latex(f'X = {latex(X)},\\ X^T  A  X = {latex(quadr_form)},\\ \\\n",
        "#X^T  A  X - u = {latex(quadr_form - u)}'))\n",
        "\n",
        "ev = A.eigenvects()\n",
        "P = Matrix([Matrix([vect.normalized() for vect in vects]).T for num, multipl, vects in ev]).T\n",
        "A_new = P.T * A * P\n",
        "display(Latex(f'A\\_new =' + latex(simplify(A_new))))\n",
        "\n",
        "res = simplify(expand(X.T * A_new * X))[0]\n",
        "display(res)"
      ],
      "metadata": {
        "id": "cRLl3w7V8K1v",
        "colab": {
          "base_uri": "https://localhost:8080/",
          "height": 209
        },
        "outputId": "8eb27b12-9243-4009-88d1-4a3049d9efeb"
      },
      "execution_count": 13,
      "outputs": [
        {
          "output_type": "display_data",
          "data": {
            "text/plain": [
              "4949*x**2 + 30*sqrt(11)*x*y + 204*sqrt(6)*x*z + 1275*y**2 - 60*sqrt(66)*y*z + 3776*z**2"
            ],
            "text/latex": "$\\displaystyle 4949 x^{2} + 30 \\sqrt{11} x y + 204 \\sqrt{6} x z + 1275 y^{2} - 60 \\sqrt{66} y z + 3776 z^{2}$"
          },
          "metadata": {}
        },
        {
          "output_type": "display_data",
          "data": {
            "text/plain": [
              "<IPython.core.display.Latex object>"
            ],
            "text/latex": "A = \\left[\\begin{matrix}4949 & 15 \\sqrt{11} & 102 \\sqrt{6}\\\\15 \\sqrt{11} & 1275 & - 30 \\sqrt{66}\\\\102 \\sqrt{6} & - 30 \\sqrt{66} & 3776\\end{matrix}\\right]"
          },
          "metadata": {}
        },
        {
          "output_type": "display_data",
          "data": {
            "text/plain": [
              "<IPython.core.display.Latex object>"
            ],
            "text/latex": "A\\_new =\\left[\\begin{matrix}1250 & 0 & 0\\\\0 & 3750 & 0\\\\0 & 0 & 5000\\end{matrix}\\right]"
          },
          "metadata": {}
        },
        {
          "output_type": "display_data",
          "data": {
            "text/plain": [
              "4949*x**2 + 30*sqrt(11)*x*y + 204*sqrt(6)*x*z + 1275*y**2 - 60*sqrt(66)*y*z + 3776*z**2"
            ],
            "text/latex": "$\\displaystyle 4949 x^{2} + 30 \\sqrt{11} x y + 204 \\sqrt{6} x z + 1275 y^{2} - 60 \\sqrt{66} y z + 3776 z^{2}$"
          },
          "metadata": {}
        },
        {
          "output_type": "display_data",
          "data": {
            "text/plain": [
              "1250*x**2 + 3750*y**2 + 5000*z**2"
            ],
            "text/latex": "$\\displaystyle 1250 x^{2} + 3750 y^{2} + 5000 z^{2}$"
          },
          "metadata": {}
        }
      ]
    }
  ],
  "metadata": {
    "kernelspec": {
      "display_name": "Python 3",
      "language": "python",
      "name": "python3"
    },
    "language_info": {
      "codemirror_mode": {
        "name": "ipython",
        "version": 3
      },
      "file_extension": ".py",
      "mimetype": "text/x-python",
      "name": "python",
      "nbconvert_exporter": "python",
      "pygments_lexer": "ipython3",
      "version": "3.7.3"
    },
    "colab": {
      "provenance": []
    }
  },
  "nbformat": 4,
  "nbformat_minor": 0
}