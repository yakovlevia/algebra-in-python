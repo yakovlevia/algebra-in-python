{
  "cells": [
    {
      "cell_type": "code",
      "execution_count": 162,
      "metadata": {
        "id": "9TQ50NoSQIPp"
      },
      "outputs": [],
      "source": [
        "import sympy\n",
        "from sympy import Ellipse, Point, Line, S, Eq, latex, plot_implicit\n",
        "from sympy import symbols, simplify, Rational, solve, linsolve, expand, factor\n",
        "from IPython.display import Latex"
      ]
    },
    {
      "cell_type": "markdown",
      "metadata": {
        "id": "lMQdka37QIPr"
      },
      "source": [
        "# Практическое занятие 14\n",
        "# Компьютерный практикум по алгебре на Python\n",
        "### Задание 1.\n",
        "Построить эллипс с центром в точке А(1, 2), полуосями 3 и 2. Вычислить и вывести на экран эксцентриситет, площадь и длину дуги полученного эллипса, центр, полуоси, periapsis, apoapsis, межфокусное расстояние и фокусы."
      ]
    },
    {
      "cell_type": "code",
      "source": [
        "Ellipse1 = Ellipse(Point(1, 2), hradius=3, vradius=2)\n",
        "\n",
        "props = {'eccentricity': Ellipse1.eccentricity,\n",
        "         'area': Ellipse1.area,\n",
        "         'circumference': Ellipse1.circumference,\n",
        "         'center': Ellipse1.center,\n",
        "         'hradius': Ellipse1.hradius,\n",
        "         'vradius': Ellipse1.vradius,\n",
        "         'periapsis': Ellipse1.periapsis,\n",
        "         'apoapsis': Ellipse1.apoapsis,\n",
        "         'focus\\_distance': Ellipse1.focus_distance,\n",
        "         'foci': Ellipse1.foci}\n",
        "display(*[Latex(f'{key} = {latex(props[key])}') for key in props])"
      ],
      "metadata": {
        "id": "U2_43E7WUZMi",
        "colab": {
          "base_uri": "https://localhost:8080/",
          "height": 236
        },
        "outputId": "841c4981-5357-443f-b7df-df9792358a08"
      },
      "execution_count": 163,
      "outputs": [
        {
          "output_type": "display_data",
          "data": {
            "text/plain": [
              "<IPython.core.display.Latex object>"
            ],
            "text/latex": "eccentricity = \\frac{\\sqrt{5}}{3}"
          },
          "metadata": {}
        },
        {
          "output_type": "display_data",
          "data": {
            "text/plain": [
              "<IPython.core.display.Latex object>"
            ],
            "text/latex": "area = 6 \\pi"
          },
          "metadata": {}
        },
        {
          "output_type": "display_data",
          "data": {
            "text/plain": [
              "<IPython.core.display.Latex object>"
            ],
            "text/latex": "circumference = 12 E\\left(\\frac{5}{9}\\right)"
          },
          "metadata": {}
        },
        {
          "output_type": "display_data",
          "data": {
            "text/plain": [
              "<IPython.core.display.Latex object>"
            ],
            "text/latex": "center = Point2D\\left(1, 2\\right)"
          },
          "metadata": {}
        },
        {
          "output_type": "display_data",
          "data": {
            "text/plain": [
              "<IPython.core.display.Latex object>"
            ],
            "text/latex": "hradius = 3"
          },
          "metadata": {}
        },
        {
          "output_type": "display_data",
          "data": {
            "text/plain": [
              "<IPython.core.display.Latex object>"
            ],
            "text/latex": "vradius = 2"
          },
          "metadata": {}
        },
        {
          "output_type": "display_data",
          "data": {
            "text/plain": [
              "<IPython.core.display.Latex object>"
            ],
            "text/latex": "periapsis = 3 - \\sqrt{5}"
          },
          "metadata": {}
        },
        {
          "output_type": "display_data",
          "data": {
            "text/plain": [
              "<IPython.core.display.Latex object>"
            ],
            "text/latex": "apoapsis = \\sqrt{5} + 3"
          },
          "metadata": {}
        },
        {
          "output_type": "display_data",
          "data": {
            "text/plain": [
              "<IPython.core.display.Latex object>"
            ],
            "text/latex": "focus\\_distance = \\sqrt{5}"
          },
          "metadata": {}
        },
        {
          "output_type": "display_data",
          "data": {
            "text/plain": [
              "<IPython.core.display.Latex object>"
            ],
            "text/latex": "foci = \\left( Point2D\\left(1 - \\sqrt{5}, 2\\right), \\  Point2D\\left(1 + \\sqrt{5}, 2\\right)\\right)"
          },
          "metadata": {}
        }
      ]
    },
    {
      "cell_type": "markdown",
      "metadata": {
        "id": "psl_l7iEQIPv"
      },
      "source": [
        "### Задание 2.\n",
        "Вывести на экран **уравнение** эллипса из задания 1, повернутого на 30 градусов против часовой стрелки относительно его центра,  переменные $u$ и $v$.\n",
        "\n",
        "Изобразить на общем графике эллипс и повернутый эллипс."
      ]
    },
    {
      "cell_type": "code",
      "source": [
        "u, v, x, y = symbols('u v x y')\n",
        "\n",
        "expr2 = Ellipse1.equation(x = 'u', y = 'v')\n",
        "eq2 = Eq(expr2, 0)\n",
        "right_side = -expr2.as_coeff_add()[0]\n",
        "eq2_new = Eq(expr2 + right_side, right_side)\n",
        "\n",
        "expr2_slope = Ellipse1.equation(x = 'u', y = 'v', _slope=sympy.tan(30 * sympy.pi / 180))\n",
        "eq2_slope = Eq(expr2_slope, 0)\n",
        "right_slope_side = -expr2_slope.as_coeff_add()[0]\n",
        "eq2_slope_new = Eq(expr2_slope + right_slope_side, right_slope_side)\n",
        "display(eq2_new, eq2_slope_new)\n",
        "\n",
        "symb_free = eq2_slope.free_symbols\n",
        "dict_free = {str(a): a for a in symb_free}\n",
        "\n",
        "graph = plot_implicit(eq2_new,\n",
        "              (dict_free['u'], -5, 5),\n",
        "              (dict_free['v'], -5, 5),\n",
        "              aspect_ratio=(1, 1),\n",
        "              show = False,\n",
        "              adaptive=False,\n",
        "              line_color = 'r')\n",
        "\n",
        "graph.extend(plot_implicit(eq2_slope_new,\n",
        "              (dict_free['u'], -5, 5),\n",
        "              (dict_free['v'], -5, 5),\n",
        "              aspect_ratio=(1, 1),\n",
        "              show = False,\n",
        "              adaptive=False,\n",
        "              line_color = 'g')\n",
        ")\n",
        "\n",
        "graph.show()"
      ],
      "metadata": {
        "id": "5GL53MviUaYQ",
        "colab": {
          "base_uri": "https://localhost:8080/",
          "height": 393
        },
        "outputId": "8e7174e0-da31-46b5-c9a2-3dd29c15071e"
      },
      "execution_count": 164,
      "outputs": [
        {
          "output_type": "display_data",
          "data": {
            "text/plain": [
              "Eq((u/3 - 1/3)**2 + (v/2 - 1)**2, 1)"
            ],
            "text/latex": "$\\displaystyle \\left(\\frac{u}{3} - \\frac{1}{3}\\right)^{2} + \\left(\\frac{v}{2} - 1\\right)^{2} = 1$"
          },
          "metadata": {}
        },
        {
          "output_type": "display_data",
          "data": {
            "text/plain": [
              "Eq((u + sqrt(3)*(v - 2)/3 - 1)**2/12 + 3*(v - sqrt(3)*(u - 1)/3 - 2)**2/16, 1)"
            ],
            "text/latex": "$\\displaystyle \\frac{\\left(u + \\frac{\\sqrt{3} \\left(v - 2\\right)}{3} - 1\\right)^{2}}{12} + \\frac{3 \\left(v - \\frac{\\sqrt{3} \\left(u - 1\\right)}{3} - 2\\right)^{2}}{16} = 1$"
          },
          "metadata": {}
        },
        {
          "output_type": "display_data",
          "data": {
            "text/plain": [
              "<Figure size 432x288 with 1 Axes>"
            ],
            "image/png": "[encoded data removed]"
          },
          "metadata": {
            "needs_background": "light"
          }
        }
      ]
    },
    {
      "cell_type": "markdown",
      "metadata": {
        "id": "-XxIo-1_QIPw"
      },
      "source": [
        "### Задание 3.\n",
        "Найти вершины эллипса из Задания 1.\n",
        "\n",
        "Указание: вершины эллипса искать как решение системы уравнений, составленной из уравнения эллипса и уравнения прямой, проходящей через форкусы (воспользоваться Line и методом equation()); вторую пару вершин получить как решение системы из уравнения эллипса и прямой, проходящей через центр эллипса перпендикулярно прямой, проходящей через фокусы. "
      ]
    },
    {
      "cell_type": "code",
      "source": [
        "points = Ellipse1.foci\n",
        "line = Line(points[0], points[1])\n",
        "eq1 = Eq(line.equation(x = x, y = y), 0)\n",
        "eq2 = Eq(Ellipse1.equation(x = x, y = y), 0)\n",
        "cords = sympy.solve([eq1, eq2], [x, y])\n",
        "\n",
        "new_line = line.perpendicular_line(Ellipse1.center)\n",
        "\n",
        "eq3 = Eq(new_line.equation(x = x, y = y), 0)\n",
        "cords += sympy.solve([eq2, eq3], [x, y])\n",
        "display(Latex('Вершины: ' + latex(cords)))"
      ],
      "metadata": {
        "id": "s935eM1vUbjo",
        "colab": {
          "base_uri": "https://localhost:8080/",
          "height": 37
        },
        "outputId": "aab9a265-2e56-4a5e-f7e6-0d001398cb2d"
      },
      "execution_count": 165,
      "outputs": [
        {
          "output_type": "display_data",
          "data": {
            "text/plain": [
              "<IPython.core.display.Latex object>"
            ],
            "text/latex": "Вершины: \\left[ \\left( -2, \\  2\\right), \\  \\left( 4, \\  2\\right), \\  \\left( 1, \\  0\\right), \\  \\left( 1, \\  4\\right)\\right]"
          },
          "metadata": {}
        }
      ]
    },
    {
      "cell_type": "markdown",
      "source": [
        "### Задание 4*.\n",
        "Провести касательные к эллипсу из Задания 1 через его вершины.\n",
        "\n",
        "Указание: использовать equation прямых Line, plot_implicit. Для корректного изображения на графике горизонтальных прямых в plot_implicit указывать диапазоны значений и переменной $x$ и переменной $y$."
      ],
      "metadata": {
        "id": "LbEzVL4I32vR"
      }
    },
    {
      "cell_type": "code",
      "source": [
        "my_graph = plot_implicit(eq2,\n",
        "              (x, -5, 5),\n",
        "              (y, -1, 5),\n",
        "              aspect_ratio=(1, 1),\n",
        "              show = False,\n",
        "              adaptive=False,\n",
        "              line_color = 'r')\n",
        "\n",
        "arr1 = [(Ellipse1.hradius), (Ellipse1.vradius)]\n",
        "arr2 = [line.equation(x = x, y = y), new_line.equation(x = x, y = y)]\n",
        "\n",
        "my_graph.extend(plot_implicit(Eq(arr2[0] + 0 * y + arr1[1], 0),\n",
        "          (x, -5, 5),\n",
        "          (y, -1, 5),\n",
        "          aspect_ratio=(1, 1),\n",
        "          show = False,\n",
        "          adaptive=False,\n",
        "          line_color = 'g')\n",
        ")\n",
        "my_graph.extend(plot_implicit(Eq(arr2[0] + 0 * y - arr1[1], 0),\n",
        "          (x, -5, 5),\n",
        "          (y, -1, 5),\n",
        "          aspect_ratio=(1, 1),\n",
        "          show = False,\n",
        "          adaptive=False,\n",
        "          line_color = 'g')\n",
        ")\n",
        "my_graph.extend(plot_implicit(Eq(arr2[1] + 0 * y + arr1[0], 0),\n",
        "          (x, -5, 5),\n",
        "          (y, -1, 5),\n",
        "          aspect_ratio=(1, 1),\n",
        "          show = False,\n",
        "          adaptive=False,\n",
        "          line_color = 'g')\n",
        ")\n",
        "my_graph.extend(plot_implicit(Eq(arr2[1] + 0 * y - arr1[0], 0),\n",
        "          (x, -5, 5),\n",
        "          (y, -1, 5),\n",
        "          aspect_ratio=(1, 1),\n",
        "          show = False,\n",
        "          adaptive=False,\n",
        "          line_color = 'g')\n",
        ")\n",
        "    \n",
        "\n",
        "my_graph.show()"
      ],
      "metadata": {
        "id": "yKiBFbS1UcjH",
        "colab": {
          "base_uri": "https://localhost:8080/",
          "height": 285
        },
        "outputId": "f4eecb63-cbc3-48c2-bda5-13d493b6f91e"
      },
      "execution_count": 166,
      "outputs": [
        {
          "output_type": "display_data",
          "data": {
            "text/plain": [
              "<Figure size 432x288 with 1 Axes>"
            ],
            "image/png": "[encoded data removed]"
          },
          "metadata": {
            "needs_background": "light"
          }
        }
      ]
    },
    {
      "cell_type": "markdown",
      "source": [
        "### Задание 5**.\n",
        "Провести касательные к повернутому эллипсу из Задания 2 через его вершины."
      ],
      "metadata": {
        "id": "R7z02nJZS41X"
      }
    },
    {
      "cell_type": "code",
      "source": [
        "def get_new_line(a, b, c, alpha):\n",
        "    new_x1 = c[0] + (a[0] - c[0]) * sympy.cos(alpha) - (a[1] - c[1]) * sympy.sin(alpha)\n",
        "    new_y1 = c[1] + (a[0] - c[0]) * sympy.sin(alpha) + (a[1] - c[1]) * sympy.cos(alpha)\n",
        "\n",
        "    new_x2 = c[0] + (b[0] - c[0]) * sympy.cos(alpha) - (b[1] - c[1]) * sympy.sin(alpha)\n",
        "    new_y2 = c[1] + (b[0] - c[0]) * sympy.sin(alpha) + (b[1] - c[1]) * sympy.cos(alpha)\n",
        "    display(Point(new_x1, new_y1), Point(new_x2, new_y2))\n",
        "    return Line(Point(new_x1, new_y1), Point(new_x2, new_y2)) "
      ],
      "metadata": {
        "id": "ij0tNw2JmdlR"
      },
      "execution_count": 167,
      "outputs": []
    },
    {
      "cell_type": "code",
      "source": [
        "new_points = [Point(-2, 0), Point(4, 0), Point(4, 4), Point(-2, 4), Point(-2, 0)]\n",
        "eques = []\n",
        "for i in range(4):\n",
        "    eques.append(Eq(get_new_line(new_points[i], new_points[i + 1], Point(1, 2), 30 * sympy.pi / 180).equation(x = x, y = y), 0))\n"
      ],
      "metadata": {
        "id": "_U4HSswEndmE"
      },
      "execution_count": null,
      "outputs": []
    },
    {
      "cell_type": "code",
      "source": [
        "my_graph2 = plot_implicit(eq2_slope_new,\n",
        "              (dict_free['u'], -5, 7),\n",
        "              (dict_free['v'], -5, 7),\n",
        "              aspect_ratio=(1, 1),\n",
        "              show = False,\n",
        "              adaptive=False,\n",
        "              line_color = 'r')\n",
        "\n",
        "\n",
        "for eq in eques:\n",
        "    my_graph2.extend(plot_implicit(eq,\n",
        "          (x, -5, 7),\n",
        "          (y, -5, 7),\n",
        "          aspect_ratio=(1, 1),\n",
        "          show = False,\n",
        "          adaptive=False,\n",
        "          line_color = 'g')\n",
        "    )\n",
        "\n",
        "my_graph2.show()"
      ],
      "metadata": {
        "id": "wWZA-KKdUSwY",
        "colab": {
          "base_uri": "https://localhost:8080/",
          "height": 297
        },
        "outputId": "f4ce0208-8d0e-43fc-8ffc-2c349bf2ba3b"
      },
      "execution_count": 169,
      "outputs": [
        {
          "output_type": "display_data",
          "data": {
            "text/plain": [
              "<Figure size 432x288 with 1 Axes>"
            ],
            "image/png": "[encoded data removed]"
          },
          "metadata": {
            "needs_background": "light"
          }
        }
      ]
    },
    {
      "cell_type": "markdown",
      "metadata": {
        "id": "Z558wMoUQIPx"
      },
      "source": [
        "###  Индивидуальное задание\n",
        "Эллипс с центром $A$, вертикальной полуосью $b$ и эксцентриситетом $\\varepsilon$.\n",
        "Изобразить на графике эллипс, а также эллипс, повернутый на угол $\\alpha$ градусов против часовой стрелки. \n",
        "\n",
        "Вывести на экран центр и фокусы эллипса, длины полуосей, уравнение эллипса, вершины эллипса."
      ]
    },
    {
      "cell_type": "code",
      "source": [
        "#126\n",
        "Ellipse3 = Ellipse(Point(2, 4), hradius = 8 * sympy.sqrt(3) / 3, eccentricity = S(1) / 2)\n",
        "alpha = sympy.pi / 6\n",
        "\n",
        "my_graph3 = plot_implicit(Eq(Ellipse3.equation(x = x, y = y), 0),\n",
        "              (x, -4, 8),\n",
        "              (y, -4, 9),\n",
        "              aspect_ratio=(1, 1),\n",
        "              show = False,\n",
        "              adaptive=False,\n",
        "              line_color = 'r')\n",
        "\n",
        "my_graph3.extend(plot_implicit(Ellipse3.equation(x = x, y = y, _slope=sympy.tan(alpha)),\n",
        "              (x, -4, 8),\n",
        "              (y, -4, 9),\n",
        "              aspect_ratio=(1, 1),\n",
        "              show = False,\n",
        "              adaptive=False,\n",
        "              line_color = 'g')\n",
        ")\n",
        "\n",
        "\n",
        "my_graph3.show()\n",
        "\n",
        "display(Ellipse3.equation(x = x, y = y))\n",
        "\n",
        "props = {'center': Ellipse3.center,\n",
        "         'hradius': Ellipse3.hradius,\n",
        "         'vradius': Ellipse3.vradius,\n",
        "         'foci': Ellipse3.foci}\n",
        "display(*[Latex(f'{key} = {latex(props[key])}') for key in props])\n",
        "\n",
        "points = Ellipse3.foci\n",
        "line = Line(points[0], points[1])\n",
        "eq1 = Eq(line.equation(x = x, y = y), 0)\n",
        "eq2 = Eq(Ellipse3.equation(x = x, y = y), 0)\n",
        "cords = sympy.solve([eq1, eq2], [x, y])\n",
        "\n",
        "new_line = line.perpendicular_line(Ellipse1.center)\n",
        "\n",
        "eq3 = Eq(new_line.equation(x = x, y = y), 0)\n",
        "cords += sympy.solve([eq2, eq3], [x, y])\n",
        "display(Latex('Вершины: ' + latex(cords)))"
      ],
      "metadata": {
        "id": "v_WG4pFSUeR_",
        "colab": {
          "base_uri": "https://localhost:8080/",
          "height": 464
        },
        "outputId": "5262d14d-70fc-47c1-9b92-ff91c97d662a"
      },
      "execution_count": 170,
      "outputs": [
        {
          "output_type": "display_data",
          "data": {
            "text/plain": [
              "<Figure size 432x288 with 1 Axes>"
            ],
            "image/png": "[encoded data removed]"
          },
          "metadata": {
            "needs_background": "light"
          }
        },
        {
          "output_type": "display_data",
          "data": {
            "text/plain": [
              "3*(x - 2)**2/64 + (y/4 - 1)**2 - 1"
            ],
            "text/latex": "$\\displaystyle \\frac{3 \\left(x - 2\\right)^{2}}{64} + \\left(\\frac{y}{4} - 1\\right)^{2} - 1$"
          },
          "metadata": {}
        },
        {
          "output_type": "display_data",
          "data": {
            "text/plain": [
              "<IPython.core.display.Latex object>"
            ],
            "text/latex": "center = Point2D\\left(2, 4\\right)"
          },
          "metadata": {}
        },
        {
          "output_type": "display_data",
          "data": {
            "text/plain": [
              "<IPython.core.display.Latex object>"
            ],
            "text/latex": "hradius = \\frac{8 \\sqrt{3}}{3}"
          },
          "metadata": {}
        },
        {
          "output_type": "display_data",
          "data": {
            "text/plain": [
              "<IPython.core.display.Latex object>"
            ],
            "text/latex": "vradius = 4"
          },
          "metadata": {}
        },
        {
          "output_type": "display_data",
          "data": {
            "text/plain": [
              "<IPython.core.display.Latex object>"
            ],
            "text/latex": "foci = \\left( Point2D\\left(2 - \\frac{4 \\sqrt{3}}{3}, 4\\right), \\  Point2D\\left(2 + \\frac{4 \\sqrt{3}}{3}, 4\\right)\\right)"
          },
          "metadata": {}
        },
        {
          "output_type": "display_data",
          "data": {
            "text/plain": [
              "<IPython.core.display.Latex object>"
            ],
            "text/latex": "Вершины: \\left[ \\left( 2 - \\frac{8 \\sqrt{3}}{3}, \\  4\\right), \\  \\left( 2 + \\frac{8 \\sqrt{3}}{3}, \\  4\\right), \\  \\left( 1, \\  4 - \\frac{\\sqrt{61}}{2}\\right), \\  \\left( 1, \\  \\frac{\\sqrt{61}}{2} + 4\\right)\\right]"
          },
          "metadata": {}
        }
      ]
    }
  ],
  "metadata": {
    "kernelspec": {
      "display_name": "Python 3",
      "language": "python",
      "name": "python3"
    },
    "language_info": {
      "codemirror_mode": {
        "name": "ipython",
        "version": 3
      },
      "file_extension": ".py",
      "mimetype": "text/x-python",
      "name": "python",
      "nbconvert_exporter": "python",
      "pygments_lexer": "ipython3",
      "version": "3.7.3"
    },
    "colab": {
      "provenance": []
    }
  },
  "nbformat": 4,
  "nbformat_minor": 0
}