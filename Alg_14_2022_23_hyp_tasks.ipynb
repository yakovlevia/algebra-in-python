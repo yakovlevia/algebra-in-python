{
  "nbformat": 4,
  "nbformat_minor": 0,
  "metadata": {
    "kernelspec": {
      "display_name": "Python 3",
      "language": "python",
      "name": "python3"
    },
    "language_info": {
      "codemirror_mode": {
        "name": "ipython",
        "version": 3
      },
      "file_extension": ".py",
      "mimetype": "text/x-python",
      "name": "python",
      "nbconvert_exporter": "python",
      "pygments_lexer": "ipython3",
      "version": "3.6.8"
    },
    "colab": {
      "provenance": []
    }
  },
  "cells": [
    {
      "cell_type": "code",
      "metadata": {
        "id": "DnGK4caeH1Vr"
      },
      "source": [
        "import numpy as np\n",
        "import sympy\n",
        "from sympy import Expr, Eq, latex, plot_implicit, tan, cot, Symbol\n",
        "from sympy.core import S, pi, sympify\n",
        "from sympy.core.logic import fuzzy_bool\n",
        "from sympy.core.numbers import Rational, oo\n",
        "from sympy.core.compatibility import ordered\n",
        "from sympy.core.symbol import Dummy, _uniquely_named_symbol, _symbol\n",
        "from sympy.simplify import simplify, trigsimp\n",
        "from sympy.functions.elementary.miscellaneous import sqrt, Max\n",
        "from sympy.functions.elementary.trigonometric import cos, sin\n",
        "from sympy.functions.special.elliptic_integrals import elliptic_e\n",
        "from sympy.geometry.exceptions import GeometryError\n",
        "from sympy.geometry.line import Ray2D, Segment2D, Line2D, LinearEntity3D\n",
        "from sympy.polys import DomainError, Poly, PolynomialError\n",
        "from sympy.polys.polyutils import _not_a_coeff, _nsort\n",
        "from sympy.solvers import solve\n",
        "from sympy.solvers.solveset import linear_coeffs\n",
        "from sympy.utilities.misc import filldedent, func_name\n",
        "from sympy.geometry.entity import GeometryEntity, GeometrySet\n",
        "from sympy.geometry.point import Point, Point2D, Point3D\n",
        "from sympy.geometry.line import Line, Segment\n",
        "from sympy.geometry.util import idiff\n",
        "import matplotlib.pyplot as plt\n",
        "from IPython.display import Math, Latex"
      ],
      "execution_count": 10,
      "outputs": []
    },
    {
      "cell_type": "markdown",
      "metadata": {
        "id": "6qGONNAQH1Vw"
      },
      "source": [
        "# Практическое занятие 14\n",
        "# Компьютерный практикум по алгебре на Python\n",
        "## Кривые второго порядка на плоскости: гипербола"
      ]
    },
    {
      "cell_type": "code",
      "metadata": {
        "id": "7RFTEmNDH1Vx"
      },
      "source": [
        "class Hyperbola(GeometrySet):\n",
        "    \"\"\"\n",
        "     Attributes\n",
        "    ==========\n",
        "    center\n",
        "    hradius\n",
        "    vradius\n",
        "    eccentricity\n",
        "    periapsis\n",
        "    focus_distance\n",
        "    foci\n",
        "    ==========\n",
        "    конструктор __new__\n",
        "    скопирован из Эллипса,\n",
        "    изменена формула для  hradius и vradius через эсцентриситет\n",
        "    \"\"\"\n",
        "    def __new__(\n",
        "        cls, center=None, hradius=None, vradius=None, eccentricity=None, **kwargs):\n",
        "        hradius = sympify(hradius)\n",
        "        vradius = sympify(vradius)\n",
        "\n",
        "        eccentricity = sympify(eccentricity)\n",
        "\n",
        "        if center is None:\n",
        "            center = Point(0, 0)\n",
        "        else:\n",
        "            center = Point(center, dim=2)\n",
        "\n",
        "        if len(center) != 2:\n",
        "            raise ValueError('The center of \"{0}\" must be a two dimensional point'.format(cls))\n",
        "\n",
        "        if len(list(filter(lambda x: x is not None, (hradius, vradius, eccentricity)))) != 2:\n",
        "            raise ValueError(filldedent('''\n",
        "                Exactly two arguments of \"hradius\", \"vradius\", and\n",
        "                \"eccentricity\" must not be None.'''))\n",
        "\n",
        "        if eccentricity is not None:\n",
        "            if hradius is None:\n",
        "                hradius = vradius/sqrt( eccentricity**2 - 1)\n",
        "            elif vradius is None:\n",
        "                vradius = hradius*sqrt( eccentricity**2 - 1)\n",
        "\n",
        "        if hradius == 0:\n",
        "            return \"Line\"\n",
        "        if vradius == 0:\n",
        "            return \"Rays\"\n",
        "        return GeometryEntity.__new__(cls, center, hradius, vradius, **kwargs)\n",
        "    \n",
        "    @property\n",
        "    def ambient_dimension(self):\n",
        "        return 2\n",
        "    \n",
        "    @property\n",
        "    def center(self):\n",
        "        return self.args[0]\n",
        "\n",
        "    @property\n",
        "    def hradius(self):\n",
        "        return self.args[1]\n",
        "    \n",
        "    @property\n",
        "    def vradius(self):\n",
        "        return self.args[2]\n",
        "    @property\n",
        "    def focus_distance(self):\n",
        "        return sqrt(self.hradius**2 + self.vradius**2)\n",
        "    \n",
        "    @property\n",
        "    def eccentricity(self):\n",
        "        \"\"\"The eccentricity of the ellipse.\"\"\"\n",
        "        return self.focus_distance/self.hradius\n",
        "    \n",
        "    @property\n",
        "    def periapsis(self):\n",
        "        \"\"\"The apoapsis of the hyperbola.\n",
        "        The smallest distance between the focus and the contour.\"\"\"\n",
        "        return self.focus_distance-self.hradius\n",
        "    @property\n",
        "    def foci(self):\n",
        "        return (self.center + Point(-self.focus_distance, 0), self.center + Point(self.focus_distance, 0))\n",
        "    \n",
        "    @property\n",
        "    def major(self):\n",
        "        return self.hradius\n",
        "    \n",
        "    @property\n",
        "    def minor(self):\n",
        "        return self.vradius\n",
        "    \n",
        "    def asymptote(self, x='x', y='y', equation=False):\n",
        "        as1 = self.center.y + self.vradius / self.hradius * (Symbol(x) - self.center.x)\n",
        "        as2 = self.center.y - self.vradius / self.hradius * (Symbol(x) - self.center.x)\n",
        "        if (equation == True):\n",
        "            asympt1 = Eq(Symbol(y), as1)\n",
        "            asympt2 = Eq(Symbol(y), as2)\n",
        "            return [asympt1, asympt2]\n",
        "        else :\n",
        "            return [as1, as2]\n",
        "\n",
        "    def directrix(self, x='x', equation=False):\n",
        "        dir1 = self.center.x + self.hradius ** 2 / self.focus_distance\n",
        "        dir2 = self.center.x - self.hradius ** 2 / self.focus_distance\n",
        "        if (equation == True):\n",
        "            direct1 = Eq(Symbol(x), dir1)\n",
        "            direct2 = Eq(Symbol(x), dir2)\n",
        "            return [direct1, direct2]\n",
        "        else :\n",
        "            return [dir1, dir2]\n",
        "\n",
        "    def equation(self, x='x', y='y', _slope=None, equation=False):\n",
        "        \"\"\"\n",
        "        Returns the equation of a hyperbola aligned with the x and y axes;\n",
        "        when slope is given, the equation returned corresponds to a hyperbola \n",
        "        with a major axis having that slope.\n",
        "        Parameters\n",
        "        ==========\n",
        "        x : str, optional\n",
        "            Label for the x-axis. Default value is 'x'.\n",
        "        y : str, optional\n",
        "            Label for the y-axis. Default value is 'y'.\n",
        "        _slope : Expr, optional\n",
        "                The slope of the major axis. Ignored when 'None'.\n",
        "        Returns\n",
        "        =======\n",
        "        equation : sympy expression   \"\"\"\n",
        "\n",
        "        x = _symbol(x, real=True)\n",
        "        y = _symbol(y, real=True)\n",
        "\n",
        "        dx = x - self.center.x\n",
        "        dy = y - self.center.y\n",
        "\n",
        "        if _slope is not None:\n",
        "            L = (dy - _slope*dx)**2\n",
        "            l = (_slope*dy + dx)**2\n",
        "            h = 1 + _slope**2\n",
        "            a = h*self.major**2\n",
        "            b = h*self.minor**2\n",
        "            res= l/a - L/b \n",
        "\n",
        "        else:\n",
        "            t1 = (dx/self.hradius)**2\n",
        "            t2 = (dy/self.vradius)**2\n",
        "            res = t1 - t2 \n",
        "        if not equation:\n",
        "            return res - 1\n",
        "        else:\n",
        "            return Eq(res, 1)"
      ],
      "execution_count": 23,
      "outputs": []
    },
    {
      "cell_type": "markdown",
      "metadata": {
        "id": "OcHRuZNaH1Vz"
      },
      "source": [
        "# Занятие 15\n",
        "# Алгебра\n",
        "### Задание 1.\n",
        "Построить гиперболу с центром в точке А(1, 2), полуосями 12 и 5. Вывести на экран эксцентриситет, фокусное расстояние, фокусы (с координатами), periapsis и уравнение гиперболы."
      ]
    },
    {
      "cell_type": "code",
      "source": [
        "x, y = sympy.symbols('x y')\n",
        "Hyp1 = Hyperbola(Point(1,2), hradius = 12, vradius = 5)\n",
        "print(f'эксцентриситет: {Hyp1.eccentricity}')\n",
        "print(f'фокусное расстояние: {Hyp1.focus_distance}')\n",
        "print(f'фокусы: {Hyp1.foci}')\n",
        "print(f'periapsis: {Hyp1.periapsis}')\n",
        "display(Hyp1.equation(equation=True))"
      ],
      "metadata": {
        "id": "s0mOdySVM0Jg",
        "colab": {
          "base_uri": "https://localhost:8080/",
          "height": 133
        },
        "outputId": "c716bbfc-d746-48ac-fce5-4a875e303fbf"
      },
      "execution_count": 12,
      "outputs": [
        {
          "output_type": "stream",
          "name": "stdout",
          "text": [
            "эксцентриситет: 13/12\n",
            "фокусное расстояние: 13\n",
            "фокусы: (Point2D(-12, 2), Point2D(14, 2))\n",
            "periapsis: 1\n"
          ]
        },
        {
          "output_type": "display_data",
          "data": {
            "text/plain": [
              "Eq((x/12 - 1/12)**2 - (y/5 - 2/5)**2, 1)"
            ],
            "text/latex": "$\\displaystyle \\left(\\frac{x}{12} - \\frac{1}{12}\\right)^{2} - \\left(\\frac{y}{5} - \\frac{2}{5}\\right)^{2} = 1$"
          },
          "metadata": {}
        }
      ]
    },
    {
      "cell_type": "markdown",
      "metadata": {
        "id": "SaI-GJx9H1V2"
      },
      "source": [
        "### Задание 2.\n",
        "Добавить в описание класса гипербол методы \n",
        "\n",
        "asymptote(self, x='x', y='y', equation=False)\n",
        "\n",
        "directrix(self, x='x', equation=False)\n",
        "\n",
        "Для гиперболы Задания 1 вывести на экран уравнения асимптот и директрис."
      ]
    },
    {
      "cell_type": "code",
      "source": [
        "print('Асимптоты:')\n",
        "display(*Hyp1.asymptote(equation=True))\n",
        "print('\\nДиректрисы:')\n",
        "display(*Hyp1.directrix(equation=True))"
      ],
      "metadata": {
        "id": "ccMgFQeyM1zb",
        "colab": {
          "base_uri": "https://localhost:8080/",
          "height": 207
        },
        "outputId": "bc48a8d4-ec65-48bd-8a4b-a1abd2ec536d"
      },
      "execution_count": 13,
      "outputs": [
        {
          "output_type": "stream",
          "name": "stdout",
          "text": [
            "Асимптоты:\n"
          ]
        },
        {
          "output_type": "display_data",
          "data": {
            "text/plain": [
              "Eq(y, 5*x/12 + 19/12)"
            ],
            "text/latex": "$\\displaystyle y = \\frac{5 x}{12} + \\frac{19}{12}$"
          },
          "metadata": {}
        },
        {
          "output_type": "display_data",
          "data": {
            "text/plain": [
              "Eq(y, 29/12 - 5*x/12)"
            ],
            "text/latex": "$\\displaystyle y = \\frac{29}{12} - \\frac{5 x}{12}$"
          },
          "metadata": {}
        },
        {
          "output_type": "stream",
          "name": "stdout",
          "text": [
            "\n",
            "Директрисы:\n"
          ]
        },
        {
          "output_type": "display_data",
          "data": {
            "text/plain": [
              "Eq(x, 157/13)"
            ],
            "text/latex": "$\\displaystyle x = \\frac{157}{13}$"
          },
          "metadata": {}
        },
        {
          "output_type": "display_data",
          "data": {
            "text/plain": [
              "Eq(x, -131/13)"
            ],
            "text/latex": "$\\displaystyle x = - \\frac{131}{13}$"
          },
          "metadata": {}
        }
      ]
    },
    {
      "cell_type": "markdown",
      "metadata": {
        "id": "lP57kra7H1V4"
      },
      "source": [
        "### Задание 3.\n",
        "Вывести на экран уравнение гиперболы из задания 1 с поворотом на 30 градусов против часовой стрелки относительно ее центра.\n",
        "Изобразить повернутую гиперболу с помощью plot_implicit."
      ]
    },
    {
      "cell_type": "code",
      "source": [
        "eq2 = Hyp1.equation(x='x', y='y')\n",
        "dict_free = {str(a): a for a in eq2.free_symbols}\n",
        "\n",
        "display(Hyp1.equation(x='x', y='y', _slope=sympy.tan(30 * sympy.pi / 180)))\n",
        "\n",
        "p = plot_implicit(Hyp1.equation(x='x', y='y', _slope=sympy.tan(30 * sympy.pi / 180)),\n",
        "                       (dict_free['x'], -50, 50), (dict_free['y'], -50, 50),\n",
        "                  line_color='g', aspect_ratio=(1, 1),\n",
        "                   show=False, adaptive=False)\n",
        "p.show()"
      ],
      "metadata": {
        "id": "mrc4QObWM3w9",
        "colab": {
          "base_uri": "https://localhost:8080/",
          "height": 349
        },
        "outputId": "8e160f24-7c53-4178-a852-39425803a701"
      },
      "execution_count": 14,
      "outputs": [
        {
          "output_type": "display_data",
          "data": {
            "text/plain": [
              "(x + sqrt(3)*(y - 2)/3 - 1)**2/192 - 3*(y - sqrt(3)*(x - 1)/3 - 2)**2/100 - 1"
            ],
            "text/latex": "$\\displaystyle \\frac{\\left(x + \\frac{\\sqrt{3} \\left(y - 2\\right)}{3} - 1\\right)^{2}}{192} - \\frac{3 \\left(y - \\frac{\\sqrt{3} \\left(x - 1\\right)}{3} - 2\\right)^{2}}{100} - 1$"
          },
          "metadata": {}
        },
        {
          "output_type": "display_data",
          "data": {
            "text/plain": [
              "<Figure size 432x288 with 1 Axes>"
            ],
            "image/png": "[encoded data removed]"
          },
          "metadata": {
            "needs_background": "light"
          }
        }
      ]
    },
    {
      "cell_type": "markdown",
      "metadata": {
        "id": "ylpjKXs1H1V5"
      },
      "source": [
        "## Уравнения директрис и асимптот при повороте на угол $\\alpha$\n",
        "Пусть  $a$ - горизонтальная полуось, $c$ - фокусное расстояние, $x_0$ - горизонтальная координата центра гиперболы, тогда уравнение директрис \n",
        "$$\n",
        "x = x_0 \\pm \\frac{a^2}{c}\n",
        "$$\n",
        "При повороте на угол $\\alpha$ получается уравнение\n",
        "$$\n",
        "y = y_0 -{\\rm ctg} \\alpha(x - x_0) \\pm \\frac{a^2}{c}\\sqrt{1 + {\\rm ctg} \\alpha}\n",
        "$$\n",
        "Уравнение асимптоты\n",
        "$$\n",
        "y = y_0 \\pm \\frac{b}{a}(x - x_0)\n",
        "$$\n",
        "При повороте на угол $\\alpha$ получаются уравнения\n",
        "\\begin{align*}\n",
        "y_1 = y_0 + k_1(x - x_0), \\quad \n",
        "y_2 = y_0 + k_2(x - x_0), \\\\ \n",
        "k_1 = \\frac{b + a{\\rm tg} \\alpha}{a - b{\\rm tg} \\alpha},\\quad \n",
        "k_2 = \\frac{-b + a{\\rm tg} \\alpha}{a + b{\\rm tg} \\alpha}\n",
        "\\end{align*}\n",
        "### Задание 4.\n",
        "Изобразить гиперболу Задания 3 (т.е. повернутую на угол) и ее асимптоты и директрисы на одном графике plot_implicit."
      ]
    },
    {
      "cell_type": "code",
      "source": [
        "def get_new_asymptotes(center, a, b, alpha):\n",
        "    as1 = center.y + (a + b * sympy.tan(alpha)) / (b - a * sympy.tan(alpha)) * (Symbol('x') - center.x)\n",
        "    as2 = center.y + (-a + b * sympy.tan(alpha)) / (b + a * sympy.tan(alpha)) * (Symbol('x') - center.x)\n",
        "    asympt1 = Eq(Symbol('y') - as1, 0)\n",
        "    asympt2 = Eq(Symbol('y') - as2, 0)\n",
        "    return [asympt1, asympt2]\n",
        "\n",
        "def get_new_directrix(center, a, c, alpha):\n",
        "    dr1 = center.y - 1 / sympy.tan(alpha) * (Symbol('x') - center.x) + a ** 2 / c * sympy.sqrt(1 + 1 / sympy.tan(alpha))\n",
        "    dr2 = center.y - 1 / sympy.tan(alpha) * (Symbol('x') - center.x) - a ** 2 / c * sympy.sqrt(1 + 1 / sympy.tan(alpha))\n",
        "    dir1 = Eq(Symbol('y') - dr1, 0)\n",
        "    dir2 = Eq(Symbol('y') - dr2, 0)\n",
        "    return [dir1, dir2]"
      ],
      "metadata": {
        "id": "P-5-ESXynDPK"
      },
      "execution_count": 15,
      "outputs": []
    },
    {
      "cell_type": "code",
      "metadata": {
        "id": "Zhk-ocNcH1V5",
        "colab": {
          "base_uri": "https://localhost:8080/",
          "height": 297
        },
        "outputId": "f852d12f-7b74-4834-874c-b7239a145507"
      },
      "source": [
        "eq2 = Hyp1.equation(x='x', y='y')\n",
        "\n",
        "dict_free = {str(a): a for a in eq2.free_symbols}\n",
        "\n",
        "graph = plot_implicit(Hyp1.equation(x='x', y='y', _slope=sympy.tan(30 * sympy.pi / 180)),\n",
        "                       (dict_free['x'], -50, 50), (dict_free['y'], -50, 50),\n",
        "                  line_color='g', aspect_ratio=(1, 1),\n",
        "                   show=False, adaptive=False)\n",
        "\n",
        "new_asymptotes = get_new_asymptotes(Hyp1.center, Hyp1.minor, Hyp1.major, 30 * sympy.pi / 180)\n",
        "new_directrix = get_new_directrix(Hyp1.center, Hyp1.major, Hyp1.focus_distance, 30 * sympy.pi / 180)\n",
        "\n",
        "for equat in new_asymptotes:\n",
        "   graph.extend(plot_implicit(equat,\n",
        "                       ('x', -50, 50), ('y', -50, 50),\n",
        "                  line_color='r', aspect_ratio=(1, 1),\n",
        "                   show=False, adaptive=False))\n",
        "   \n",
        "for equat in new_directrix:\n",
        "   graph.extend(plot_implicit(equat,\n",
        "                       ('x', -50, 50), ('y', -50, 50),\n",
        "                  line_color='b', aspect_ratio=(1, 1),\n",
        "                   show=False, adaptive=False))\n",
        "\n",
        "graph.show()"
      ],
      "execution_count": 16,
      "outputs": [
        {
          "output_type": "display_data",
          "data": {
            "text/plain": [
              "<Figure size 432x288 with 1 Axes>"
            ],
            "image/png": "[encoded data removed]"
          },
          "metadata": {
            "needs_background": "light"
          }
        }
      ]
    },
    {
      "cell_type": "markdown",
      "metadata": {
        "id": "wUi1m30QH1V5"
      },
      "source": [
        "###  Индивидуальное задание\n",
        "Определить гиперболу с центром в $(X, Y)$, полуосями $a$ и $b$.  Вывести на экран эксцентриситет, фокусное расстояние, фокусы (с координатами), periapsis, уравнение гиперболы, уравнения асимптот и директрис. \n",
        "\n",
        "Изобразить гиперболу, повернутую на $\\alpha$ градусов против часовой стрелки относительно ее центра, соответствующие асимптоты и директрисы. Вывести на экран уравнение повернутой гиперболы."
      ]
    },
    {
      "cell_type": "code",
      "metadata": {
        "id": "zKFUR_eVH1V6",
        "colab": {
          "base_uri": "https://localhost:8080/",
          "height": 700
        },
        "outputId": "4e715425-3788-49d1-913d-6063ddd57a59"
      },
      "source": [
        "#Вариант N 126\n",
        "#Центр $Point2D\\left(2, -1\\right)$, горизонтальная полуось $4$, эксцентриситет $17 / 9$, угол поворота $\\pi / 3$, против часовой стрелки.\n",
        "x, y = sympy.symbols('x y')\n",
        "Hyp5 = Hyperbola(Point(2, -1), hradius = 4, eccentricity = S(17)/9)\n",
        "\n",
        "x, y = sympy.symbols('x y')\n",
        "print(f'эксцентриситет: {Hyp5.eccentricity}')\n",
        "print(f'фокусное расстояние: {Hyp5.focus_distance}')\n",
        "print(f'фокусы: {Hyp5.foci}')\n",
        "print(f'periapsis: {Hyp5.periapsis}')\n",
        "print('Асимптоты:')\n",
        "display(*Hyp5.asymptote(equation=True))\n",
        "print('\\nДиректрисы:')\n",
        "display(*Hyp5.directrix(equation=True))\n",
        "display(Hyp5.equation(equation=True))\n",
        "\n",
        "\n",
        "print('\\n')\n",
        "\n",
        "eq5 = Hyp5.equation(x='x', y='y')\n",
        "dict_free = {str(a): a for a in eq5.free_symbols}\n",
        "\n",
        "display(Hyp5.equation(x='x', y='y', _slope=sympy.tan(30 * sympy.pi / 180)))\n",
        "\n",
        "new_asymptotes = get_new_asymptotes(Hyp5.center, Hyp5.minor, Hyp5.major, 30 * sympy.pi / 180)\n",
        "new_directrix = get_new_directrix(Hyp5.center, Hyp5.major, Hyp5.focus_distance, 30 * sympy.pi / 180)\n",
        "\n",
        "graph = plot_implicit(Hyp5.equation(x='x', y='y', _slope=sympy.tan(30 * sympy.pi / 180)),\n",
        "                       (dict_free['x'], -50, 50), (dict_free['y'], -50, 50),\n",
        "                  line_color='g', aspect_ratio=(1, 1),\n",
        "                   show=False, adaptive=False)\n",
        "\n",
        "for equat in new_asymptotes:\n",
        "   graph.extend(plot_implicit(equat,\n",
        "                       ('x', -50, 50), ('y', -50, 50),\n",
        "                  line_color='r', aspect_ratio=(1, 1),\n",
        "                   show=False, adaptive=False))\n",
        "   \n",
        "for equat in new_directrix:\n",
        "   graph.extend(plot_implicit(equat,\n",
        "                       ('x', -50, 50), ('y', -50, 50),\n",
        "                  line_color='b', aspect_ratio=(1, 1),\n",
        "                   show=False, adaptive=False))\n",
        "\n",
        "graph.show()"
      ],
      "execution_count": 35,
      "outputs": [
        {
          "output_type": "stream",
          "name": "stdout",
          "text": [
            "эксцентриситет: 17/9\n",
            "фокусное расстояние: 68/9\n",
            "фокусы: (Point2D(-50/9, -1), Point2D(86/9, -1))\n",
            "periapsis: 32/9\n",
            "Асимптоты:\n"
          ]
        },
        {
          "output_type": "display_data",
          "data": {
            "text/plain": [
              "Eq(y, 4*sqrt(13)*(x - 2)/9 - 1)"
            ],
            "text/latex": "$\\displaystyle y = \\frac{4 \\sqrt{13} \\left(x - 2\\right)}{9} - 1$"
          },
          "metadata": {}
        },
        {
          "output_type": "display_data",
          "data": {
            "text/plain": [
              "Eq(y, -4*sqrt(13)*(x - 2)/9 - 1)"
            ],
            "text/latex": "$\\displaystyle y = - \\frac{4 \\sqrt{13} \\left(x - 2\\right)}{9} - 1$"
          },
          "metadata": {}
        },
        {
          "output_type": "stream",
          "name": "stdout",
          "text": [
            "\n",
            "Директрисы:\n"
          ]
        },
        {
          "output_type": "display_data",
          "data": {
            "text/plain": [
              "Eq(x, 70/17)"
            ],
            "text/latex": "$\\displaystyle x = \\frac{70}{17}$"
          },
          "metadata": {}
        },
        {
          "output_type": "display_data",
          "data": {
            "text/plain": [
              "Eq(x, -2/17)"
            ],
            "text/latex": "$\\displaystyle x = - \\frac{2}{17}$"
          },
          "metadata": {}
        },
        {
          "output_type": "display_data",
          "data": {
            "text/plain": [
              "Eq((x/4 - 1/2)**2 - 81*(y + 1)**2/3328, 1)"
            ],
            "text/latex": "$\\displaystyle \\left(\\frac{x}{4} - \\frac{1}{2}\\right)^{2} - \\frac{81 \\left(y + 1\\right)^{2}}{3328} = 1$"
          },
          "metadata": {}
        },
        {
          "output_type": "stream",
          "name": "stdout",
          "text": [
            "\n",
            "\n"
          ]
        },
        {
          "output_type": "display_data",
          "data": {
            "text/plain": [
              "3*(x + sqrt(3)*(y + 1)/3 - 2)**2/64 - 243*(y - sqrt(3)*(x - 2)/3 + 1)**2/13312 - 1"
            ],
            "text/latex": "$\\displaystyle \\frac{3 \\left(x + \\frac{\\sqrt{3} \\left(y + 1\\right)}{3} - 2\\right)^{2}}{64} - \\frac{243 \\left(y - \\frac{\\sqrt{3} \\left(x - 2\\right)}{3} + 1\\right)^{2}}{13312} - 1$"
          },
          "metadata": {}
        },
        {
          "output_type": "display_data",
          "data": {
            "text/plain": [
              "<Figure size 432x288 with 1 Axes>"
            ],
            "image/png": "[encoded data removed]"
          },
          "metadata": {
            "needs_background": "light"
          }
        }
      ]
    }
  ]
}