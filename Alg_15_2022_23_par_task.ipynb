{
  "nbformat": 4,
  "nbformat_minor": 0,
  "metadata": {
    "kernelspec": {
      "display_name": "Python 3",
      "language": "python",
      "name": "python3"
    },
    "language_info": {
      "codemirror_mode": {
        "name": "ipython",
        "version": 3
      },
      "file_extension": ".py",
      "mimetype": "text/x-python",
      "name": "python",
      "nbconvert_exporter": "python",
      "pygments_lexer": "ipython3",
      "version": "3.7.3"
    },
    "colab": {
      "provenance": []
    }
  },
  "cells": [
    {
      "cell_type": "code",
      "metadata": {
        "id": "OkMZJCv7HRj8"
      },
      "source": [
        "import sympy\n",
        "import numpy as np\n",
        "from sympy import Eq, plot_implicit, Matrix, plot, symbols, latex, Symbol\n",
        "from sympy.core import sympify\n",
        "from sympy.geometry.point import Point, Point2D, Point3D\n",
        "from sympy.geometry.line import Line\n",
        "from sympy.core.symbol import _symbol\n",
        "from sympy import pi as Pi\n",
        "from sympy import cos as Cos\n",
        "from sympy import sin as Sin\n",
        "from sympy.geometry.entity import GeometryEntity, GeometrySet\n",
        "import matplotlib.pyplot as plt\n",
        "from IPython.display import Latex\n",
        "from sympy.simplify import simplify, trigsimp"
      ],
      "execution_count": 2,
      "outputs": []
    },
    {
      "cell_type": "markdown",
      "metadata": {
        "id": "JBcJB2fWHRj_"
      },
      "source": [
        "# Практическое занятие 15\n",
        "# Компьютерный практикум по алгебре на Python\n",
        "## Кривые второго порядка на плоскости: парабола"
      ]
    },
    {
      "cell_type": "markdown",
      "metadata": {
        "id": "mmi1O2YqHRkC"
      },
      "source": [
        "### Задание 1\n",
        "Определить класс parabola по образцу класса Гипербола из ЛР 14.\n",
        "\n",
        "Реализовать **атрибуты**: \n",
        "\n",
        "**парамет**р $p$\n",
        "\n",
        "**вершина** (vertex) в виде точки Point\n",
        "\n",
        "**фокус** (focus) в виде точки Point\n",
        "\n",
        "**угол angle** по умолчанию 0 для параболы с осью, параллельной OX, и ветвями, направленными вправо\n",
        "\n",
        "**ось симметрии** (axis_symmetry) в виде прямой Line\n",
        "\n",
        "**директриса** (directrix) в виде прямой Line\n",
        "\n",
        "Реализовать **методы** \n",
        "\n",
        "**equation(self)** - уравнение параболы,\n",
        "\n",
        "**dir_equation(self)** - уравнение директрисы,\n",
        "\n",
        "**ax_sym_equation(self**) - уравнение оси симметрии,\n",
        "\n",
        "**rotate(self, angle)** - поворот на угол angle против часовой стрелки, метод не изменяет параболу, а возвращает параболу с теми же p и вершиной, но угол увеличен на angle по сравнению с исходной параболой. \n",
        "\n",
        "В конструкторе экземпляра класса  \n",
        "\n",
        "__new__(cls, p, vertex=None, angle=None)\n",
        "\n",
        "p - обязательный параметр, а вид параболы по умолчанию  - парабола с осью, параллельной оси OX,\n",
        "вершина по умолчанию в начале координат."
      ]
    },
    {
      "cell_type": "code",
      "source": [
        "class Parabola(GeometrySet):\n",
        "    \"\"\"\n",
        "     Attributes\n",
        "    ==========\n",
        "    p\n",
        "    vertex\n",
        "    angle\n",
        "    focus\n",
        "    axis_symmetry\n",
        "    directrix\n",
        "    ==========\n",
        "    Methods\n",
        "    ==========\n",
        "    equation\n",
        "    dir_equation\n",
        "    ax_sym_equation\n",
        "    rotate\n",
        "    \"\"\"\n",
        "    def __new__(\n",
        "        cls, p, vertex=None, angle=None, **kwargs):\n",
        "\n",
        "        p = simplify(p)\n",
        "\n",
        "        if vertex is None:\n",
        "            vertex = Point(0, 0)\n",
        "        else:\n",
        "            vertex = Point(vertex, dim=2)\n",
        "\n",
        "        if angle is None:\n",
        "            angle = 0\n",
        "        else:\n",
        "            angle = simplify(angle)\n",
        "\n",
        "        return GeometryEntity.__new__(cls, p, vertex, angle, **kwargs)\n",
        "\n",
        "        \n",
        "\n",
        "    def rotate_point(self, point, angle):\n",
        "         new_x1 = self.vertex[0] + (point[0] - self.vertex[0]) * sympy.cos(angle) - (point[1] - self.vertex[1]) * sympy.sin(angle)\n",
        "         new_y1 = self.vertex[1] + (point[0] - self.vertex[0]) * sympy.sin(angle) + (point[1] - self.vertex[1]) * sympy.cos(angle)\n",
        "         return Point(new_x1.simplify(), new_y1.simplify())\n",
        "\n",
        "    @property\n",
        "    def vertex(self):\n",
        "        return self.args[1]\n",
        "\n",
        "    @property\n",
        "    def p(self):\n",
        "        return self.args[0]\n",
        "    \n",
        "    @property\n",
        "    def angle(self):\n",
        "        return self.args[2]\n",
        "\n",
        "    @property\n",
        "    def axis_symmetry(self):\n",
        "        return Line(self.focus, self.vertex)\n",
        "\n",
        "    @property\n",
        "    def focus(self):\n",
        "        tmp = (self.vertex + Point(self.p / 2, 0))\n",
        "        tmp = self.rotate_point(tmp, -self.angle)\n",
        "        return tmp\n",
        "\n",
        "    @property\n",
        "    def directrix(self):\n",
        "        new_f = self.rotate_point(self.focus, sympy.pi)\n",
        "\n",
        "        new_x1 = new_f[0] + (self.vertex[0] - new_f[0]) * sympy.cos(sympy.pi / 2) - (self.vertex[1] - new_f[1]) * sympy.sin(sympy.pi / 2)\n",
        "        new_y1 = new_f[1] + (self.vertex[0] - new_f[0]) * sympy.sin(sympy.pi / 2) + (self.vertex[1] - new_f[1]) * sympy.cos(sympy.pi / 2)\n",
        "        \n",
        "        line = Line(new_f, Point(new_x1, new_y1))\n",
        "        return line\n",
        "\n",
        "\n",
        "    def dir_equation(self, x = 'x', y = 'y', equation=True):\n",
        "        if (equation == True):\n",
        "            return Eq((self.directrix.equation(x = Symbol(x), y = Symbol(y))).simplify(), 0)\n",
        "        else :\n",
        "            return (self.directrix.equation(x = Symbol(x), y = Symbol(y))).simplify()\n",
        "\n",
        "    def ax_sym_equation(self, x = 'x', y = 'y', equation=True):\n",
        "        if (equation == True):\n",
        "            return Eq((self.axis_symmetry.equation(x = Symbol(x), y = Symbol(y))).simplify(), 0)\n",
        "        else :\n",
        "            return (self.axis_symmetry.equation(x = Symbol(x), y = Symbol(y))).simplify()\n",
        "\n",
        "    def equation(self, x='x', y='y', equation=True):\n",
        "        y1 = (Symbol(x) - self.vertex.x) * Sin(self.angle) + (Symbol(y) - self.vertex.y) * Cos(self.angle) + self.vertex.y;\n",
        "        x1 = (Symbol(x) - self.vertex.x) * Cos(self.angle) - (Symbol(y) - self.vertex.y) * Sin(self.angle) + self.vertex.x;\n",
        "        eq = Eq(((y1 - self.vertex.y)**2), 2 * self.p * (x1 - self.vertex.x))\n",
        "        if (equation == True): \n",
        "          return eq\n",
        "        else:\n",
        "          return ((y1 - self.vertex.y)**2) - 2 * self.p * (x1 - self.vertex.x)"
      ],
      "metadata": {
        "id": "KQTuw-RWEPMX"
      },
      "execution_count": 79,
      "outputs": []
    },
    {
      "cell_type": "markdown",
      "metadata": {
        "id": "dojqIsnSHRkG"
      },
      "source": [
        "### Задание 2\n",
        "Построить параболу с $p = 3$, вершиной в (-5, 2), осью симметрии, образующей угол $\\pi/4$ с положительным направлением оси ОХ. Вывести на экран ее параметр p, вершину, угол, фокус, ось симметрии и директрису, а также уравнение параболы, оси симметрии и директрисы. \n",
        "\n",
        "Изобразить на общем графике параболу, ее ось симметрии и директрису, парабола зеленая, ось симметрии красная, директриса черная. "
      ]
    },
    {
      "cell_type": "code",
      "source": [
        "Par1 = Parabola(p=3, vertex=Point(-5, 2), angle = sympy.pi / 4)\n",
        "\n",
        "eq1 = Par1.equation(x='x', y='y')\n",
        "dict_free = {str(a): a for a in eq1.free_symbols}\n",
        "\n",
        "print(f'P: {Par1.p}')\n",
        "print(f'Вершина: {Par1.vertex}')\n",
        "print(f'Угол: {Par1.angle}')\n",
        "print(f'Фокус: {Par1.focus}')\n",
        "print(f'Ось симетрии: {Par1.axis_symmetry}')\n",
        "display(Par1.ax_sym_equation(equation=True))\n",
        "print(f'Директриса: {Par1.directrix}')\n",
        "display(Par1.dir_equation(equation=True))\n",
        "print('Уравнение')\n",
        "display(Par1.equation(equation=True))\n",
        "\n",
        "\n",
        "graph = plot_implicit(Par1.equation(x='x', y='y'),\n",
        "                       (Symbol('x'), -10, 10), (Symbol('y'), -10, 10),\n",
        "                  line_color='g', aspect_ratio=(1, 1),\n",
        "                   show=False, adaptive=False)\n",
        "\n",
        "graph.extend(plot_implicit(Par1.dir_equation(x='x', y='y'),\n",
        "                      (Symbol('x'), -10, 10), (Symbol('y'), -10, 10),\n",
        "                 line_color='r', aspect_ratio=(1, 1),\n",
        "                  show=False, adaptive=False))\n",
        "   \n",
        "graph.extend(plot_implicit(Par1.ax_sym_equation(x='x', y='y'),\n",
        "                      (Symbol('x'), -10, 10), (Symbol('y'), -10, 10),\n",
        "                 line_color='b', aspect_ratio=(1, 1),\n",
        "                  show=False, adaptive=False))\n",
        "\n",
        "\n",
        "graph.show()"
      ],
      "metadata": {
        "id": "nFu1DVguEVn3",
        "colab": {
          "base_uri": "https://localhost:8080/",
          "height": 554
        },
        "outputId": "399031de-98e0-4770-ffec-9cc56f8b573a"
      },
      "execution_count": 80,
      "outputs": [
        {
          "output_type": "stream",
          "name": "stdout",
          "text": [
            "P: 3\n",
            "Вершина: Point2D(-5, 2)\n",
            "Угол: pi/4\n",
            "Фокус: Point2D(-5 + 3*sqrt(2)/4, 2 - 3*sqrt(2)/4)\n",
            "Ось симетрии: Line2D(Point2D(-5 + 3*sqrt(2)/4, 2 - 3*sqrt(2)/4), Point2D(-5, 2))\n"
          ]
        },
        {
          "output_type": "display_data",
          "data": {
            "text/plain": [
              "Eq(-3*sqrt(2)*(x + y + 3)/4, 0)"
            ],
            "text/latex": "$\\displaystyle - \\frac{3 \\sqrt{2} \\left(x + y + 3\\right)}{4} = 0$"
          },
          "metadata": {}
        },
        {
          "output_type": "stream",
          "name": "stdout",
          "text": [
            "Директриса: Line2D(Point2D(-5 - 3*sqrt(2)/4, 3*sqrt(2)/4 + 2), Point2D(-5, 2 + 3*sqrt(2)/2))\n"
          ]
        },
        {
          "output_type": "display_data",
          "data": {
            "text/plain": [
              "Eq(-3*sqrt(2)*x/4 + 3*sqrt(2)*y/4 - 21*sqrt(2)/4 - 9/4, 0)"
            ],
            "text/latex": "$\\displaystyle - \\frac{3 \\sqrt{2} x}{4} + \\frac{3 \\sqrt{2} y}{4} - \\frac{21 \\sqrt{2}}{4} - \\frac{9}{4} = 0$"
          },
          "metadata": {}
        },
        {
          "output_type": "stream",
          "name": "stdout",
          "text": [
            "Уравнение\n"
          ]
        },
        {
          "output_type": "display_data",
          "data": {
            "text/plain": [
              "Eq((sqrt(2)*(x + 5)/2 + sqrt(2)*(y - 2)/2)**2, 3*sqrt(2)*(x + 5) - 3*sqrt(2)*(y - 2))"
            ],
            "text/latex": "$\\displaystyle \\left(\\frac{\\sqrt{2} \\left(x + 5\\right)}{2} + \\frac{\\sqrt{2} \\left(y - 2\\right)}{2}\\right)^{2} = 3 \\sqrt{2} \\left(x + 5\\right) - 3 \\sqrt{2} \\left(y - 2\\right)$"
          },
          "metadata": {}
        },
        {
          "output_type": "display_data",
          "data": {
            "text/plain": [
              "<Figure size 432x288 with 1 Axes>"
            ],
            "image/png": "[encoded data removed]"
          },
          "metadata": {
            "needs_background": "light"
          }
        }
      ]
    },
    {
      "cell_type": "markdown",
      "metadata": {
        "id": "WlXyhdWhHRkH"
      },
      "source": [
        "### Индивидуальное задание\n",
        "Построить параболу из своего варианта, построить другую параболу путем поворота исходной параболы  на угол $\\alpha$ радиан. Вывести на экран вершину, угол, фокус, ось симметрии и директрису обеих парабол. \n",
        "\n",
        "Использовать уравнения повернутой параболы, ее оси симметрии и директрисы для построения графиков в одной координатной плоскости. Парабола фиолетовая, ось симметрии зеленая, директриса черная, название графика Парабола, подписи осей $x$ и $y$."
      ]
    },
    {
      "cell_type": "code",
      "source": [
        "#126\n",
        "Par1 = Parabola(p=9, vertex=Point(-4, -4), angle = sympy.pi / 6)\n",
        "\n",
        "eq1 = Par1.equation(x='x', y='y')\n",
        "dict_free = {str(a): a for a in eq1.free_symbols}\n",
        "\n",
        "print(f'Вершина: {Par1.vertex}')\n",
        "print(f'Угол: {Par1.angle}')\n",
        "print(f'Фокус: {Par1.focus}')\n",
        "print(f'Ось симетрии: {Par1.axis_symmetry}')\n",
        "display(Par1.ax_sym_equation(equation=True))\n",
        "print(f'Директриса: {Par1.directrix}')\n",
        "display(Par1.dir_equation(equation=True))\n",
        "print('Уравнение')\n",
        "display(Par1.equation(equation=True))\n",
        "\n",
        "\n",
        "graph = plot_implicit(Par1.equation(x='x', y='y'),\n",
        "                       (Symbol('x'), -50, 50), (Symbol('y'), -50, 50),\n",
        "                  line_color='g', aspect_ratio=(1, 1),\n",
        "                   show=False, adaptive=False)\n",
        "\n",
        "graph.extend(plot_implicit(Par1.dir_equation(x='x', y='y'),\n",
        "                      (Symbol('x'), -50, 50), (Symbol('y'), -50, 50),\n",
        "                 line_color='r', aspect_ratio=(1, 1),\n",
        "                  show=False, adaptive=False))\n",
        "   \n",
        "graph.extend(plot_implicit(Par1.ax_sym_equation(x='x', y='y'),\n",
        "                      (Symbol('x'), -50, 50), (Symbol('y'), -50, 50),\n",
        "                 line_color='b', aspect_ratio=(1, 1),\n",
        "                  show=False, adaptive=False))\n",
        "\n",
        "\n",
        "graph.show()"
      ],
      "metadata": {
        "id": "3lGncOR9EW7e",
        "colab": {
          "base_uri": "https://localhost:8080/",
          "height": 536
        },
        "outputId": "480d06b0-21c4-4c9e-c12b-225f2db21297"
      },
      "execution_count": 85,
      "outputs": [
        {
          "output_type": "stream",
          "name": "stdout",
          "text": [
            "Вершина: Point2D(-4, -4)\n",
            "Угол: pi/6\n",
            "Фокус: Point2D(-4 + 9*sqrt(3)/4, -25/4)\n",
            "Ось симетрии: Line2D(Point2D(-4 + 9*sqrt(3)/4, -25/4), Point2D(-4, -4))\n"
          ]
        },
        {
          "output_type": "display_data",
          "data": {
            "text/plain": [
              "Eq(-9*x/4 - 9*sqrt(3)*y/4 - 9*sqrt(3) - 9, 0)"
            ],
            "text/latex": "$\\displaystyle - \\frac{9 x}{4} - \\frac{9 \\sqrt{3} y}{4} - 9 \\sqrt{3} - 9 = 0$"
          },
          "metadata": {}
        },
        {
          "output_type": "stream",
          "name": "stdout",
          "text": [
            "Директриса: Line2D(Point2D(-4 - 9*sqrt(3)/4, -7/4), Point2D(-9*sqrt(3)/4 - 7/4, -7/4 + 9*sqrt(3)/4))\n"
          ]
        },
        {
          "output_type": "display_data",
          "data": {
            "text/plain": [
              "Eq(-9*sqrt(3)*x/4 + 9*y/4 - 9*sqrt(3) - 45/4, 0)"
            ],
            "text/latex": "$\\displaystyle - \\frac{9 \\sqrt{3} x}{4} + \\frac{9 y}{4} - 9 \\sqrt{3} - \\frac{45}{4} = 0$"
          },
          "metadata": {}
        },
        {
          "output_type": "stream",
          "name": "stdout",
          "text": [
            "Уравнение\n"
          ]
        },
        {
          "output_type": "display_data",
          "data": {
            "text/plain": [
              "Eq((x/2 + sqrt(3)*(y + 4)/2 + 2)**2, -9*y + 9*sqrt(3)*(x + 4) - 36)"
            ],
            "text/latex": "$\\displaystyle \\left(\\frac{x}{2} + \\frac{\\sqrt{3} \\left(y + 4\\right)}{2} + 2\\right)^{2} = - 9 y + 9 \\sqrt{3} \\left(x + 4\\right) - 36$"
          },
          "metadata": {}
        },
        {
          "output_type": "display_data",
          "data": {
            "text/plain": [
              "<Figure size 432x288 with 1 Axes>"
            ],
            "image/png": "[encoded data removed]"
          },
          "metadata": {
            "needs_background": "light"
          }
        }
      ]
    }
  ]
}