{
  "nbformat": 4,
  "nbformat_minor": 0,
  "metadata": {
    "kernelspec": {
      "display_name": "Python 3",
      "language": "python",
      "name": "python3"
    },
    "language_info": {
      "codemirror_mode": {
        "name": "ipython",
        "version": 3
      },
      "file_extension": ".py",
      "mimetype": "text/x-python",
      "name": "python",
      "nbconvert_exporter": "python",
      "pygments_lexer": "ipython3",
      "version": "3.7.3"
    },
    "colab": {
      "provenance": []
    }
  },
  "cells": [
    {
      "cell_type": "code",
      "metadata": {
        "id": "icrkYljeEln7"
      },
      "source": [
        "import sympy\n",
        "from sympy import Matrix, S, Symbol, symbols, I, zeros, eye\n",
        "from sympy import simplify, expand, expand_complex, latex\n",
        "import numpy as np\n",
        "from IPython.display import Latex"
      ],
      "execution_count": null,
      "outputs": []
    },
    {
      "cell_type": "markdown",
      "metadata": {
        "id": "t-ZvhFPEEln9"
      },
      "source": [
        "# Практическое занятие 17\n",
        "# Компьютерный практикум по алгебре на Python\n",
        "## Матричные разложения: Холецкого, LDL, LU, QR. Жорданова форма."
      ]
    },
    {
      "cell_type": "markdown",
      "metadata": {
        "id": "iLYVC4z3Eln-"
      },
      "source": [
        "### Задание 1.\n",
        "Построить разложение Холецкого матриц\n",
        "$$\n",
        "M1=\\left(\n",
        "\\begin{matrix}\n",
        "1&-3&0\\\\\n",
        "-3&-2&10\\\\\n",
        "0&10&7\n",
        "\\end{matrix}\n",
        "\\right)\n",
        "\\quad\n",
        "M2=\\left(\n",
        "\\begin{matrix}\n",
        "18&1 - 2I& -2\\\\\n",
        "1 + 2I&4&-3I\\\\\n",
        "-2&3I&5\n",
        "\\end{matrix}\n",
        "\\right)\n",
        "$$\n",
        "Проверить положительную определенность эрмитовой матрицы."
      ]
    },
    {
      "cell_type": "code",
      "source": [
        "M1 = Matrix([[1, -3, 0], [-3, -2, 10], [0, 10, 7]])\n",
        "L_1 = simplify(M1.cholesky(hermitian=False))\n",
        "display(Latex(f'L_1 = {latex(L_1)},\\ L_1^T = {latex(L_1.T)},\\ L_1L_1^T - M1= {latex(simplify(L_1 * L_1.T - M1))} '))\n",
        "\n",
        "if (M1.is_positive_definite):\n",
        "    display(Latex(latex(\"M1 is positive definite\")))\n",
        "else:\n",
        "    display(Latex(latex(\"M1 is not positive definite\")))"
      ],
      "metadata": {
        "id": "wJICZXTpqhcs",
        "colab": {
          "base_uri": "https://localhost:8080/",
          "height": 108
        },
        "outputId": "b8d479f3-cd45-479a-e130-ab5aca2eec2b"
      },
      "execution_count": null,
      "outputs": [
        {
          "output_type": "display_data",
          "data": {
            "text/plain": [
              "<IPython.core.display.Latex object>"
            ],
            "text/latex": "L_1 = \\left[\\begin{matrix}1 & 0 & 0\\\\-3 & \\sqrt{11} i & 0\\\\0 & - \\frac{10 \\sqrt{11} i}{11} & \\frac{\\sqrt{1947}}{11}\\end{matrix}\\right],\\ L_1^T = \\left[\\begin{matrix}1 & -3 & 0\\\\0 & \\sqrt{11} i & - \\frac{10 \\sqrt{11} i}{11}\\\\0 & 0 & \\frac{\\sqrt{1947}}{11}\\end{matrix}\\right],\\ L_1L_1^T - M1= \\left[\\begin{matrix}0 & 0 & 0\\\\0 & 0 & 0\\\\0 & 0 & 0\\end{matrix}\\right] "
          },
          "metadata": {}
        },
        {
          "output_type": "display_data",
          "data": {
            "text/plain": [
              "<IPython.core.display.Latex object>"
            ],
            "text/latex": "\\mathtt{\\text{M1 is not positive definite}}"
          },
          "metadata": {}
        }
      ]
    },
    {
      "cell_type": "code",
      "source": [
        "M2 = Matrix([[18, 1 - 2 * I, -2], [I * 2 + 1, 4, -3 * I], [-2, 3 * I, 5]])\n",
        "L_2 = simplify(M2.cholesky())\n",
        "display(Latex(f'L_2 = {latex(L_2)},\\ L_2^H = {latex(L_2.H)},\\ L_2L_2^H - M2= {latex(simplify(L_2 * L_2.H - M2))} '))\n",
        "\n",
        "if (M2.is_positive_definite):\n",
        "    display(Latex(latex(\"M2 is positive definite\")))\n",
        "else:\n",
        "    display(Latex(latex(\"M2 is not positive definite\")))"
      ],
      "metadata": {
        "colab": {
          "base_uri": "https://localhost:8080/",
          "height": 111
        },
        "id": "a5-pfQ3FmCDE",
        "outputId": "4bda4b4e-82bd-464e-ab50-f58f5cf33428"
      },
      "execution_count": null,
      "outputs": [
        {
          "output_type": "display_data",
          "data": {
            "text/plain": [
              "<IPython.core.display.Latex object>"
            ],
            "text/latex": "L_2 = \\left[\\begin{matrix}3 \\sqrt{2} & 0 & 0\\\\\\frac{\\sqrt{2} \\left(1 + 2 i\\right)}{6} & \\frac{\\sqrt{134}}{6} & 0\\\\- \\frac{\\sqrt{2}}{3} & \\frac{\\sqrt{134} \\left(1 + 25 i\\right)}{201} & \\frac{\\sqrt{12127}}{67}\\end{matrix}\\right],\\ L_2^H = \\left[\\begin{matrix}3 \\sqrt{2} & \\frac{\\sqrt{2} \\left(1 - 2 i\\right)}{6} & - \\frac{\\sqrt{2}}{3}\\\\0 & \\frac{\\sqrt{134}}{6} & \\frac{\\sqrt{134} \\left(1 - 25 i\\right)}{201}\\\\0 & 0 & \\frac{\\sqrt{12127}}{67}\\end{matrix}\\right],\\ L_2L_2^H - M2= \\left[\\begin{matrix}0 & 0 & 0\\\\0 & 0 & 0\\\\0 & 0 & 0\\end{matrix}\\right] "
          },
          "metadata": {}
        },
        {
          "output_type": "display_data",
          "data": {
            "text/plain": [
              "<IPython.core.display.Latex object>"
            ],
            "text/latex": "\\mathtt{\\text{M2 is positive definite}}"
          },
          "metadata": {}
        }
      ]
    },
    {
      "cell_type": "markdown",
      "metadata": {
        "id": "qrvNv_U7EloA"
      },
      "source": [
        "### Задание 2.\n",
        "Построить  LDL разложение для матриц Задания 1."
      ]
    },
    {
      "cell_type": "code",
      "source": [
        "LM1, DM1 = M1.LDLdecomposition(hermitian=False)\n",
        "LM2, DM2 = M2.LDLdecomposition()\n",
        "\n",
        "display(Latex(f'LM_1 = {latex(LM1)},\\ DM_1 = {latex(DM1)},\\ LM_1^T = {latex(LM1.T)},\\ LM_1 * DM_1 * LM_1^T= {latex(simplify(LM1 * DM1 * LM1.T))} '))\n",
        "print('\\n')\n",
        "display(Latex(f'LM_2 = {latex(simplify(LM2))},\\ DM_2 = {latex(simplify(DM2))},\\ LM_2^H = {latex(simplify(LM2.H))},\\ LM_2 * DM_2 * LM_2^H= {latex(simplify(LM2 * DM2 * LM2.H))} '))\n"
      ],
      "metadata": {
        "id": "HCm3Ntt_qirr",
        "colab": {
          "base_uri": "https://localhost:8080/",
          "height": 176
        },
        "outputId": "b0a8e55c-f4ed-420a-db2a-62dc66e78c82"
      },
      "execution_count": null,
      "outputs": [
        {
          "output_type": "display_data",
          "data": {
            "text/plain": [
              "<IPython.core.display.Latex object>"
            ],
            "text/latex": "LM_1 = \\left[\\begin{matrix}1 & 0 & 0\\\\-3 & 1 & 0\\\\0 & - \\frac{10}{11} & 1\\end{matrix}\\right],\\ DM_1 = \\left[\\begin{matrix}1 & 0 & 0\\\\0 & -11 & 0\\\\0 & 0 & \\frac{177}{11}\\end{matrix}\\right],\\ LM_1^T = \\left[\\begin{matrix}1 & -3 & 0\\\\0 & 1 & - \\frac{10}{11}\\\\0 & 0 & 1\\end{matrix}\\right],\\ LM_1 * DM_1 * LM_1^T= \\left[\\begin{matrix}1 & -3 & 0\\\\-3 & -2 & 10\\\\0 & 10 & 7\\end{matrix}\\right] "
          },
          "metadata": {}
        },
        {
          "output_type": "stream",
          "name": "stdout",
          "text": [
            "\n",
            "\n"
          ]
        },
        {
          "output_type": "display_data",
          "data": {
            "text/plain": [
              "<IPython.core.display.Latex object>"
            ],
            "text/latex": "LM_2 = \\left[\\begin{matrix}1 & 0 & 0\\\\\\frac{1}{18} + \\frac{i}{9} & 1 & 0\\\\- \\frac{1}{9} & \\frac{2}{67} + \\frac{50 i}{67} & 1\\end{matrix}\\right],\\ DM_2 = \\left[\\begin{matrix}18 & 0 & 0\\\\0 & \\frac{67}{18} & 0\\\\0 & 0 & \\frac{181}{67}\\end{matrix}\\right],\\ LM_2^H = \\left[\\begin{matrix}1 & \\frac{1}{18} - \\frac{i}{9} & - \\frac{1}{9}\\\\0 & 1 & \\frac{2}{67} - \\frac{50 i}{67}\\\\0 & 0 & 1\\end{matrix}\\right],\\ LM_2 * DM_2 * LM_2^H= \\left[\\begin{matrix}18 & 1 - 2 i & -2\\\\1 + 2 i & 4 & - 3 i\\\\-2 & 3 i & 5\\end{matrix}\\right] "
          },
          "metadata": {}
        }
      ]
    },
    {
      "cell_type": "markdown",
      "metadata": {
        "id": "FVp0Db5lEloB"
      },
      "source": [
        "### Задание  3.\n",
        "Построить  LU разложение для матрицы \n",
        "$$\n",
        "V=\\left(\n",
        "\\begin{matrix}\n",
        "5&-2 - I&3 - 4I&1 + 4I\\\\\n",
        "1 - I&-2&5 - I&2 - I\\\\\n",
        "5&6 + I&0&5 \n",
        "\\end{matrix}\n",
        "\\right)\n",
        "$$"
      ]
    },
    {
      "cell_type": "code",
      "source": [
        "V = Matrix([[5, -2 - I, 3 - 4 * I, 1 + 4 * I], [1 - I, -2, 5 - I, 2 - I], [5, 6 + I, 0, 5]])\n",
        "\n",
        "L, U, perm = V.LUdecomposition()\n",
        "display(Latex(\"V = {}\\\\\\\\perm = {}, L = {}, U = {}\\\\\\\\LU = {}\\\n",
        "\".format(*map(latex, (V, perm, *map(simplify, map(expand, (L, U, L * U))))))))\n",
        "\n",
        "number_of_rows = V.shape[0]\n",
        "MLU = simplify(expand((L * U).permuteBkwd(perm)))\n",
        "P = eye(number_of_rows).permuteFwd(perm)\n",
        "display(Latex(f\"LU.permuteBkwd(perm) = {latex(MLU)}\\\\\\\\\\\n",
        "PV = LU:\\ {P * V == simplify(expand(L * U))}\")) \n"
      ],
      "metadata": {
        "id": "ktdkWgwkqki8",
        "colab": {
          "base_uri": "https://localhost:8080/",
          "height": 283
        },
        "outputId": "7766a6a5-0dec-4207-ac34-ed2ec1fbaeb7"
      },
      "execution_count": 62,
      "outputs": [
        {
          "output_type": "display_data",
          "data": {
            "text/plain": [
              "<IPython.core.display.Latex object>"
            ],
            "text/latex": "V = \\left[\\begin{matrix}5 & -2 - i & 3 - 4 i & 1 + 4 i\\\\1 - i & -2 & 5 - i & 2 - i\\\\5 & 6 + i & 0 & 5\\end{matrix}\\right]\\\\perm = \\left[ \\left[ 1, \\  2\\right]\\right], L = \\left[\\begin{matrix}1 & 0 & 0\\\\1 & 1 & 0\\\\\\frac{1}{5} - \\frac{i}{5} & - \\frac{29}{170} + \\frac{3 i}{170} & 1\\end{matrix}\\right], U = \\left[\\begin{matrix}5 & -2 - i & 3 - 4 i & 1 + 4 i\\\\0 & 8 + 2 i & -3 + 4 i & 4 - 4 i\\\\0 & 0 & \\frac{809}{170} + \\frac{193 i}{170} & \\frac{137}{85} - \\frac{40 i}{17}\\end{matrix}\\right]\\\\LU = \\left[\\begin{matrix}5 & -2 - i & 3 - 4 i & 1 + 4 i\\\\5 & 6 + i & 0 & 5\\\\1 - i & -2 & 5 - i & 2 - i\\end{matrix}\\right]"
          },
          "metadata": {}
        },
        {
          "output_type": "display_data",
          "data": {
            "text/plain": [
              "<IPython.core.display.Latex object>"
            ],
            "text/latex": "LU.permuteBkwd(perm) = \\left[\\begin{matrix}5 & -2 - i & 3 - 4 i & 1 + 4 i\\\\1 - i & -2 & 5 - i & 2 - i\\\\5 & 6 + i & 0 & 5\\end{matrix}\\right]\\\\PV = LU:\\ True"
          },
          "metadata": {}
        }
      ]
    },
    {
      "cell_type": "markdown",
      "metadata": {
        "id": "w9-3cXYHEloC"
      },
      "source": [
        "### Задание  4.\n",
        "Построить  QR разложение для матрицы\n",
        "$$\n",
        "A=\\left(\n",
        "\\begin{matrix}\n",
        "3 + i&  2 & -i & 4 - 2i\\\\\n",
        "-2 & -3 &  i & -3 + i\\\\\n",
        "1 + i & -1 &  0 & 1 - i\\\\\n",
        "-1 + i &  -4 & i & -2\n",
        "\\end{matrix}\n",
        "\\right)\n",
        "$$\n",
        "показать, что $A = QR$."
      ]
    },
    {
      "cell_type": "code",
      "source": [
        "A = Matrix([[3 + I, 2, -I, 4 - 2 * I], [-2, -3, I, -3 + I], [1 + I, -1, 0, 1 - I], [-1 + I, -4, I, -2]])\n",
        "\n",
        "Q, R = A.QRdecomposition()\n",
        "AQR = Q * R\n",
        "Q, R, AQR = [simplify(expand(item)) for item in (Q, R, AQR)]\n",
        "display(Latex(\"\"\"A = {}\\\\\\\\Q = {}, R = {}\\\\\\\\\n",
        "QR = {}\\\\\\\\A = QR:\\ {}\"\"\".format(*map(latex, (A, Q, R, AQR, A == AQR))))) "
      ],
      "metadata": {
        "id": "QkM7ebfyqmUM",
        "colab": {
          "base_uri": "https://localhost:8080/",
          "height": 303
        },
        "outputId": "8f059662-ad65-4948-829b-4634ade8409b"
      },
      "execution_count": 56,
      "outputs": [
        {
          "output_type": "display_data",
          "data": {
            "text/plain": [
              "<IPython.core.display.Latex object>"
            ],
            "text/latex": "A = \\left[\\begin{matrix}3 + i & 2 & - i & 4 - 2 i\\\\-2 & -3 & i & -3 + i\\\\1 + i & -1 & 0 & 1 - i\\\\-1 + i & -4 & i & -2\\end{matrix}\\right]\\\\Q = \\left[\\begin{matrix}\\frac{\\sqrt{2} \\left(3 + i\\right)}{6} & - \\frac{\\sqrt{17} \\left(1 + 4 i\\right)}{51}\\\\- \\frac{\\sqrt{2}}{3} & \\frac{\\sqrt{17} \\left(-4 + i\\right)}{51}\\\\\\frac{\\sqrt{2} \\left(1 + i\\right)}{6} & - \\frac{\\sqrt{17} \\left(5 + 3 i\\right)}{51}\\\\\\frac{\\sqrt{2} \\left(-1 + i\\right)}{6} & - \\frac{\\sqrt{17} \\left(9 + 2 i\\right)}{51}\\end{matrix}\\right], R = \\left[\\begin{matrix}3 \\sqrt{2} & \\frac{\\sqrt{2} \\left(5 + i\\right)}{2} & - \\sqrt{2} i & \\sqrt{2} \\left(3 - 2 i\\right)\\\\0 & \\sqrt{17} & \\frac{\\sqrt{17} \\left(1 - 4 i\\right)}{17} & \\frac{\\sqrt{17} \\left(11 + 7 i\\right)}{17}\\end{matrix}\\right]\\\\\nQR = \\left[\\begin{matrix}3 + i & 2 & - i & 4 - 2 i\\\\-2 & -3 & i & -3 + i\\\\1 + i & -1 & 0 & 1 - i\\\\-1 + i & -4 & i & -2\\end{matrix}\\right]\\\\A = QR:\\ \\text{True}"
          },
          "metadata": {}
        }
      ]
    },
    {
      "cell_type": "markdown",
      "metadata": {
        "id": "JoekvCeBEloD"
      },
      "source": [
        "### Задание  5.\n",
        "Построить  жорданову форму для матрицы\n",
        "$$\n",
        "K=\\left(\n",
        "\\begin{matrix}\n",
        "6 &  5 & -2 & -3\\\\\n",
        "-3 & -1 &  3 &  3\\\\\n",
        "2 &  1 & -2 &  -3\\\\\n",
        "-1 & 1 & 5 & 5\n",
        "\\end{matrix}\n",
        "\\right)\n",
        "$$"
      ]
    },
    {
      "cell_type": "code",
      "source": [
        "K = Matrix([[6,  5, -2, -3], [-3, -1,  3,  3], [2,  1, -2, -3], [-1,  1,  5,  5]])\n",
        "P, J = K.jordan_form()\n",
        "P, J = [simplify(expand(item)) for item in (P, J)]\n",
        "display(Latex('P = {}, J = {}\\\\\\\\PJP^{{-1}} = {}, K  = {}'.format(*map(latex, (P, J, P * J * P ** (-1), K)))))"
      ],
      "metadata": {
        "id": "n97Ne8Boqn30",
        "colab": {
          "base_uri": "https://localhost:8080/",
          "height": 180
        },
        "outputId": "b4858418-d4e6-4154-e3ce-4e14893d2bed"
      },
      "execution_count": 57,
      "outputs": [
        {
          "output_type": "display_data",
          "data": {
            "text/plain": [
              "<IPython.core.display.Latex object>"
            ],
            "text/latex": "P = \\left[\\begin{matrix}4 & 1 & 5 & 0\\\\-3 & 0 & -3 & 1\\\\2 & 0 & 1 & 0\\\\-1 & 0 & 1 & 0\\end{matrix}\\right], J = \\left[\\begin{matrix}2 & 1 & 0 & 0\\\\0 & 2 & 0 & 0\\\\0 & 0 & 2 & 1\\\\0 & 0 & 0 & 2\\end{matrix}\\right]\\\\PJP^{-1} = \\left[\\begin{matrix}6 & 5 & -2 & -3\\\\-3 & -1 & 3 & 3\\\\2 & 1 & -2 & -3\\\\-1 & 1 & 5 & 5\\end{matrix}\\right], K  = \\left[\\begin{matrix}6 & 5 & -2 & -3\\\\-3 & -1 & 3 & 3\\\\2 & 1 & -2 & -3\\\\-1 & 1 & 5 & 5\\end{matrix}\\right]"
          },
          "metadata": {}
        }
      ]
    },
    {
      "cell_type": "markdown",
      "metadata": {
        "id": "gTTZBv9tEloE"
      },
      "source": [
        "### Индивидуальное задание.\n",
        "Решить с помощью  QR разложения матрицы\n",
        "$A$\n",
        "систему линейных уравнений\n",
        "$AX = b$."
      ]
    },
    {
      "cell_type": "code",
      "source": [
        "#126\n",
        "A = Matrix([[-6,  -4, -8, 7], [1, -6,  -2,  6], [-6,  -18, -3, 16], [-7,  -12,  -1,  10]]) \n",
        "b = Matrix([-8, -9, -33, -21])\n",
        "Ab = A.row_join(b)\n",
        "print(f\"\"\"A.rank = {A.rank()}, Ab.rank = {Ab.rank()},\n",
        "A.rank == Ab.rank(): {A.rank() == Ab.rank()}\"\"\")"
      ],
      "metadata": {
        "id": "SY7bp3guqpNE",
        "colab": {
          "base_uri": "https://localhost:8080/"
        },
        "outputId": "6c3e58af-a62b-417d-906d-357fdf5b84d7"
      },
      "execution_count": 58,
      "outputs": [
        {
          "output_type": "stream",
          "name": "stdout",
          "text": [
            "A.rank = 3, Ab.rank = 4,\n",
            "A.rank == Ab.rank(): False\n"
          ]
        }
      ]
    },
    {
      "cell_type": "markdown",
      "source": [
        "СЛАУ несовместна"
      ],
      "metadata": {
        "id": "heWhPYTUsMiD"
      }
    },
    {
      "cell_type": "code",
      "source": [
        "X = A.QRsolve(b)\n",
        "X = X.col_join(Matrix([0]))\n",
        "delta = A * X - b\n",
        "display(Latex('X = {}, delta = {}, delta.norm(2) = {}'.format(*map(latex, (X, delta, delta.norm(2))))))"
      ],
      "metadata": {
        "colab": {
          "base_uri": "https://localhost:8080/",
          "height": 99
        },
        "id": "vLi1mhChsNZf",
        "outputId": "1d52d8b8-dbbe-4377-d788-38cfa92694fa"
      },
      "execution_count": 61,
      "outputs": [
        {
          "output_type": "display_data",
          "data": {
            "text/plain": [
              "<IPython.core.display.Latex object>"
            ],
            "text/latex": "X = \\left[\\begin{matrix}\\frac{13}{60}\\\\\\frac{41}{24}\\\\- \\frac{1}{60}\\\\0\\end{matrix}\\right], delta = \\left[\\begin{matrix}0\\\\-1\\\\1\\\\-1\\end{matrix}\\right], delta.norm(2) = \\sqrt{3}"
          },
          "metadata": {}
        }
      ]
    }
  ]
}