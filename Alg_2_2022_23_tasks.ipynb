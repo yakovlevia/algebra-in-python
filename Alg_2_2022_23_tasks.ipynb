﻿{
  "nbformat": 4,
  "nbformat_minor": 0,
  "metadata": {
    "kernelspec": {
      "display_name": "Python 3",
      "language": "python",
      "name": "python3"
    },
    "language_info": {
      "codemirror_mode": {
        "name": "ipython",
        "version": 3
      },
      "file_extension": ".py",
      "mimetype": "text/x-python",
      "name": "python",
      "nbconvert_exporter": "python",
      "pygments_lexer": "ipython3",
      "version": "3.7.3"
    },
    "colab": {
      "provenance": []
    }
  },
  "cells": [
    {
      "cell_type": "markdown",
      "metadata": {
        "id": "V1qo8kCJaU1a"
      },
      "source": [
        "# Практическое занятие 2\n",
        "# Компьютерный практикум по алгебре на Python"
      ]
    },
    {
      "cell_type": "markdown",
      "metadata": {
        "id": "nrNldgTvaU1k"
      },
      "source": [
        "## Матрицы. Подстановки, действия над строками, столбцами и элементами. Формулы Крамера для решения СЛАУ.\n",
        "https://docs.sympy.org/latest/tutorial/matrices.html"
      ]
    },
    {
      "cell_type": "code",
      "metadata": {
        "id": "DW7G-QrZaU1l"
      },
      "source": [
        "#https://www.sympy.org/en/index.html\n",
        "# sympy - модуль для символьных преобразований\n",
        "from sympy import *"
      ],
      "execution_count": 4,
      "outputs": []
    },
    {
      "cell_type": "markdown",
      "metadata": {
        "id": "pebe8gBxaU1n"
      },
      "source": [
        "### Задание 1\n",
        "Решить по формулам Крамера СЛАУ \n",
        "\\begin{align*}\n",
        "\\left\\{\\begin{matrix} 2 x_{1} +  x_{3}  = -8\n",
        "\\\\- 4 x_{1} + 5 x_{2}  = 20\n",
        "\\\\- 6 x_{2} + x_{3}  = 2\n",
        "\\end{matrix}\\right.\n",
        " \\end{align*}\n",
        "Проверить правильность найденного решения подстановкой (в математическом смысле! subs не нужно использовать). \n",
        "\n",
        "Под проверкой правильности понимается проверка выполнения равенства $AX=b$ или $AX-b=\\bar 0$."
      ]
    },
    {
      "cell_type": "code",
      "source": [
        "def make_ans(A, b, t):\n",
        "  A1 = A.copy()\n",
        "  A1.col_del(t)\n",
        "  A1 = A1.col_insert(t, b)\n",
        "  return A1.det() / A.det()\n",
        "\n",
        "A = Matrix([[2, 0, 1], [-4, 5, 0], [0, -6, 1]])\n",
        "b = Matrix([-8, 20, 2])\n",
        "X = Matrix()\n",
        "X = simplify(X.col_insert(0, [\n",
        "    make_ans(A, b, 0), \n",
        "    make_ans(A, b, 1), \n",
        "    make_ans(A, b, 2)\n",
        "]))\n",
        "\n",
        "display(X, A * X - b == Matrix([0, 0, 0]))"
      ],
      "metadata": {
        "id": "1yTApGRTHz3S",
        "colab": {
          "base_uri": "https://localhost:8080/",
          "height": 95
        },
        "outputId": "c615b8eb-2ec8-4af0-a0ce-8fa7f0567c31"
      },
      "execution_count": null,
      "outputs": [
        {
          "output_type": "display_data",
          "data": {
            "text/plain": [
              "Matrix([\n",
              "[-5],\n",
              "[ 0],\n",
              "[ 2]])"
            ],
            "text/latex": "$\\displaystyle \\left[\\begin{matrix}-5\\\\0\\\\2\\end{matrix}\\right]$"
          },
          "metadata": {}
        },
        {
          "output_type": "display_data",
          "data": {
            "text/plain": [
              "True"
            ]
          },
          "metadata": {}
        }
      ]
    },
    {
      "cell_type": "markdown",
      "metadata": {
        "id": "WfVS2gyDaU1r"
      },
      "source": [
        "### Задание 2\n",
        "Решить по формулам Крамера СЛАУ с параметром\n",
        "\\begin{align*}\n",
        "\\left\\{\\begin{matrix} a x_{1} + 2 x_{2}  = -7\n",
        "\\\\- 4 x_{1} + 5 x_{2} + 3 x_{3} = 9\n",
        "\\\\ 3 x_{1} + x_{3}  = 2\n",
        "\\end{matrix}\\right.\n",
        " \\end{align*}\n",
        "Проверить правильность найденного решения подстановкой.\n",
        "\n",
        "Составить матрицу $S$, столбцы которой являются решениями данной СЛАУ при $a = -1, 0, 3$.\n",
        "\n",
        "**Указание.** \n",
        "\n",
        "Оформить решение по формулам Крамера в виде функции.\n",
        "\n",
        "Параметр $a$ описать как символ.\n",
        "\n",
        "Использовать подстановки **subs** для построения матриц данной СЛАУ при $a = -1, 0, 3$ на основе матрицы с параметром.\n",
        "\n",
        "Воспользоваться **simplify** для того, чтобы упростить выражение при проверке."
      ]
    },
    {
      "cell_type": "code",
      "source": [
        "def make_var(A, b, t):\n",
        "  A1 = A.copy()\n",
        "  A1.col_del(t)\n",
        "  A1 = A1.col_insert(t, b)\n",
        "  return A1.det() / A.det()\n",
        "  \n",
        "A = Matrix([[Symbol('a'), 2, 0], [-4, 5, 3], [3, 0, 1]])\n",
        "b = Matrix([-7, 9, 2])\n",
        "X = Matrix()\n",
        "X = simplify(X.col_insert(0, Matrix([\n",
        "    make_var(A, b, 0), \n",
        "    make_var(A, b, 1), \n",
        "    make_var(A, b, 2)\n",
        "])))\n",
        "\n",
        "display(simplify(A* X) == b)\n",
        "\n",
        "M = Matrix()\n",
        "M = M.col_insert(0, simplify(X.subs({Symbol('a') : -1})))\n",
        "M = M.col_insert(1, simplify(X.subs({Symbol('a') : 0})))\n",
        "M = M.col_insert(2, simplify(X.subs({Symbol('a') : 3})))\n",
        "display(M)"
      ],
      "metadata": {
        "id": "wejcdzaeH1xV",
        "colab": {
          "base_uri": "https://localhost:8080/",
          "height": 96
        },
        "outputId": "204c9650-c6ca-4b38-fe1b-908a8dd6b350"
      },
      "execution_count": 12,
      "outputs": [
        {
          "output_type": "display_data",
          "data": {
            "text/plain": [
              "True"
            ]
          },
          "metadata": {}
        },
        {
          "output_type": "display_data",
          "data": {
            "text/plain": [
              "Matrix([\n",
              "[-41/21, -41/26, -1],\n",
              "[-94/21,   -7/2, -2],\n",
              "[  55/7, 175/26,  5]])"
            ],
            "text/latex": "$\\displaystyle \\left[\\begin{matrix}- \\frac{41}{21} & - \\frac{41}{26} & -1\\\\- \\frac{94}{21} & - \\frac{7}{2} & -2\\\\\\frac{55}{7} & \\frac{175}{26} & 5\\end{matrix}\\right]$"
          },
          "metadata": {}
        }
      ]
    },
    {
      "cell_type": "markdown",
      "metadata": {
        "id": "Ufm8BDgxaU1t"
      },
      "source": [
        "### Задание 3.\n",
        "Решить по формулам Крамера СЛАУ с параметрами\n",
        "\\begin{align*}\n",
        "\\left\\{\\begin{matrix} x_{1} + a_{12} x_{2}  = b_1\n",
        "\\\\ x_{1} + a_{22} x_{2}  = b_2\n",
        "\\end{matrix}\\right.\n",
        "\\end{align*}\n",
        "Проверить правильность найденного решения подстановкой.\n",
        "\n",
        "Найти такие наборы параметров, для которых полученное решение неприменимо (подсказка - из-за деления на ноль).\n",
        "\n",
        "Показать, что для этих наборов определитель матрицы левой части равен нулю, использовать подстановки subs."
      ]
    },
    {
      "cell_type": "code",
      "source": [
        "A = Matrix([[1, Symbol('a12')], [1, Symbol('a22')]])\n",
        "b = Matrix([Symbol('b1'), Symbol('b2')])\n",
        "A1 = A.copy()\n",
        "A2 = A.copy()\n",
        "A1.col_del(0)\n",
        "A2.col_del(1)\n",
        "A1 = A1.col_insert(0, b)\n",
        "A2 = A2.col_insert(1, b)\n",
        "\n",
        "A_det = A.det()\n",
        "X = simplify(Matrix([A1.det() / A_det, A2.det() / A_det]))\n",
        "\n",
        "display(X)\n",
        "display(simplify(A * X - b))"
      ],
      "metadata": {
        "id": "WzfK_ZOFH3tK",
        "colab": {
          "base_uri": "https://localhost:8080/",
          "height": 108
        },
        "outputId": "62d3cf2f-55bb-46d5-82f7-05eaeba5eb61"
      },
      "execution_count": null,
      "outputs": [
        {
          "output_type": "display_data",
          "data": {
            "text/plain": [
              "Matrix([\n",
              "[(a12*b2 - a22*b1)/(a12 - a22)],\n",
              "[        (b1 - b2)/(a12 - a22)]])"
            ],
            "text/latex": "$\\displaystyle \\left[\\begin{matrix}\\frac{a_{12} b_{2} - a_{22} b_{1}}{a_{12} - a_{22}}\\\\\\frac{b_{1} - b_{2}}{a_{12} - a_{22}}\\end{matrix}\\right]$"
          },
          "metadata": {}
        },
        {
          "output_type": "display_data",
          "data": {
            "text/plain": [
              "Matrix([\n",
              "[0],\n",
              "[0]])"
            ],
            "text/latex": "$\\displaystyle \\left[\\begin{matrix}0\\\\0\\end{matrix}\\right]$"
          },
          "metadata": {}
        }
      ]
    },
    {
      "cell_type": "markdown",
      "source": [
        "Решение не приемлимо при $a_{12}$ $=$ $a_{22}$"
      ],
      "metadata": {
        "id": "rOCl-IITsrCw"
      }
    },
    {
      "cell_type": "code",
      "source": [
        "display(A.subs({Symbol('a12') : Symbol('a22')}))\n",
        "display(A.subs({Symbol('a12') : Symbol('a22')}).det())"
      ],
      "metadata": {
        "colab": {
          "base_uri": "https://localhost:8080/",
          "height": 78
        },
        "id": "HuOXikDcssyA",
        "outputId": "d11aa977-0565-436f-c385-2dce123cafb9"
      },
      "execution_count": null,
      "outputs": [
        {
          "output_type": "display_data",
          "data": {
            "text/plain": [
              "Matrix([\n",
              "[1, a22],\n",
              "[1, a22]])"
            ],
            "text/latex": "$\\displaystyle \\left[\\begin{matrix}1 & a_{22}\\\\1 & a_{22}\\end{matrix}\\right]$"
          },
          "metadata": {}
        },
        {
          "output_type": "display_data",
          "data": {
            "text/plain": [
              "0"
            ],
            "text/latex": "$\\displaystyle 0$"
          },
          "metadata": {}
        }
      ]
    },
    {
      "cell_type": "markdown",
      "metadata": {
        "id": "bsNtxeRDaU1w"
      },
      "source": [
        "### Задание 4.\n",
        "Дана матрица \n",
        "\\begin{align*}\n",
        "M =\n",
        "\\left(\\begin{matrix} \n",
        "p & 1 & 0 \\\\\n",
        "1 & q & 1 \\\\\n",
        "0 & 1 & r\n",
        "\\end{matrix}\\right)\n",
        "\\end{align*}\n",
        "Вычислить определитель этой матрицы.\n",
        "Найти целочисленные наборы параметров $p$, $q$, $r$, для которых определитель $M$ равен нулю. Рассматривать целые числа от 0 до 12 (НЕ включительно). Использовать подстановки subs в заранее вычисленный определитель.\n",
        "\n",
        "Из найденных наборов, содержащих равный 0 элемент, как столбцов составить матрицу $P$.\n",
        "\n",
        "Из найденных наборов, состоящих только из положительных элементов, как строк составить матрицу $R$."
      ]
    },
    {
      "cell_type": "code",
      "source": [
        "M = Matrix([[Symbol('p'), 1, 0], [1, Symbol('q'), 1], [0, 1, Symbol('r')]])\n",
        "det = M.det()\n",
        "sol = []\n",
        "\n",
        "for p in range(0, 12):\n",
        "  for q in range(0, 12):\n",
        "    for r in range(0, 12):\n",
        "      if (det.subs({Symbol('p') : p, Symbol('q') : q, Symbol('r') : r}) == 0):\n",
        "        sol.append([p, q, r])\n",
        "\n",
        "P = Matrix()\n",
        "cnt0 = 0\n",
        "for obj in sol:\n",
        "  if (obj.count(0) > 0):\n",
        "    P = P.col_insert(cnt0, Matrix(obj))\n",
        "    cnt0 += 1\n",
        "\n",
        "R = Matrix()\n",
        "cnt1 = 0\n",
        "for obj in sol:\n",
        "  if (obj.count(0) == 0):\n",
        "    R = R.row_insert(cnt1, Matrix(obj).T)\n",
        "    cnt1 += 1\n",
        "\n",
        "display(det)\n",
        "display(P)\n",
        "display(R)"
      ],
      "metadata": {
        "id": "aBDfnRUGH5gl",
        "colab": {
          "base_uri": "https://localhost:8080/",
          "height": 141
        },
        "outputId": "ef24c570-142f-4be5-b714-70f799bcaf5a"
      },
      "execution_count": null,
      "outputs": [
        {
          "output_type": "display_data",
          "data": {
            "text/plain": [
              "p*q*r - p - r"
            ],
            "text/latex": "$\\displaystyle p q r - p - r$"
          },
          "metadata": {}
        },
        {
          "output_type": "display_data",
          "data": {
            "text/plain": [
              "Matrix([\n",
              "[0, 0, 0, 0, 0, 0, 0, 0, 0, 0,  0,  0],\n",
              "[0, 1, 2, 3, 4, 5, 6, 7, 8, 9, 10, 11],\n",
              "[0, 0, 0, 0, 0, 0, 0, 0, 0, 0,  0,  0]])"
            ],
            "text/latex": "$\\displaystyle \\left[\\begin{array}{cccccccccccc}0 & 0 & 0 & 0 & 0 & 0 & 0 & 0 & 0 & 0 & 0 & 0\\\\0 & 1 & 2 & 3 & 4 & 5 & 6 & 7 & 8 & 9 & 10 & 11\\\\0 & 0 & 0 & 0 & 0 & 0 & 0 & 0 & 0 & 0 & 0 & 0\\end{array}\\right]$"
          },
          "metadata": {}
        },
        {
          "output_type": "display_data",
          "data": {
            "text/plain": [
              "Matrix([\n",
              "[1, 2, 1],\n",
              "[2, 1, 2]])"
            ],
            "text/latex": "$\\displaystyle \\left[\\begin{matrix}1 & 2 & 1\\\\2 & 1 & 2\\end{matrix}\\right]$"
          },
          "metadata": {}
        }
      ]
    },
    {
      "cell_type": "markdown",
      "metadata": {
        "id": "sr7hz7rNaU1y"
      },
      "source": [
        "### Индивидуальное задание.\n",
        "В данной матрице выполнить заданные подстановки.\n",
        "\n",
        "Матрица и подстановки в файле с индивидуальными вариантами заданий."
      ]
    },
    {
      "cell_type": "code",
      "source": [
        "M = Matrix([\n",
        "  [-7, 1, Symbol('v5'), 5, 6],\n",
        "  [-6, -3, 3, 2, 5],\n",
        "  [Symbol('v6'), -5, Symbol('v1'), 5, 3],\n",
        "  [Symbol('v3'), 6, Symbol('v2'), 0, -4],\n",
        "])\n",
        "\n",
        "arr = [\n",
        "    [7, 7, 7, 6, 7, 8],\n",
        "    [8, 8, 10, 10, 6, 6],\n",
        "    [9, 10, 7, 7, 8, 7],\n",
        "    [6, 8, 8, 6, 10, 8],\n",
        "]\n",
        "\n",
        "\n",
        "display(M)\n",
        "for obj in arr:\n",
        "  display(M.subs({\n",
        "    Symbol('v1') : obj[0], Symbol('v2') : obj[1], \n",
        "    Symbol('v3') : obj[2], Symbol('v4') : obj[3], \n",
        "    Symbol('v5') : obj[4], Symbol('v6') : obj[5]\n",
        "  }))\n"
      ],
      "metadata": {
        "id": "pXpz1Q1qILvN",
        "colab": {
          "base_uri": "https://localhost:8080/",
          "height": 424
        },
        "outputId": "892c79f0-db9a-4e2d-d739-70394f8c4b1e"
      },
      "execution_count": null,
      "outputs": [
        {
          "output_type": "display_data",
          "data": {
            "text/plain": [
              "Matrix([\n",
              "[-7,  1, v5, 5,  6],\n",
              "[-6, -3,  3, 2,  5],\n",
              "[v6, -5, v1, 5,  3],\n",
              "[v3,  6, v2, 0, -4]])"
            ],
            "text/latex": "$\\displaystyle \\left[\\begin{matrix}-7 & 1 & v_{5} & 5 & 6\\\\-6 & -3 & 3 & 2 & 5\\\\v_{6} & -5 & v_{1} & 5 & 3\\\\v_{3} & 6 & v_{2} & 0 & -4\\end{matrix}\\right]$"
          },
          "metadata": {}
        },
        {
          "output_type": "display_data",
          "data": {
            "text/plain": [
              "Matrix([\n",
              "[-7,  1, 7, 5,  6],\n",
              "[-6, -3, 3, 2,  5],\n",
              "[ 8, -5, 7, 5,  3],\n",
              "[ 7,  6, 7, 0, -4]])"
            ],
            "text/latex": "$\\displaystyle \\left[\\begin{matrix}-7 & 1 & 7 & 5 & 6\\\\-6 & -3 & 3 & 2 & 5\\\\8 & -5 & 7 & 5 & 3\\\\7 & 6 & 7 & 0 & -4\\end{matrix}\\right]$"
          },
          "metadata": {}
        },
        {
          "output_type": "display_data",
          "data": {
            "text/plain": [
              "Matrix([\n",
              "[-7,  1, 6, 5,  6],\n",
              "[-6, -3, 3, 2,  5],\n",
              "[ 6, -5, 8, 5,  3],\n",
              "[10,  6, 8, 0, -4]])"
            ],
            "text/latex": "$\\displaystyle \\left[\\begin{matrix}-7 & 1 & 6 & 5 & 6\\\\-6 & -3 & 3 & 2 & 5\\\\6 & -5 & 8 & 5 & 3\\\\10 & 6 & 8 & 0 & -4\\end{matrix}\\right]$"
          },
          "metadata": {}
        },
        {
          "output_type": "display_data",
          "data": {
            "text/plain": [
              "Matrix([\n",
              "[-7,  1,  8, 5,  6],\n",
              "[-6, -3,  3, 2,  5],\n",
              "[ 7, -5,  9, 5,  3],\n",
              "[ 7,  6, 10, 0, -4]])"
            ],
            "text/latex": "$\\displaystyle \\left[\\begin{matrix}-7 & 1 & 8 & 5 & 6\\\\-6 & -3 & 3 & 2 & 5\\\\7 & -5 & 9 & 5 & 3\\\\7 & 6 & 10 & 0 & -4\\end{matrix}\\right]$"
          },
          "metadata": {}
        },
        {
          "output_type": "display_data",
          "data": {
            "text/plain": [
              "Matrix([\n",
              "[-7,  1, 10, 5,  6],\n",
              "[-6, -3,  3, 2,  5],\n",
              "[ 8, -5,  6, 5,  3],\n",
              "[ 8,  6,  8, 0, -4]])"
            ],
            "text/latex": "$\\displaystyle \\left[\\begin{matrix}-7 & 1 & 10 & 5 & 6\\\\-6 & -3 & 3 & 2 & 5\\\\8 & -5 & 6 & 5 & 3\\\\8 & 6 & 8 & 0 & -4\\end{matrix}\\right]$"
          },
          "metadata": {}
        }
      ]
    }
  ]
}