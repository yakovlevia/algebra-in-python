﻿{
  "nbformat": 4,
  "nbformat_minor": 0,
  "metadata": {
    "kernelspec": {
      "display_name": "Python 3",
      "language": "python",
      "name": "python3"
    },
    "language_info": {
      "codemirror_mode": {
        "name": "ipython",
        "version": 3
      },
      "file_extension": ".py",
      "mimetype": "text/x-python",
      "name": "python",
      "nbconvert_exporter": "python",
      "pygments_lexer": "ipython3",
      "version": "3.7.3"
    },
    "colab": {
      "provenance": []
    }
  },
  "cells": [
    {
      "cell_type": "markdown",
      "metadata": {
        "id": "KqMzidc80GGB"
      },
      "source": [
        "# Занятие 3\n",
        "# Алгебра\n",
        "## Решение систем линейных алгебраических уравнений (СЛАУ)"
      ]
    },
    {
      "cell_type": "markdown",
      "metadata": {
        "id": "675Fb5ND0GGK"
      },
      "source": [
        "https://docs.sympy.org/latest/modules/solvers/solveset.html#sympy.solvers.solveset.linsolve"
      ]
    },
    {
      "cell_type": "code",
      "metadata": {
        "id": "TNk5d0Si0GGK"
      },
      "source": [
        "from sympy import linsolve, Matrix, S, Symbol, symbols, Eq, linear_eq_to_matrix, simplify, diag"
      ],
      "execution_count": null,
      "outputs": []
    },
    {
      "cell_type": "markdown",
      "metadata": {
        "id": "dMGJ1uQC0GGM"
      },
      "source": [
        "### Задание 1.\n",
        "Решить СЛАУ, представив их тремя различными способами (расширенная матрица, список уравнений, матричный вид)\n",
        "$$\n",
        "a)\\ \\left\\{\n",
        "\\begin{matrix}\n",
        "-x+5y-3z=8\\\\\n",
        "4x-y+5z=-1\\\\\n",
        "3x+4y+5z=10\n",
        "\\end{matrix}\n",
        "\\right., \\quad \n",
        "b)\\ \\left\\{\n",
        "\\begin{matrix}\n",
        "-x+5y-3z=8\\\\\n",
        "4x-y+5z=-1\\\\\n",
        "3x+4y+2z=7\n",
        "\\end{matrix}\n",
        "\\right., \\quad \n",
        "c)\\ \\left\\{\n",
        "\\begin{matrix}\n",
        "-x+5y-3z=8\\\\\n",
        "4x-y+5z=-1\\\\\n",
        "3x+4y+2z=5\n",
        "\\end{matrix}\n",
        "\\right.\n",
        "$$"
      ]
    },
    {
      "cell_type": "code",
      "metadata": {
        "id": "mGOuiK5h0GGN",
        "colab": {
          "base_uri": "https://localhost:8080/",
          "height": 98
        },
        "outputId": "c436fc7c-1773-46b5-af3e-6d4d9864bb86"
      },
      "source": [
        "x, y, z = symbols('x y z')\n",
        "Ab = Matrix([[-1, 5, -3, 8], [4, -1, 5, -1], [3, 4, 5, 10]])\n",
        "system_eq = [-x + 5*y - 3*z - 8, 4*x - y + 5*z + 1, 3*x + 4*y + 2*z - 7]\n",
        "A = Matrix([[-1, 5, -3], [4, -1, 5], [3, 4, 2]])\n",
        "b = Matrix([8, -1, 5])\n",
        "\n",
        "display(*linsolve(Ab))\n",
        "display(*linsolve(system_eq, x, y, z))\n",
        "display(linsolve((A, b)))"
      ],
      "execution_count": null,
      "outputs": [
        {
          "output_type": "display_data",
          "data": {
            "text/plain": [
              "(-1, 2, 1)"
            ],
            "text/latex": "$\\displaystyle \\left( -1, \\  2, \\  1\\right)$"
          },
          "metadata": {}
        },
        {
          "output_type": "display_data",
          "data": {
            "text/plain": [
              "(3/19 - 22*z/19, 7*z/19 + 31/19, z)"
            ],
            "text/latex": "$\\displaystyle \\left( \\frac{3}{19} - \\frac{22 z}{19}, \\  \\frac{7 z}{19} + \\frac{31}{19}, \\  z\\right)$"
          },
          "metadata": {}
        },
        {
          "output_type": "display_data",
          "data": {
            "text/plain": [
              "EmptySet"
            ],
            "text/latex": "$\\displaystyle \\emptyset$"
          },
          "metadata": {}
        }
      ]
    },
    {
      "cell_type": "markdown",
      "metadata": {
        "id": "sJLNktgn0GGO"
      },
      "source": [
        "### Задание 2.\n",
        "\n",
        "Решить СЛАУ с параметром $a$, представив их списком уравнений, а затем приведя к матричному виду с помощью linear_eq_to_matrix\n",
        "$$\n",
        "a)\\ \\left\\{\n",
        "\\begin{matrix}\n",
        "ax+5y-3z=8\\\\\n",
        "4x-y+5z=-1\\\\\n",
        "3x+4y+5z=10\n",
        "\\end{matrix}\n",
        "\\right., \\quad \n",
        "b)\\ \\left\\{\n",
        "\\begin{matrix}\n",
        "(a-1)x+5y-3z=8\\\\\n",
        "(4+a)x-y+5z=-1\\\\\n",
        "(3+2a)x+4y+2z=7\n",
        "\\end{matrix}\n",
        "\\right., \\quad \n",
        "c) \\left\\{\n",
        "\\begin{matrix}\n",
        "-x+5y-3z=8a\\\\\n",
        "4x-ay+5z=-a\\\\\n",
        "3x+4y+2z=5a\n",
        "\\end{matrix}\n",
        "\\right.\n",
        "$$\n",
        "Решить СЛАУ а) при $a=-82/25$, b) при $a=-19/6$, $-3.17$ и $-3.167$, c) при $a=1$.\n",
        "\n",
        "Проанализировать результаты. Для каждого случая (кроме случая несовместной СЛАУ) провести проверку подстановкой.\n",
        "\n",
        "При подстановке дробей пользоваться конструкцией вида $S(num)/den$, например,\n",
        "$S(2)/3$"
      ]
    },
    {
      "cell_type": "code",
      "metadata": {
        "id": "aSNNtMhc0GGP",
        "colab": {
          "base_uri": "https://localhost:8080/",
          "height": 78
        },
        "outputId": "2d95767c-45ba-4218-8143-27944af94c70"
      },
      "source": [
        "a, x, y, z = symbols('a x y z')\n",
        "eqns_1 = [Eq(a*x + 5*y - 3*z, 8), Eq(4*x - y + 5*z, -1), Eq(3*x + 4*y + 5*z, 10)]\n",
        "A, b = linear_eq_to_matrix(eqns_1, [x, y, z])\n",
        "ans1 = linsolve(eqns_1, x, y, z)\n",
        "display(*ans1)\n",
        "display(linsolve((A.subs(a, S(-82)/25), b)))\n"
      ],
      "execution_count": null,
      "outputs": [
        {
          "output_type": "display_data",
          "data": {
            "text/plain": [
              "(-57/(25*a + 82), (55*a + 169)/(25*a + 82), (6*a + 63)/(25*a + 82))"
            ],
            "text/latex": "$\\displaystyle \\left( - \\frac{57}{25 a + 82}, \\  \\frac{55 a + 169}{25 a + 82}, \\  \\frac{6 a + 63}{25 a + 82}\\right)$"
          },
          "metadata": {}
        },
        {
          "output_type": "display_data",
          "data": {
            "text/plain": [
              "EmptySet"
            ],
            "text/latex": "$\\displaystyle \\emptyset$"
          },
          "metadata": {}
        }
      ]
    },
    {
      "cell_type": "markdown",
      "source": [
        "Матрица а) не имеет решений при  $a=-82/25$\n"
      ],
      "metadata": {
        "id": "64i_YJbH_Kn7"
      }
    },
    {
      "cell_type": "code",
      "source": [
        "a, x, y, z = symbols('a x y z')\n",
        "eqns_2 = [\n",
        "    Eq((a - 1)*x + 5*y - 3*z, 8), \n",
        "    Eq((4 + a)*x - y + 5*z, -1), \n",
        "    Eq((3 + 2*a)*x + 4*y + 2*z, 7)\n",
        "]\n",
        "A, b = linear_eq_to_matrix(eqns_2, [x, y, z])\n",
        "ans2 = linsolve(eqns_2, x, y, z)\n",
        "display(*ans2)\n",
        "display(*linsolve((A.subs(a, S(-19)/6), b)))\n",
        "X1 = linsolve((A.subs(a, S(-317)/100), b))\n",
        "X2 = linsolve((A.subs(a, S(-3167)/1000), b))\n",
        "display(*X1)\n",
        "display(*X2)"
      ],
      "metadata": {
        "id": "S6N6tWNk_fcF",
        "colab": {
          "base_uri": "https://localhost:8080/",
          "height": 180
        },
        "outputId": "a68f3cd8-79d4-47bd-c8ed-e8e4d42279b6"
      },
      "execution_count": null,
      "outputs": [
        {
          "output_type": "display_data",
          "data": {
            "text/plain": [
              "(-22*z/(6*a + 19) + 3/(6*a + 19), z*(8*a + 7)/(6*a + 19) + (9*a + 31)/(6*a + 19), z)"
            ],
            "text/latex": "$\\displaystyle \\left( - \\frac{22 z}{6 a + 19} + \\frac{3}{6 a + 19}, \\  \\frac{z \\left(8 a + 7\\right)}{6 a + 19} + \\frac{9 a + 31}{6 a + 19}, \\  z\\right)$"
          },
          "metadata": {}
        },
        {
          "output_type": "display_data",
          "data": {
            "text/plain": [
              "(6*tau0/5 - 111/55, tau0, 3/22)"
            ],
            "text/latex": "$\\displaystyle \\left( \\frac{6 \\tau_{0}}{5} - \\frac{111}{55}, \\  \\tau_{0}, \\  \\frac{3}{22}\\right)$"
          },
          "metadata": {}
        },
        {
          "output_type": "display_data",
          "data": {
            "text/plain": [
              "(1100*tau0 - 150, 918*tau0 - 247/2, tau0)"
            ],
            "text/latex": "$\\displaystyle \\left( 1100 \\tau_{0} - 150, \\  918 \\tau_{0} - \\frac{247}{2}, \\  \\tau_{0}\\right)$"
          },
          "metadata": {}
        },
        {
          "output_type": "display_data",
          "data": {
            "text/plain": [
              "(11000*tau0 - 1500, 9168*tau0 - 2497/2, tau0)"
            ],
            "text/latex": "$\\displaystyle \\left( 11000 \\tau_{0} - 1500, \\  9168 \\tau_{0} - \\frac{2497}{2}, \\  \\tau_{0}\\right)$"
          },
          "metadata": {}
        }
      ]
    },
    {
      "cell_type": "code",
      "source": [
        "display(A.subs(a, S(-317)/100) * Matrix(*X1) == b)\n",
        "display(A.subs(a, S(-3167)/1000) * Matrix(*X2) == b)"
      ],
      "metadata": {
        "colab": {
          "base_uri": "https://localhost:8080/",
          "height": 52
        },
        "id": "IHcilLYqCcOV",
        "outputId": "80d766df-17cd-412d-bd91-7536186634bf"
      },
      "execution_count": null,
      "outputs": [
        {
          "output_type": "display_data",
          "data": {
            "text/plain": [
              "True"
            ]
          },
          "metadata": {}
        },
        {
          "output_type": "display_data",
          "data": {
            "text/plain": [
              "True"
            ]
          },
          "metadata": {}
        }
      ]
    },
    {
      "cell_type": "code",
      "source": [
        "eqns_3 = [Eq(-x + 5*y - 3*z, 8*a), Eq(4*x - a*y + 5*z, -a), Eq(3*x + 4*y + 2*z, 5*a)]\n",
        "A, b = linear_eq_to_matrix(eqns_3, [x, y, z])\n",
        "ans3 = linsolve(eqns_3, x, y, z)\n",
        "display(*ans3)\n",
        "display(linsolve((A.subs(a, 1), b)))"
      ],
      "metadata": {
        "colab": {
          "base_uri": "https://localhost:8080/",
          "height": 79
        },
        "id": "yZny3ltvD5L6",
        "outputId": "71c142c1-54cb-4459-de32-c08809144416"
      },
      "execution_count": null,
      "outputs": [
        {
          "output_type": "display_data",
          "data": {
            "text/plain": [
              "((31*a**2 + 13*a)/(7*a - 7), -2*a/(a - 1), (-29*a**2 - 9*a)/(7*a - 7))"
            ],
            "text/latex": "$\\displaystyle \\left( \\frac{31 a^{2} + 13 a}{7 a - 7}, \\  - \\frac{2 a}{a - 1}, \\  \\frac{- 29 a^{2} - 9 a}{7 a - 7}\\right)$"
          },
          "metadata": {}
        },
        {
          "output_type": "display_data",
          "data": {
            "text/plain": [
              "EmptySet"
            ],
            "text/latex": "$\\displaystyle \\emptyset$"
          },
          "metadata": {}
        }
      ]
    },
    {
      "cell_type": "markdown",
      "source": [
        "Матрица c) не имеет решений при  $a=1$"
      ],
      "metadata": {
        "id": "tYaEBpZ-EfaX"
      }
    },
    {
      "cell_type": "markdown",
      "metadata": {
        "id": "m8SPA6yz0GGP"
      },
      "source": [
        "\n",
        "### Задание 3\n",
        "В расширенной матрице СЛАУ из Задания 1 а) \n",
        "\n",
        "1) выделить матрицу левой части\n",
        "\n",
        "2) выделить столбец правой части\n",
        "\n",
        "3) транспонировать матрицу, полученную в 1)\n",
        "\n",
        "4) получить расширенную матрицу из матрицы 3) и столбца 2)\n",
        "\n",
        "5) создать на основе лямбда-функции матрицу $3\\times 4$ из расположенных в шахматном порядке чисел 1 и $-1$."
      ]
    },
    {
      "cell_type": "code",
      "metadata": {
        "id": "kLp-wnly0GGQ",
        "colab": {
          "base_uri": "https://localhost:8080/",
          "height": 139
        },
        "outputId": "c6b78f91-8780-4869-d933-db7f4b129b9b"
      },
      "source": [
        "x, y, z = symbols('x y z')\n",
        "Ab = Matrix([[-1, 5, -3, 8], [4, -1, 5, -1], [3, 4, 5, 10]])\n",
        "b = Ab.col(3) # 2 task\n",
        "Ab.col_del(3)\n",
        "A = Ab.copy() # 1 task\n",
        "A = A.T # 3 task\n",
        "\n",
        "Ab_new = A.row_join(b) # 4 task\n",
        "display(Ab_new)\n",
        "M = Matrix([[((i + j) % 2) * 2 - 1 for i in range(1, 5)] for j in range(1, 4)])\n",
        "display(M) # 5 task"
      ],
      "execution_count": null,
      "outputs": [
        {
          "output_type": "display_data",
          "data": {
            "text/plain": [
              "Matrix([\n",
              "[-1,  4, 3,  8],\n",
              "[ 5, -1, 4, -1],\n",
              "[-3,  5, 5, 10]])"
            ],
            "text/latex": "$\\displaystyle \\left[\\begin{matrix}-1 & 4 & 3 & 8\\\\5 & -1 & 4 & -1\\\\-3 & 5 & 5 & 10\\end{matrix}\\right]$"
          },
          "metadata": {}
        },
        {
          "output_type": "display_data",
          "data": {
            "text/plain": [
              "Matrix([\n",
              "[-1,  1, -1,  1],\n",
              "[ 1, -1,  1, -1],\n",
              "[-1,  1, -1,  1]])"
            ],
            "text/latex": "$\\displaystyle \\left[\\begin{matrix}-1 & 1 & -1 & 1\\\\1 & -1 & 1 & -1\\\\-1 & 1 & -1 & 1\\end{matrix}\\right]$"
          },
          "metadata": {}
        }
      ]
    },
    {
      "cell_type": "markdown",
      "metadata": {
        "id": "PtPxOU3a0GGR"
      },
      "source": [
        "### Индивидуальное задание.\n",
        "Решить СЛАУ c параметром тремя способами. Вначале составить список уравнений и решить вторым способом, затем список уравнений преобразовать в матричный вид и решить третьим способом. Затем составить из матрицы левой части и столбца правой расширенную матрицу СЛАУ и решить первым способом. После этого провести проверку подстановкой.\n",
        "\n",
        "Затем отдельно рассмотреть значение параметра, при котором решение СЛАУ нельзя получить по общей формуле, полученной ранее.\n",
        "Найти решение СЛАУ при этом значении параметра первым или третьим способом, используя подстановку subs."
      ]
    },
    {
      "cell_type": "code",
      "metadata": {
        "id": "FurJsbH00GGR",
        "colab": {
          "base_uri": "https://localhost:8080/",
          "height": 191
        },
        "outputId": "b4a61d44-1cdb-4779-a693-bc234de63299"
      },
      "source": [
        "x, y, z, t, a = symbols('x y z t a')\n",
        "system_eq = [-7*x - 6*y - 3*z + 98, -9*x + y -3*z - 8*t + 115, \n",
        "             4*x + a*y -7*z - 4*t + 15, 2*x -7*y + 8*t - 17]\n",
        "\n",
        "A, b = linear_eq_to_matrix(system_eq, [x, y, z, t])\n",
        "Ab = A.row_join(b)\n",
        "\n",
        "ans1 = linsolve(system_eq, x, y, z, t)\n",
        "ans2 = linsolve((A, b))\n",
        "ans3 = linsolve(Ab)\n",
        "display(*ans1, *ans2, *ans3)\n",
        "display(simplify(A * Matrix(*ans1)) == b)\n",
        "display(simplify(A * Matrix(*ans2)) == b)\n",
        "display(simplify(A * Matrix(*ans3)) == b)"
      ],
      "execution_count": 18,
      "outputs": [
        {
          "output_type": "display_data",
          "data": {
            "text/plain": [
              "(t*(-24*a - 252)/(6*a + 511) + (51*a + 5201)/(6*a + 511), 512*t/(6*a + 511) + 245/(6*a + 511), t*(56*a - 436)/(6*a + 511) + (77*a + 4067)/(6*a + 511), t)"
            ],
            "text/latex": "$\\displaystyle \\left( \\frac{t \\left(- 24 a - 252\\right)}{6 a + 511} + \\frac{51 a + 5201}{6 a + 511}, \\  \\frac{512 t}{6 a + 511} + \\frac{245}{6 a + 511}, \\  \\frac{t \\left(56 a - 436\\right)}{6 a + 511} + \\frac{77 a + 4067}{6 a + 511}, \\  t\\right)$"
          },
          "metadata": {}
        },
        {
          "output_type": "display_data",
          "data": {
            "text/plain": [
              "(tau0*(-24*a - 252)/(6*a + 511) + (51*a + 5201)/(6*a + 511), 512*tau0/(6*a + 511) + 245/(6*a + 511), tau0*(56*a - 436)/(6*a + 511) + (77*a + 4067)/(6*a + 511), tau0)"
            ],
            "text/latex": "$\\displaystyle \\left( \\frac{\\tau_{0} \\left(- 24 a - 252\\right)}{6 a + 511} + \\frac{51 a + 5201}{6 a + 511}, \\  \\frac{512 \\tau_{0}}{6 a + 511} + \\frac{245}{6 a + 511}, \\  \\frac{\\tau_{0} \\left(56 a - 436\\right)}{6 a + 511} + \\frac{77 a + 4067}{6 a + 511}, \\  \\tau_{0}\\right)$"
          },
          "metadata": {}
        },
        {
          "output_type": "display_data",
          "data": {
            "text/plain": [
              "(tau0*(-24*a - 252)/(6*a + 511) + (51*a + 5201)/(6*a + 511), 512*tau0/(6*a + 511) + 245/(6*a + 511), tau0*(56*a - 436)/(6*a + 511) + (77*a + 4067)/(6*a + 511), tau0)"
            ],
            "text/latex": "$\\displaystyle \\left( \\frac{\\tau_{0} \\left(- 24 a - 252\\right)}{6 a + 511} + \\frac{51 a + 5201}{6 a + 511}, \\  \\frac{512 \\tau_{0}}{6 a + 511} + \\frac{245}{6 a + 511}, \\  \\frac{\\tau_{0} \\left(56 a - 436\\right)}{6 a + 511} + \\frac{77 a + 4067}{6 a + 511}, \\  \\tau_{0}\\right)$"
          },
          "metadata": {}
        },
        {
          "output_type": "display_data",
          "data": {
            "text/plain": [
              "True"
            ]
          },
          "metadata": {}
        },
        {
          "output_type": "display_data",
          "data": {
            "text/plain": [
              "True"
            ]
          },
          "metadata": {}
        },
        {
          "output_type": "display_data",
          "data": {
            "text/plain": [
              "True"
            ]
          },
          "metadata": {}
        }
      ]
    },
    {
      "cell_type": "markdown",
      "source": [
        "При $a = -551/6$ решение нельзя будет получить по этой формуле"
      ],
      "metadata": {
        "id": "2Us6nvwkwbo0"
      }
    },
    {
      "cell_type": "code",
      "source": [
        "ans4 = linsolve((A.subs(a, S(-551)/6), b))\n",
        "display(*ans4)\n",
        "display(simplify(A.subs(a, S(-551)/6) * Matrix(*ans4)) == b)"
      ],
      "metadata": {
        "colab": {
          "base_uri": "https://localhost:8080/",
          "height": 75
        },
        "id": "08IuCVP4w0pa",
        "outputId": "36886541-2363-49ce-cf23-4593bab7e3b7"
      },
      "execution_count": 25,
      "outputs": [
        {
          "output_type": "display_data",
          "data": {
            "text/plain": [
              "(-244*tau0/5 - 207/16, -64*tau0/5 - 49/8, 2092*tau0/15 + 3605/48, tau0)"
            ],
            "text/latex": "$\\displaystyle \\left( - \\frac{244 \\tau_{0}}{5} - \\frac{207}{16}, \\  - \\frac{64 \\tau_{0}}{5} - \\frac{49}{8}, \\  \\frac{2092 \\tau_{0}}{15} + \\frac{3605}{48}, \\  \\tau_{0}\\right)$"
          },
          "metadata": {}
        },
        {
          "output_type": "display_data",
          "data": {
            "text/plain": [
              "True"
            ]
          },
          "metadata": {}
        }
      ]
    }
  ]
}