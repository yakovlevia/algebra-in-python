﻿{
  "nbformat": 4,
  "nbformat_minor": 0,
  "metadata": {
    "kernelspec": {
      "display_name": "Python 3",
      "language": "python",
      "name": "python3"
    },
    "language_info": {
      "codemirror_mode": {
        "name": "ipython",
        "version": 3
      },
      "file_extension": ".py",
      "mimetype": "text/x-python",
      "name": "python",
      "nbconvert_exporter": "python",
      "pygments_lexer": "ipython3",
      "version": "3.7.3"
    },
    "colab": {
      "provenance": []
    }
  },
  "cells": [
    {
      "cell_type": "markdown",
      "metadata": {
        "id": "B600zaglO8R5"
      },
      "source": [
        "## Занятие 4\n",
        "## Компьютерный практикум по алгебре на Python\n",
        "## Фундаментальная система решений однородной СЛАУ"
      ]
    },
    {
      "cell_type": "markdown",
      "metadata": {
        "id": "z-MBGjqlO8R-"
      },
      "source": [
        "https://docs.sympy.org/latest/modules"
      ]
    },
    {
      "cell_type": "code",
      "metadata": {
        "id": "mbuIM2VjO8SA"
      },
      "source": [
        "from sympy import linsolve, Matrix, S, Symbol, symbols, Eq, linear_eq_to_matrix, simplify, zeros, latex\n",
        "from IPython.display import Latex"
      ],
      "execution_count": 2,
      "outputs": []
    },
    {
      "cell_type": "markdown",
      "metadata": {
        "id": "MCakxRL6O8SC"
      },
      "source": [
        "### Задание 1.\n",
        "Проверить по теореме Кронекера-Капелли совместность СЛАУ $AX = b$, если\n",
        "\\begin{align*}\n",
        "a)\\ A = \\left(\n",
        "\\begin{matrix}\n",
        "-1 & -3 & 5 & 2\\\\\n",
        "2 & -1 & 4 & 7\\\\\n",
        "3 & 4 & -1 & 0\\\\\n",
        "5 & 0 & 1 & -3\n",
        "\\end{matrix}\n",
        "\\right), \\quad \n",
        "b = \\left(\n",
        "\\begin{matrix}\n",
        "14\\\\ 56\\\\ 5\\\\ -6\n",
        "\\end{matrix}\n",
        "\\right), \\quad \n",
        "b)\\ A = \\left(\n",
        "\\begin{matrix}\n",
        "1 & 3 & 5 & 2\\\\\n",
        "2 & -1 & 4 & 1\\\\\n",
        "3 & 4 & -1 & 0\\\\\n",
        "5 & 3 & 3 & 1\n",
        "\\end{matrix}\n",
        "\\right), \\quad \n",
        "b = \\left(\n",
        "\\begin{matrix}\n",
        "24\\\\ 20\\\\ 5\\\\ 5\n",
        "\\end{matrix}\n",
        "\\right), \\quad \n",
        "c)\\ A = \\left(\n",
        "\\begin{matrix}\n",
        "1 & 3 & 5 & 2\\\\\n",
        "2 & -1 & 4 & 1\\\\\n",
        "3 & 2 & 9 & 3\\\\\n",
        "1 & -4 & -1 & -1\n",
        "\\end{matrix}\n",
        "\\right), \\quad \n",
        "b = \\left(\n",
        "\\begin{matrix}\n",
        "24\\\\ 20\\\\ 44\\\\ -4\n",
        "\\end{matrix}\n",
        "\\right)\n",
        "\\end{align*}"
      ]
    },
    {
      "cell_type": "code",
      "source": [
        "\n",
        "Ab_1 = Matrix([[-1, -3, 5, 2, 14], \n",
        "            [2, -1, 4, 7, 56], \n",
        "            [3, 4, -1, 0, 5],\n",
        "            [5, 0, 1, -3, -6]])\n",
        "\n",
        "Ab_2 = Matrix([[1, 3, 5, 2, 24], \n",
        "            [2, -1, 4, 1, 20], \n",
        "            [3, 4, -1, 0, 5],\n",
        "            [5, 3, 3, 1, 5]])\n",
        "\n",
        "Ab_3 = Matrix([[1, 3, 5, 2, 24], \n",
        "            [2, -1, 4, 1, 20], \n",
        "            [3, 2, 9, 3, 44],\n",
        "            [1, -4, -1, -1, -4]])\n",
        "\n",
        "number = ['a', 'b', 'c']\n",
        "for i, Ab in enumerate([Ab_1, Ab_2, Ab_3]):\n",
        "  Ab_rank = Ab.rank()\n",
        "  A_rank = Ab[:, :-1].rank()\n",
        "  \n",
        "  print(number[i])\n",
        "  print(f'Ранг матрицы А равен {A_rank}, \\\n",
        "ранг расширенной матрицы равен {Ab_rank}, \\\n",
        "ранги {\"не \" * (A_rank != Ab_rank)}равны.')\n",
        "  print(f'{\"СЛАУ несовместна\" * (A_rank != Ab_rank)}\\\n",
        "{\"СЛАУ совместна\" * (A_rank == Ab_rank)}')\n",
        "\n"
      ],
      "metadata": {
        "id": "MRp9NWkdce6K",
        "colab": {
          "base_uri": "https://localhost:8080/"
        },
        "outputId": "3c100e1b-b0b9-49ea-e2b0-c8b78a9173ba"
      },
      "execution_count": null,
      "outputs": [
        {
          "output_type": "stream",
          "name": "stdout",
          "text": [
            "a\n",
            "Ранг матрицы А равен 4, ранг расширенной матрицы равен 4, ранги равны.\n",
            "СЛАУ совместна\n",
            "b\n",
            "Ранг матрицы А равен 3, ранг расширенной матрицы равен 4, ранги не равны.\n",
            "СЛАУ несовместна\n",
            "c\n",
            "Ранг матрицы А равен 2, ранг расширенной матрицы равен 2, ранги равны.\n",
            "СЛАУ совместна\n"
          ]
        }
      ]
    },
    {
      "cell_type": "markdown",
      "metadata": {
        "id": "F3lXkJ3oO8SM"
      },
      "source": [
        "### Задание 2.\n",
        "\n",
        "Проверить единственность решения в совместных СЛАУ Задания 1."
      ]
    },
    {
      "cell_type": "code",
      "source": [
        "number1 = ['a', 'c']\n",
        "for i, Ab in enumerate([Ab_1, Ab_3]):\n",
        "    rgA = Ab[:, :-1].rank()\n",
        "    n, m = Ab[:, :-1].shape\n",
        "    if rgA == Ab.rank() and rgA == m:\n",
        "        print(number1[i])\n",
        "        print(f'rg(A) = rg(Ab) = m = {rgA}')\n",
        "        display(Ab)\n",
        "    elif rgA == Ab.rank():\n",
        "      print(number1[i])\n",
        "      print(\"Решение не единственное\")\n",
        "      display(Ab)"
      ],
      "metadata": {
        "id": "4CR_p8oGchk6",
        "colab": {
          "base_uri": "https://localhost:8080/",
          "height": 249
        },
        "outputId": "2c4ab94d-4604-42dd-e081-610a545ffba9"
      },
      "execution_count": null,
      "outputs": [
        {
          "output_type": "stream",
          "name": "stdout",
          "text": [
            "a\n",
            "rg(A) = rg(Ab) = m = 4\n"
          ]
        },
        {
          "output_type": "display_data",
          "data": {
            "text/plain": [
              "Matrix([\n",
              "[-1, -3,  5,  2, 14],\n",
              "[ 2, -1,  4,  7, 56],\n",
              "[ 3,  4, -1,  0,  5],\n",
              "[ 5,  0,  1, -3, -6]])"
            ],
            "text/latex": "$\\displaystyle \\left[\\begin{matrix}-1 & -3 & 5 & 2 & 14\\\\2 & -1 & 4 & 7 & 56\\\\3 & 4 & -1 & 0 & 5\\\\5 & 0 & 1 & -3 & -6\\end{matrix}\\right]$"
          },
          "metadata": {}
        },
        {
          "output_type": "stream",
          "name": "stdout",
          "text": [
            "c\n",
            "Решение не единственное\n"
          ]
        },
        {
          "output_type": "display_data",
          "data": {
            "text/plain": [
              "Matrix([\n",
              "[1,  3,  5,  2, 24],\n",
              "[2, -1,  4,  1, 20],\n",
              "[3,  2,  9,  3, 44],\n",
              "[1, -4, -1, -1, -4]])"
            ],
            "text/latex": "$\\displaystyle \\left[\\begin{matrix}1 & 3 & 5 & 2 & 24\\\\2 & -1 & 4 & 1 & 20\\\\3 & 2 & 9 & 3 & 44\\\\1 & -4 & -1 & -1 & -4\\end{matrix}\\right]$"
          },
          "metadata": {}
        }
      ]
    },
    {
      "cell_type": "markdown",
      "metadata": {
        "id": "cHZhM0_jO8SO"
      },
      "source": [
        "### Задание 3\n",
        "Для однородных СЛАУ, соответствующих СЛАУ из Задания 1 установить, есть ли у однородной СЛАУ нетривиальное решение. "
      ]
    },
    {
      "cell_type": "code",
      "source": [
        "for i, Ab in enumerate([Ab_1, Ab_2, Ab_3]):\n",
        "    A = Ab[:, :-1]\n",
        "    if A.rank() < A.shape[1]:\n",
        "        print(number[i])\n",
        "        print(f'Ранг матрицы А равен {A.rank()}.')\n",
        "        print(f'Количество переменных равно {A.shape[1]}.')\n",
        "        print('Матрица имеет нетривиальное решение')\n",
        "        display(A)"
      ],
      "metadata": {
        "id": "2A24s3zfcjFm",
        "colab": {
          "base_uri": "https://localhost:8080/",
          "height": 318
        },
        "outputId": "5bcdc5b1-ff7a-4b59-cca6-46e55486e70f"
      },
      "execution_count": null,
      "outputs": [
        {
          "output_type": "stream",
          "name": "stdout",
          "text": [
            "b\n",
            "Ранг матрицы А равен 3.\n",
            "Количество переменных равно 4.\n",
            "Матрица имеет нетривиальное решение\n"
          ]
        },
        {
          "output_type": "display_data",
          "data": {
            "text/plain": [
              "Matrix([\n",
              "[1,  3,  5, 2],\n",
              "[2, -1,  4, 1],\n",
              "[3,  4, -1, 0],\n",
              "[5,  3,  3, 1]])"
            ],
            "text/latex": "$\\displaystyle \\left[\\begin{matrix}1 & 3 & 5 & 2\\\\2 & -1 & 4 & 1\\\\3 & 4 & -1 & 0\\\\5 & 3 & 3 & 1\\end{matrix}\\right]$"
          },
          "metadata": {}
        },
        {
          "output_type": "stream",
          "name": "stdout",
          "text": [
            "c\n",
            "Ранг матрицы А равен 2.\n",
            "Количество переменных равно 4.\n",
            "Матрица имеет нетривиальное решение\n"
          ]
        },
        {
          "output_type": "display_data",
          "data": {
            "text/plain": [
              "Matrix([\n",
              "[1,  3,  5,  2],\n",
              "[2, -1,  4,  1],\n",
              "[3,  2,  9,  3],\n",
              "[1, -4, -1, -1]])"
            ],
            "text/latex": "$\\displaystyle \\left[\\begin{matrix}1 & 3 & 5 & 2\\\\2 & -1 & 4 & 1\\\\3 & 2 & 9 & 3\\\\1 & -4 & -1 & -1\\end{matrix}\\right]$"
          },
          "metadata": {}
        }
      ]
    },
    {
      "cell_type": "markdown",
      "metadata": {
        "id": "wmJb1QrxO8SQ"
      },
      "source": [
        "### Задание 4\n",
        "Для однородных СЛАУ из Задания 3, имеющих нетривиальное решение, составить ФСР. "
      ]
    },
    {
      "cell_type": "code",
      "source": [
        "number2 = ['b', 'c']\n",
        "ans_arr = []\n",
        "for i, Ab in enumerate((Ab_2, Ab_3)):\n",
        "    A = Ab[:, :-1]\n",
        "    n, m = A.shape\n",
        "    print(f'ранг {A.rank()}, количесво переменных {m}, ФСР:')\n",
        "    ans_arr.append([A.nullspace()])\n",
        "    display(Latex(latex(A.nullspace())))\n"
      ],
      "metadata": {
        "id": "hAnK6Ytsclbl",
        "colab": {
          "base_uri": "https://localhost:8080/",
          "height": 215
        },
        "outputId": "460c2a45-be80-444b-912f-21e84fa0f67d"
      },
      "execution_count": null,
      "outputs": [
        {
          "output_type": "stream",
          "name": "stdout",
          "text": [
            "ранг 3, количесво переменных 4, ФСР:\n"
          ]
        },
        {
          "output_type": "display_data",
          "data": {
            "text/plain": [
              "<IPython.core.display.Latex object>"
            ],
            "text/latex": "\\left[ \\left[\\begin{matrix}\\frac{7}{82}\\\\- \\frac{6}{41}\\\\- \\frac{27}{82}\\\\1\\end{matrix}\\right]\\right]"
          },
          "metadata": {}
        },
        {
          "output_type": "stream",
          "name": "stdout",
          "text": [
            "ранг 2, количесво переменных 4, ФСР:\n"
          ]
        },
        {
          "output_type": "display_data",
          "data": {
            "text/plain": [
              "<IPython.core.display.Latex object>"
            ],
            "text/latex": "\\left[ \\left[\\begin{matrix}- \\frac{17}{7}\\\\- \\frac{6}{7}\\\\1\\\\0\\end{matrix}\\right], \\  \\left[\\begin{matrix}- \\frac{5}{7}\\\\- \\frac{3}{7}\\\\0\\\\1\\end{matrix}\\right]\\right]"
          },
          "metadata": {}
        }
      ]
    },
    {
      "cell_type": "markdown",
      "metadata": {
        "id": "TbcC_Tc-O8ST"
      },
      "source": [
        "### Задание 5\n",
        "Для однородных СЛАУ из Задания 4 построить общее решение, используя построенную в Задании 4 ФСР. Сравнить с результатом, возвращаемым linsolve. "
      ]
    },
    {
      "cell_type": "code",
      "source": [
        "for i, Ab in enumerate((Ab_2, Ab_3)):\n",
        "    A = Ab[:, :-1]\n",
        "    n, m = A.shape\n",
        "    x = symbols(f'x1:{m + 1}')\n",
        "    X = zeros(m, 1)\n",
        "    print(number2[i])\n",
        "    for j, vect in enumerate(A.nullspace()):\n",
        "        X += vect * Symbol(f'alpha{j + 1}')\n",
        "    display(Latex(f'Общее\\ решение\\ {latex(X)},\\ решение\\ linsolve\\ {latex(*linsolve((A, zeros(n, 1)), x))}.')) \n",
        "        "
      ],
      "metadata": {
        "id": "x9rBc4uRcnm9",
        "colab": {
          "base_uri": "https://localhost:8080/",
          "height": 216
        },
        "outputId": "4858f3da-ad8e-473d-e5d3-316e6d0f1a7c"
      },
      "execution_count": null,
      "outputs": [
        {
          "output_type": "stream",
          "name": "stdout",
          "text": [
            "b\n"
          ]
        },
        {
          "output_type": "display_data",
          "data": {
            "text/plain": [
              "<IPython.core.display.Latex object>"
            ],
            "text/latex": "Общее\\ решение\\ \\left[\\begin{matrix}\\frac{7 \\alpha_{1}}{82}\\\\- \\frac{6 \\alpha_{1}}{41}\\\\- \\frac{27 \\alpha_{1}}{82}\\\\\\alpha_{1}\\end{matrix}\\right],\\ решение\\ linsolve\\ \\left( \\frac{7 x_{4}}{82}, \\  - \\frac{6 x_{4}}{41}, \\  - \\frac{27 x_{4}}{82}, \\  x_{4}\\right)."
          },
          "metadata": {}
        },
        {
          "output_type": "stream",
          "name": "stdout",
          "text": [
            "c\n"
          ]
        },
        {
          "output_type": "display_data",
          "data": {
            "text/plain": [
              "<IPython.core.display.Latex object>"
            ],
            "text/latex": "Общее\\ решение\\ \\left[\\begin{matrix}- \\frac{17 \\alpha_{1}}{7} - \\frac{5 \\alpha_{2}}{7}\\\\- \\frac{6 \\alpha_{1}}{7} - \\frac{3 \\alpha_{2}}{7}\\\\\\alpha_{1}\\\\\\alpha_{2}\\end{matrix}\\right],\\ решение\\ linsolve\\ \\left( - \\frac{17 x_{3}}{7} - \\frac{5 x_{4}}{7}, \\  - \\frac{6 x_{3}}{7} - \\frac{3 x_{4}}{7}, \\  x_{3}, \\  x_{4}\\right)."
          },
          "metadata": {}
        }
      ]
    },
    {
      "cell_type": "markdown",
      "metadata": {
        "id": "q96MSia2O8SU"
      },
      "source": [
        "### Индивидуальное задание.\n",
        "Дана СЛАУ $AX = b$. Проверить совместность по теореме Кронекера-Капелли. Если СЛАУ совместна, проверить единственность решения.\n",
        "Для соответствующей однородной СЛАУ проверить существование нетривиального решения. В случае, если оно существует, \n",
        "найти размерность пространства решений и составить ФСР и общее решение однородной СЛАУ.\n"
      ]
    },
    {
      "cell_type": "code",
      "source": [
        "#126\n",
        "Ab = Matrix([[0, -3, 2, -3, -7, -51],\n",
        "    [28, 16, -20, -40, -64, -56],\n",
        "    [112, 52, -72, -172, -284, -428],\n",
        "    [-112, -76, 88, 148, 228, 20],\n",
        "    [-336, -216, 256, 456, 712, 264]])\n",
        "\n",
        "display(Ab)\n",
        "\n",
        "Ab_rank = Ab.rank()\n",
        "A_rank = Ab[:, :-1].rank()\n",
        "\n",
        "print(f'Ранг матрицы А равен {A_rank}, \\\n",
        "ранг расширенной матрицы равен {Ab_rank}, \\\n",
        "ранги {\"не \" * (A_rank != Ab_rank)}равны.')\n",
        "print(f'{\"СЛАУ несовместна\" * (A_rank != Ab_rank)}\\\n",
        "{\"СЛАУ совместна\" * (A_rank == Ab_rank)}\\n')\n",
        "\n",
        "n, m = Ab[:, :-1].shape\n",
        "if A_rank == Ab_rank and A_rank == m:\n",
        "    print(f'rg(A) = rg(Ab) = m = {A_rank}\\n')\n",
        "elif A_rank == Ab_rank:\n",
        "    print(\"Решение не единственное\\n\")\n",
        "\n",
        "print('Для однородной СЛАУ:')\n",
        "\n",
        "if A_rank < m:\n",
        "    print(f'Ранг матрицы А равен {A_rank}.')\n",
        "    print(f'Количество переменных равно {m}.')\n",
        "    print('Матрица имеет нетривиальное решение\\n')\n",
        "\n",
        "print(f'Размерность пространства решений равна {m - A_rank}\\n')\n",
        "\n",
        "print(\"ФСР:\")\n",
        "display(Latex(latex(Ab[:, :-1].nullspace())))\n",
        "print()\n",
        "\n",
        "x = symbols(f'x1:{m + 1}')\n",
        "X = zeros(m, 1)\n",
        "for j, vect in enumerate(Ab[:, :-1].nullspace()):\n",
        "    X += vect * Symbol(f'alpha{j + 1}')\n",
        "display(Latex(f'Общее\\ решение\\ {latex(X)},\\ решение\\ linsolve\\ {latex(*linsolve((Ab[:, :-1], zeros(n, 1)), x))}.')) "
      ],
      "metadata": {
        "id": "NsSJ58zFcpK1",
        "colab": {
          "base_uri": "https://localhost:8080/",
          "height": 566
        },
        "outputId": "6295fd1b-d92b-4ed8-8dbf-9b04ce9fc589"
      },
      "execution_count": 20,
      "outputs": [
        {
          "output_type": "display_data",
          "data": {
            "text/plain": [
              "Matrix([\n",
              "[   0,   -3,   2,   -3,   -7,  -51],\n",
              "[  28,   16, -20,  -40,  -64,  -56],\n",
              "[ 112,   52, -72, -172, -284, -428],\n",
              "[-112,  -76,  88,  148,  228,   20],\n",
              "[-336, -216, 256,  456,  712,  264]])"
            ],
            "text/latex": "$\\displaystyle \\left[\\begin{matrix}0 & -3 & 2 & -3 & -7 & -51\\\\28 & 16 & -20 & -40 & -64 & -56\\\\112 & 52 & -72 & -172 & -284 & -428\\\\-112 & -76 & 88 & 148 & 228 & 20\\\\-336 & -216 & 256 & 456 & 712 & 264\\end{matrix}\\right]$"
          },
          "metadata": {}
        },
        {
          "output_type": "stream",
          "name": "stdout",
          "text": [
            "Ранг матрицы А равен 2, ранг расширенной матрицы равен 2, ранги равны.\n",
            "СЛАУ совместна\n",
            "\n",
            "Решение не единственное\n",
            "\n",
            "Для однородной СЛАУ:\n",
            "Ранг матрицы А равен 2.\n",
            "Количество переменных равно 5.\n",
            "Матрица имеет нетривиальное решение\n",
            "\n",
            "Размерность пространства решений равна 3\n",
            "\n",
            "ФСР:\n"
          ]
        },
        {
          "output_type": "display_data",
          "data": {
            "text/plain": [
              "<IPython.core.display.Latex object>"
            ],
            "text/latex": "\\left[ \\left[\\begin{matrix}\\frac{1}{3}\\\\\\frac{2}{3}\\\\1\\\\0\\\\0\\end{matrix}\\right], \\  \\left[\\begin{matrix}2\\\\-1\\\\0\\\\1\\\\0\\end{matrix}\\right], \\  \\left[\\begin{matrix}\\frac{76}{21}\\\\- \\frac{7}{3}\\\\0\\\\0\\\\1\\end{matrix}\\right]\\right]"
          },
          "metadata": {}
        },
        {
          "output_type": "stream",
          "name": "stdout",
          "text": [
            "\n"
          ]
        },
        {
          "output_type": "display_data",
          "data": {
            "text/plain": [
              "<IPython.core.display.Latex object>"
            ],
            "text/latex": "Общее\\ решение\\ \\left[\\begin{matrix}\\frac{\\alpha_{1}}{3} + 2 \\alpha_{2} + \\frac{76 \\alpha_{3}}{21}\\\\\\frac{2 \\alpha_{1}}{3} - \\alpha_{2} - \\frac{7 \\alpha_{3}}{3}\\\\\\alpha_{1}\\\\\\alpha_{2}\\\\\\alpha_{3}\\end{matrix}\\right],\\ решение\\ linsolve\\ \\left( \\frac{x_{3}}{3} + 2 x_{4} + \\frac{76 x_{5}}{21}, \\  \\frac{2 x_{3}}{3} - x_{4} - \\frac{7 x_{5}}{3}, \\  x_{3}, \\  x_{4}, \\  x_{5}\\right)."
          },
          "metadata": {}
        }
      ]
    }
  ]
}