﻿{
  "nbformat": 4,
  "nbformat_minor": 0,
  "metadata": {
    "kernelspec": {
      "display_name": "Python 3",
      "language": "python",
      "name": "python3"
    },
    "language_info": {
      "codemirror_mode": {
        "name": "ipython",
        "version": 3
      },
      "file_extension": ".py",
      "mimetype": "text/x-python",
      "name": "python",
      "nbconvert_exporter": "python",
      "pygments_lexer": "ipython3",
      "version": "3.7.3"
    },
    "colab": {
      "provenance": []
    }
  },
  "cells": [
    {
      "cell_type": "code",
      "metadata": {
        "id": "49fg3dtG2vqf"
      },
      "source": [
        "from sympy import linsolve, Matrix, S, Symbol, symbols, linear_eq_to_matrix, Eq, zeros"
      ],
      "execution_count": 2,
      "outputs": []
    },
    {
      "cell_type": "markdown",
      "metadata": {
        "id": "4GOGKWO62vqj"
      },
      "source": [
        "# Занятие 5\n",
        "# Алгебра\n",
        "\n",
        "##  Прямые и плоскости в пространстве. Уравнения прямых и  плоскостей.\n",
        "### Задание 1.\n",
        "Определить, пересекаются ли плоскости (все сразу). Если пересекаются, найти точку пересечения.\n",
        "\n",
        "Составить СЛАУ в виде списка уравнений, решить с помощью linsolve.\n",
        "\n",
        "Проверить подстановкой координат точки пересечения в уравнения плоскостей, что найденная точка принадлежит каждой из них.\n",
        "\n",
        "$-8x+5y-2z+28=0$\n",
        "\n",
        "$-11x-10y-16z+71=0$\n",
        "\n",
        "$-7x+3y+8z-27=0$."
      ]
    },
    {
      "cell_type": "code",
      "metadata": {
        "id": "MpIOpWvj2vqn",
        "colab": {
          "base_uri": "https://localhost:8080/",
          "height": 98
        },
        "outputId": "6a414f2b-4529-4da8-ea2b-adcc8d28f322"
      },
      "source": [
        "x, y, z, t = symbols('x y z t')\n",
        "eq_arr = [Eq(-8 * x + 5 * y - 2 * z  + 28, 0), \n",
        "          Eq(-11 * x - 10 * y - 16 * z + 71 ,0), \n",
        "          Eq(-7 * x + 3 * y + 8 * z - 27, 0)]\n",
        "\n",
        "res = linsolve(eq_arr, x, y, z)\n",
        "display(*res)\n",
        "\n",
        "for eq in eq_arr:\n",
        "    display(eq.subs([(x, 1), (y, -2), (z, 5)]))"
      ],
      "execution_count": 16,
      "outputs": [
        {
          "output_type": "display_data",
          "data": {
            "text/plain": [
              "(1, -2, 5)"
            ],
            "text/latex": "$\\displaystyle \\left( 1, \\  -2, \\  5\\right)$"
          },
          "metadata": {}
        },
        {
          "output_type": "display_data",
          "data": {
            "text/plain": [
              "True"
            ],
            "text/latex": "$\\displaystyle \\text{True}$"
          },
          "metadata": {}
        },
        {
          "output_type": "display_data",
          "data": {
            "text/plain": [
              "True"
            ],
            "text/latex": "$\\displaystyle \\text{True}$"
          },
          "metadata": {}
        },
        {
          "output_type": "display_data",
          "data": {
            "text/plain": [
              "True"
            ],
            "text/latex": "$\\displaystyle \\text{True}$"
          },
          "metadata": {}
        }
      ]
    },
    {
      "cell_type": "markdown",
      "metadata": {
        "id": "g9NmFR2i2vqn"
      },
      "source": [
        "### Задание 2.\n",
        "Найти точку пересечения плоскости, в которой лежат точки \n",
        "$K(4,3,0)$, $M(2,4,-2)$ и $N(-2,2,-1)$ с прямой, проходящей через точки $A(-3,5,1)$ и $B(5,2,-3)$."
      ]
    },
    {
      "cell_type": "code",
      "metadata": {
        "id": "0486pLRk2vqp",
        "colab": {
          "base_uri": "https://localhost:8080/",
          "height": 58
        },
        "outputId": "96674418-b768-4233-c765-5cbbb9418ce9"
      },
      "source": [
        "x, y, z, t, a, b, c = symbols('x y z t a b c')\n",
        "A = Matrix([[x - 4, y - 3, z - 0],\n",
        "            [2 - 4, 4 - 3, -2 - 0],\n",
        "            [-2 - 4, 2 - 3, -1 - 0]])\n",
        "\n",
        "A_det = A.det()\n",
        "\n",
        "a1 = Matrix([-3, 5, 1]) - Matrix([5, 2, -3]);\n",
        "AB = Matrix([-3, 5, 1]) + t * a1\n",
        "\n",
        "X = Matrix([x, y, z])\n",
        "AB_sys = [Eq(X[i], AB[i]) for i in range(len(AB))]\n",
        "\n",
        "SLAE = [Eq(A_det, 0), AB_sys[0], AB_sys[1], AB_sys[2]]\n",
        "\n",
        "res = linsolve(SLAE, x, y, z, t)\n",
        "\n",
        "points = []\n",
        "for element in res:\n",
        "    points.append(element[:-1])\n",
        "display(*points)"
      ],
      "execution_count": 36,
      "outputs": [
        {
          "output_type": "display_data",
          "data": {
            "text/plain": [
              "(67/43, 283/86, -55/43)"
            ],
            "text/latex": "$\\displaystyle \\left( \\frac{67}{43}, \\  \\frac{283}{86}, \\  - \\frac{55}{43}\\right)$"
          },
          "metadata": {}
        }
      ]
    },
    {
      "cell_type": "markdown",
      "metadata": {
        "id": "Td8dwQaq2vqp"
      },
      "source": [
        "### Задание 3.\n",
        "Составить параметрические уравнения прямой, являющейся линией пересечения плоскостей $𝑦+2𝑧−4=0$ и $4𝑥+3𝑦+2𝑧−4=0$. \n",
        "\n",
        "Указание: составить СЛАУ из уравнений плоскостей, воспользоваться linsolve(), заменить переменную в полученном решении на параметр t и составить СЛАУ из параметрических уравнений."
      ]
    },
    {
      "cell_type": "code",
      "metadata": {
        "id": "FkVOyBYI2vqq",
        "colab": {
          "base_uri": "https://localhost:8080/",
          "height": 78
        },
        "outputId": "2311b28f-cc20-4d87-b60a-6908284ec39f"
      },
      "source": [
        "Ab = Matrix([[0, 1, 2, -4],\n",
        "             [4, 3, 2, -4]])\n",
        "\n",
        "line = linsolve(Ab, [x, y, t])\n",
        "\n",
        "display(Eq(Matrix([x, y, z]), Matrix(*line), evaluate=False))\n"
      ],
      "execution_count": 57,
      "outputs": [
        {
          "output_type": "display_data",
          "data": {
            "text/plain": [
              "Eq(Matrix([\n",
              "[x],\n",
              "[y],\n",
              "[z]]), Matrix([\n",
              "[   t + 2],\n",
              "[-2*t - 4],\n",
              "[       t]]))"
            ],
            "text/latex": "$\\displaystyle \\left[\\begin{matrix}x\\\\y\\\\z\\end{matrix}\\right] = \\left[\\begin{matrix}t + 2\\\\- 2 t - 4\\\\t\\end{matrix}\\right]$"
          },
          "metadata": {}
        }
      ]
    },
    {
      "cell_type": "markdown",
      "metadata": {
        "id": "qW-zD7N52vqq"
      },
      "source": [
        "###  Задание 4.\n",
        "Прямая задана параметрическими уравнениями:\n",
        "$$\n",
        "\\left\\{\\begin{matrix}\n",
        "x=2+5t\\\\\n",
        "y=-1-2t\\\\\n",
        "z=4-3t\n",
        "\\end{matrix}\\right..\n",
        "$$\n",
        "Представить прямую в виде линии пересечения двух плоскостей, одна из которых проходит через начало координат, а вторая плоскость перпендикулярна первой плоскости. Вывести на экран уравнения плоскостей.\n",
        "\n",
        "Указание: составить параметрические уравнения прямой в виде списка правых частей уравнений, затем по образцу Примера 5 составить уравнение плоскости, проходящей через начало координат (по трем точкам). Для составления второй плоскости заметим, что вектор нормали к первой плоскости и любой вектор прямой параллельны второй плоскости, поэтому можно применить формулу 4 уравнения плоскости.\n",
        "Вектор нормали можно составить вручную, глядя на уравнение первой плоскости."
      ]
    },
    {
      "cell_type": "code",
      "metadata": {
        "id": "lr6JUgBP2vqr",
        "colab": {
          "base_uri": "https://localhost:8080/",
          "height": 61
        },
        "outputId": "d2f58e00-286d-4e11-a79c-30a3a8f7900c"
      },
      "source": [
        "O = zeros(3, 1)\n",
        "A = Matrix([2, -1, 4])\n",
        "a = Matrix([5, -2, -3])\n",
        "x, y, z, t = symbols('x y z t')\n",
        "X = Matrix([x, y, z])\n",
        "AB = A + t * a\n",
        "M1 = AB.subs(t, 0)\n",
        "M2 = AB.subs(t, 1)\n",
        "\n",
        "first = Eq(Matrix([(P - M1).T for P in (X, M2, O)]).det(), 0)\n",
        "\n",
        "N = [11, 26, 1]\n",
        "L = (M2 - M1)\n",
        "#display(L)\n",
        "\n",
        "M = Matrix([[x - 2, y + 1, z - 4], [11, 26, 1], [5, -2, -3]])\n",
        "\n",
        "second = Eq(M.det(), 0)\n",
        "\n",
        "display(first, second)\n",
        "\n",
        "#display(linsolve([first, second], x, y, z))\n"
      ],
      "execution_count": 20,
      "outputs": [
        {
          "output_type": "display_data",
          "data": {
            "text/plain": [
              "Eq(11*x + 26*y + z, 0)"
            ],
            "text/latex": "$\\displaystyle 11 x + 26 y + z = 0$"
          },
          "metadata": {}
        },
        {
          "output_type": "display_data",
          "data": {
            "text/plain": [
              "Eq(-76*x + 38*y - 152*z + 798, 0)"
            ],
            "text/latex": "$\\displaystyle - 76 x + 38 y - 152 z + 798 = 0$"
          },
          "metadata": {}
        }
      ]
    },
    {
      "cell_type": "markdown",
      "metadata": {
        "id": "fC_Q1C_d2vqr"
      },
      "source": [
        "### Индивидуальное задание\n",
        "Даны три точки А, В и С в пространстве. Составить уравнение плоскости АВС, систему параметрических уравнений прямой АВ и прямой АМ, перпендикулярной плоскости АВС."
      ]
    },
    {
      "cell_type": "code",
      "metadata": {
        "id": "z_gDHdjD2vqs",
        "colab": {
          "base_uri": "https://localhost:8080/",
          "height": 161
        },
        "outputId": "20066de6-ec4d-424c-a1f7-f3c14d74d288"
      },
      "source": [
        "#126\n",
        "A = Matrix([4, 5, 4])\n",
        "B = Matrix([4, 1, -1])\n",
        "C = Matrix([-1, -1, -3])\n",
        "\n",
        "X = Matrix([x, y, z])\n",
        "first = Eq(Matrix([(P - A).T for P in (X, B, C)]).det(), 0)\n",
        "display(first)\n",
        "\n",
        "a1 = Matrix(A) - Matrix(B);\n",
        "AB = Matrix(A) + t * a1\n",
        "\n",
        "display(Eq(Matrix([x, y, z]), AB, evaluate=False))\n",
        "\n",
        "N = Matrix([-2, 25, -20]);\n",
        "M = A + N\n",
        "\n",
        "a2 = Matrix(A) - Matrix(M);\n",
        "AB2 = Matrix(A) + t * a2\n",
        "\n",
        "display(Eq(Matrix([x, y, z]), AB2, evaluate=False))"
      ],
      "execution_count": 25,
      "outputs": [
        {
          "output_type": "display_data",
          "data": {
            "text/plain": [
              "Eq(-2*x + 25*y - 20*z - 37, 0)"
            ],
            "text/latex": "$\\displaystyle - 2 x + 25 y - 20 z - 37 = 0$"
          },
          "metadata": {}
        },
        {
          "output_type": "display_data",
          "data": {
            "text/plain": [
              "Eq(Matrix([\n",
              "[x],\n",
              "[y],\n",
              "[z]]), Matrix([\n",
              "[      4],\n",
              "[4*t + 5],\n",
              "[5*t + 4]]))"
            ],
            "text/latex": "$\\displaystyle \\left[\\begin{matrix}x\\\\y\\\\z\\end{matrix}\\right] = \\left[\\begin{matrix}4\\\\4 t + 5\\\\5 t + 4\\end{matrix}\\right]$"
          },
          "metadata": {}
        },
        {
          "output_type": "display_data",
          "data": {
            "text/plain": [
              "Eq(Matrix([\n",
              "[x],\n",
              "[y],\n",
              "[z]]), Matrix([\n",
              "[ 2*t + 4],\n",
              "[5 - 25*t],\n",
              "[20*t + 4]]))"
            ],
            "text/latex": "$\\displaystyle \\left[\\begin{matrix}x\\\\y\\\\z\\end{matrix}\\right] = \\left[\\begin{matrix}2 t + 4\\\\5 - 25 t\\\\20 t + 4\\end{matrix}\\right]$"
          },
          "metadata": {}
        }
      ]
    }
  ]
}