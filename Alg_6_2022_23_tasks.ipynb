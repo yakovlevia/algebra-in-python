{
  "nbformat": 4,
  "nbformat_minor": 0,
  "metadata": {
    "kernelspec": {
      "display_name": "Python 3",
      "language": "python",
      "name": "python3"
    },
    "language_info": {
      "codemirror_mode": {
        "name": "ipython",
        "version": 3
      },
      "file_extension": ".py",
      "mimetype": "text/x-python",
      "name": "python",
      "nbconvert_exporter": "python",
      "pygments_lexer": "ipython3",
      "version": "3.7.3"
    },
    "colab": {
      "provenance": []
    }
  },
  "cells": [
    {
      "cell_type": "code",
      "metadata": {
        "id": "9bApoFTy2tRy"
      },
      "source": [
        "import sympy\n",
        "from sympy import  Symbol, symbols, S, Point, Line, Plane, Point3D, Matrix, latex, Eq, linsolve\n",
        "from IPython.display import display, Latex"
      ],
      "execution_count": 20,
      "outputs": []
    },
    {
      "cell_type": "markdown",
      "metadata": {
        "id": "5ZqL6UH72tR0"
      },
      "source": [
        "# Занятие 6\n",
        "# Алгебра\n",
        "\n",
        "##  Прямые и плоскости в пространстве. Geometry.\n",
        "### Задание 1.\n",
        "Найти угол между плоскостями $ABC$ и  $ABD$, где \n",
        "$A(-1, 2, -4)$,\n",
        "$B(2, -2, 1)$,\n",
        "$C(5, 3, -6)$,\n",
        "$D(0, 3, -6)$."
      ]
    },
    {
      "cell_type": "code",
      "metadata": {
        "id": "wgUA2izF2tR2",
        "colab": {
          "base_uri": "https://localhost:8080/",
          "height": 68
        },
        "outputId": "5fcbe8b0-db27-4fdd-b28f-4ec7a2d876d0"
      },
      "source": [
        "A = Point(-1, 2, -4)\n",
        "B = Point(2, -2, 1)\n",
        "C = Point(5, 3, -6)\n",
        "D = Point(0, 3, -6)\n",
        "\n",
        "ABC = Plane(A, B, C)\n",
        "ABD = Plane(A, B, D)\n",
        "ABC.angle_between(ABD)"
      ],
      "execution_count": null,
      "outputs": [
        {
          "output_type": "execute_result",
          "data": {
            "text/plain": [
              "acos(99*sqrt(40454)/20227)"
            ],
            "text/latex": "$\\displaystyle \\operatorname{acos}{\\left(\\frac{99 \\sqrt{40454}}{20227} \\right)}$"
          },
          "metadata": {},
          "execution_count": 6
        }
      ]
    },
    {
      "cell_type": "markdown",
      "metadata": {
        "id": "3Cr8SC_p2tR2"
      },
      "source": [
        "### Задание 2.\n",
        "Найти угол между прямой, проходящей через точки $A(-3,5,1)$ и $B(5,2,-3)$ и плоскостью, в которой лежат точки \n",
        "$K(4,3,0)$, $M(2,4,-2)$ и $N(-2,2,-1)$."
      ]
    },
    {
      "cell_type": "code",
      "metadata": {
        "id": "L_BT23AN2tR2",
        "colab": {
          "base_uri": "https://localhost:8080/",
          "height": 90
        },
        "outputId": "1e8b3a2b-8e5f-4a75-80ef-9a88dc909c53"
      },
      "source": [
        "A = Point(-3, 5, 1)\n",
        "B = Point(5, 2, -3)\n",
        "K = Point(4, 3, 0)\n",
        "M = Point(2, 4, -2)\n",
        "N = Point(-2, 2, -1)\n",
        "\n",
        "line = Line(A, B)\n",
        "MNK = Plane(M, N, K)\n",
        "MNK.angle_between(line)"
      ],
      "execution_count": null,
      "outputs": [
        {
          "output_type": "display_data",
          "data": {
            "text/plain": [
              "Line3D(Point3D(-3, 5, 1), Point3D(5, 2, -3))"
            ],
            "text/latex": "$\\displaystyle Line3D\\left(Point3D\\left(-3, 5, 1\\right), Point3D\\left(5, 2, -3\\right)\\right)$"
          },
          "metadata": {}
        },
        {
          "output_type": "execute_result",
          "data": {
            "text/plain": [
              "-asin(86*sqrt(15397)/15397)"
            ],
            "text/latex": "$\\displaystyle - \\operatorname{asin}{\\left(\\frac{86 \\sqrt{15397}}{15397} \\right)}$"
          },
          "metadata": {},
          "execution_count": 5
        }
      ]
    },
    {
      "cell_type": "markdown",
      "metadata": {
        "id": "Frcu2NPw2tR3"
      },
      "source": [
        "### Задание 3.\n",
        "Проверить, лежат ли точки в одной плоскости\n",
        "\n",
        "а) $A(3, 2, -1)$, $B(2, -1, 0)$, $C(5, 2, -6)$, $D(6, 5, -7)$\n",
        "\n",
        "b) $A(-1, 5, -4)$, $B(7, -2, 1)$, $C(6, 3, -8)$, $D(0, 3, 0)$\n",
        "\n",
        "Вывести на экран сообщение \"Точки лежат в одной плоскости\" или \"Точки не лежат в одной плоскости\"."
      ]
    },
    {
      "cell_type": "code",
      "metadata": {
        "id": "vG9cg7R-2tR3",
        "colab": {
          "base_uri": "https://localhost:8080/"
        },
        "outputId": "e399fdf9-0547-46f7-c3ce-db3671b44515"
      },
      "source": [
        "A = Point(3, 2, -1)\n",
        "B = Point(2, -1, 0)\n",
        "C = Point(5, 2, -6)\n",
        "D = Point(6, 5, -7)\n",
        "\n",
        "if (Point3D.are_coplanar(A, B, C, D)):\n",
        "    print('Точки лежат в одной плоскости')\n",
        "else:\n",
        "    print('Точки не лежат в одной плоскости')"
      ],
      "execution_count": null,
      "outputs": [
        {
          "output_type": "stream",
          "name": "stdout",
          "text": [
            "Точки лежат в одной плоскости\n"
          ]
        }
      ]
    },
    {
      "cell_type": "code",
      "source": [
        "A = Point(-1, 5, -4)\n",
        "B = Point(7, -2, 1)\n",
        "C = Point(6, 3, -8)\n",
        "D = Point(0, 3, 0)\n",
        "\n",
        "if (Point3D.are_coplanar(A, B, C, D)):\n",
        "    print('Точки лежат в одной плоскости')\n",
        "else:\n",
        "    print('Точки не лежат в одной плоскости')"
      ],
      "metadata": {
        "colab": {
          "base_uri": "https://localhost:8080/"
        },
        "id": "B2uB88AVDe_O",
        "outputId": "bf45c763-dea4-464f-c87f-21b0d8ec072e"
      },
      "execution_count": null,
      "outputs": [
        {
          "output_type": "stream",
          "name": "stdout",
          "text": [
            "Точки не лежат в одной плоскости\n"
          ]
        }
      ]
    },
    {
      "cell_type": "markdown",
      "source": [
        "###  Задание 4.\n",
        "Для плоскостей Задания 1 найти векторы нормали (воспользоваться свойством normal_vector), преобразовать их в матрицы-столбцы и вычислить угол между плоскостями с помощью скалярного произведения. Сравнить с результатом Задания 1."
      ],
      "metadata": {
        "id": "F8_2pF5ZhKb8"
      }
    },
    {
      "cell_type": "code",
      "source": [
        "A = Point(-1, 2, -4)\n",
        "B = Point(2, -2, 1)\n",
        "C = Point(5, 3, -6)\n",
        "D = Point(0, 3, -6)\n",
        "\n",
        "ABC = Plane(A, B, C)\n",
        "ABD = Plane(A, B, D)\n",
        "\n",
        "a = Matrix(ABC.normal_vector)\n",
        "b = Matrix(ABD.normal_vector)\n",
        "\n",
        "cos_phi = a.dot(b) / sympy.sqrt((a.dot(a)) * (b.dot(b)))\n",
        "phi = sympy.acos(cos_phi)\n",
        "display(Latex(f'$\\\\cos\\\\phi = {latex(cos_phi)},\\\\ \\\\phi = {latex(phi)}\\\\approx {round(phi, 4)}$'))"
      ],
      "metadata": {
        "id": "W3WTaq8WhOEL",
        "colab": {
          "base_uri": "https://localhost:8080/",
          "height": 47
        },
        "outputId": "f752df53-47c0-47d6-944b-70934636c34e"
      },
      "execution_count": null,
      "outputs": [
        {
          "output_type": "display_data",
          "data": {
            "text/plain": [
              "<IPython.core.display.Latex object>"
            ],
            "text/latex": "$\\cos\\phi = \\frac{99 \\sqrt{40454}}{20227},\\ \\phi = \\operatorname{acos}{\\left(\\frac{99 \\sqrt{40454}}{20227} \\right)}\\approx 0.1767$"
          },
          "metadata": {}
        }
      ]
    },
    {
      "cell_type": "markdown",
      "metadata": {
        "id": "QZ_bFRbf2tR3"
      },
      "source": [
        "###  Задание 5.\n",
        "Прямая задана параметрическими уравнениями:\n",
        "$$\n",
        "\\left\\{\\begin{matrix}\n",
        "x=2+5t\\\\\n",
        "y=-1-2t\\\\\n",
        "z=4-3t\n",
        "\\end{matrix}\\right..\n",
        "$$\n",
        "Представить прямую в виде линии пересечения двух плоскостей (вывести на экран уравнения плоскостей), \n",
        "одна из которых проходит через начало координат, а вторая плоскость перпендикулярна первой плоскости.\n",
        "\n",
        "Указание: сначала составить список правых частей параметрических уравнений, затем составить две различные точки на прямой и далее решить средствами для работы с прямыми и плоскостями из модуля Geometry."
      ]
    },
    {
      "cell_type": "code",
      "metadata": {
        "id": "deDKiQhH2tR3",
        "colab": {
          "base_uri": "https://localhost:8080/",
          "height": 61
        },
        "outputId": "5960eb6b-3929-445a-f756-1507b02f5852"
      },
      "source": [
        "T = Matrix([2, -1, 4])\n",
        "t = Matrix([5, -2, -3])\n",
        "\n",
        "O = Point(0, 0, 0)\n",
        "A = Point(T[0] + t[0], T[1] + t[1], T[2] + t[2])\n",
        "B = Point(T[0] + 2 * t[0], T[1] + 2 * t[1], T[2] + 2 * t[2])\n",
        "\n",
        "OAB = Plane(A, B, O)\n",
        "ABK = OAB.perpendicular_plane(A, B)\n",
        "display(Eq(OAB.equation(), 0), Eq(ABK.equation(), 0))"
      ],
      "execution_count": null,
      "outputs": [
        {
          "output_type": "display_data",
          "data": {
            "text/plain": [
              "Eq(11*x + 26*y + z, 0)"
            ],
            "text/latex": "$\\displaystyle 11 x + 26 y + z = 0$"
          },
          "metadata": {}
        },
        {
          "output_type": "display_data",
          "data": {
            "text/plain": [
              "Eq(76*x - 38*y + 152*z - 798, 0)"
            ],
            "text/latex": "$\\displaystyle 76 x - 38 y + 152 z - 798 = 0$"
          },
          "metadata": {}
        }
      ]
    },
    {
      "cell_type": "markdown",
      "metadata": {
        "id": "zOUIWmYZ2tR4"
      },
      "source": [
        "###  Задание 6*.\n",
        "Даны точки  пространстве\n",
        "$A(-2, 7, -5)$, $B(6, 2, -4)$, $C(14, -3, -2)$, $D(22, -8, -2)$, $K(30, -7, -4)$,\n",
        "$M(94, -35, -2)$.\n",
        "\n",
        "Определить, какие тройки точек лежат на одной прямой, какие четверки - в одной плоскости.\n",
        "\n",
        "Для проверки того, что три точки лежат на одной прямой использовать Point3D.are_collinear.\n",
        "\n",
        "Вывести на экран тройки точек, лежащие на одной прямой и четверки точек, лежащих в одной плоскости."
      ]
    },
    {
      "cell_type": "code",
      "metadata": {
        "id": "I2eyOGQy2tR4",
        "colab": {
          "base_uri": "https://localhost:8080/"
        },
        "outputId": "30631fbe-ce66-4c55-d6e4-d698e8f5d0f1"
      },
      "source": [
        "points = [[-2, 7, -5], \n",
        "     [6, 2, -4], \n",
        "     [14, -3, -2], \n",
        "     [22, -8, -2], \n",
        "     [30, -7, -4], \n",
        "     [94, -35, -2]\n",
        "]\n",
        "\n",
        "print('Точки, лежащие на одной прямой:')\n",
        "for i in range(0, 6):\n",
        "  for j in range(i + 1, 6):\n",
        "    for k in range(j + 1, 6):\n",
        "      A = Point(points[i][0], points[i][1], points[i][2])\n",
        "      B = Point(points[j][0], points[j][1], points[j][2])\n",
        "      C = Point(points[k][0], points[k][1], points[k][2])\n",
        "      if Point3D.are_collinear(A, B, C):\n",
        "          print(chr(i + 65), chr(j + 65), chr(k + 65))\n",
        "\n",
        "print('Точки, лежащие в одной плоскости:')\n",
        "for i in range(0, 6):\n",
        "  for j in range(i + 1, 6):\n",
        "    for k in range(j + 1, 6):\n",
        "      for l in range(k + 1, 6):\n",
        "        A = Point(points[i][0], points[i][1], points[i][2])\n",
        "        B = Point(points[j][0], points[j][1], points[j][2])\n",
        "        C = Point(points[k][0], points[k][1], points[k][2])\n",
        "        D = Point(points[l][0], points[l][1], points[l][2])\n",
        "        if Point3D.are_coplanar(A, B, C, D):\n",
        "          print(chr(i + 65), chr(j + 65), chr(k + 65), chr(l + 65))"
      ],
      "execution_count": 8,
      "outputs": [
        {
          "output_type": "stream",
          "name": "stdout",
          "text": [
            "Точки, лежащие на одной прямой:\n",
            "A B D\n",
            "A E F\n",
            "Точки, лежащие в одной плоскости:\n",
            "A B C D\n",
            "A B D E\n",
            "A B D F\n",
            "A B E F\n",
            "A C E F\n",
            "A D E F\n",
            "B D E F\n"
          ]
        }
      ]
    },
    {
      "cell_type": "markdown",
      "metadata": {
        "id": "pkTcIdfl2tR4"
      },
      "source": [
        "###  Задание 7*.\n",
        "Составить уравнения всех (различных!) плоскостей, определяемых точками задания 1.\n",
        "\n",
        "Указание: решать аналогично Примеру 11, проверить, что $A$, $B$, $C$ не лежат на одной прямой и составить плоскость $ABC$, включить ее в список плоскостей. "
      ]
    },
    {
      "cell_type": "code",
      "metadata": {
        "id": "qATyCaiv2tR4",
        "colab": {
          "base_uri": "https://localhost:8080/",
          "height": 364
        },
        "outputId": "458d65e4-6ef3-4081-f62f-27aba1306d6e"
      },
      "source": [
        "A = Point(-1, 2, -4)\n",
        "B = Point(2, -2, 1)\n",
        "C = Point(5, 3, -6)\n",
        "D = Point(0, 3, -6)\n",
        "\n",
        "arr = [A, B, C, D]\n",
        "point_names = ['A', 'B', 'C', 'D']\n",
        "\n",
        "plan = [('A', 'B', 'C', Plane(A, B, C))]\n",
        "\n",
        "for i in range(4):\n",
        "    for j in range(i + 1, 4):\n",
        "      for k in range(j + 1, 4):\n",
        "        pln = Plane(arr[i], arr[j], arr[k])\n",
        "        num = len(plan)\n",
        "        for p in range(0, num):\n",
        "            if plan[p] != pln:\n",
        "              plan.append((point_names[i], point_names[j], point_names[k], pln))\n",
        "            \n",
        "for a, b, c, d in plan:\n",
        "  display(Latex(f'{a}{b}{c}:\\ {latex(d.equation())}'))"
      ],
      "execution_count": 13,
      "outputs": [
        {
          "output_type": "display_data",
          "data": {
            "text/plain": [
              "<IPython.core.display.Latex object>"
            ],
            "text/latex": "ABC:\\ 3 x + 36 y + 27 z + 39"
          },
          "metadata": {}
        },
        {
          "output_type": "display_data",
          "data": {
            "text/plain": [
              "<IPython.core.display.Latex object>"
            ],
            "text/latex": "ABC:\\ 3 x + 36 y + 27 z + 39"
          },
          "metadata": {}
        },
        {
          "output_type": "display_data",
          "data": {
            "text/plain": [
              "<IPython.core.display.Latex object>"
            ],
            "text/latex": "ABD:\\ 3 x + 11 y + 7 z + 9"
          },
          "metadata": {}
        },
        {
          "output_type": "display_data",
          "data": {
            "text/plain": [
              "<IPython.core.display.Latex object>"
            ],
            "text/latex": "ABD:\\ 3 x + 11 y + 7 z + 9"
          },
          "metadata": {}
        },
        {
          "output_type": "display_data",
          "data": {
            "text/plain": [
              "<IPython.core.display.Latex object>"
            ],
            "text/latex": "ACD:\\ 10 y + 5 z"
          },
          "metadata": {}
        },
        {
          "output_type": "display_data",
          "data": {
            "text/plain": [
              "<IPython.core.display.Latex object>"
            ],
            "text/latex": "ACD:\\ 10 y + 5 z"
          },
          "metadata": {}
        },
        {
          "output_type": "display_data",
          "data": {
            "text/plain": [
              "<IPython.core.display.Latex object>"
            ],
            "text/latex": "ACD:\\ 10 y + 5 z"
          },
          "metadata": {}
        },
        {
          "output_type": "display_data",
          "data": {
            "text/plain": [
              "<IPython.core.display.Latex object>"
            ],
            "text/latex": "ACD:\\ 10 y + 5 z"
          },
          "metadata": {}
        },
        {
          "output_type": "display_data",
          "data": {
            "text/plain": [
              "<IPython.core.display.Latex object>"
            ],
            "text/latex": "BCD:\\ 35 y + 25 z + 45"
          },
          "metadata": {}
        },
        {
          "output_type": "display_data",
          "data": {
            "text/plain": [
              "<IPython.core.display.Latex object>"
            ],
            "text/latex": "BCD:\\ 35 y + 25 z + 45"
          },
          "metadata": {}
        },
        {
          "output_type": "display_data",
          "data": {
            "text/plain": [
              "<IPython.core.display.Latex object>"
            ],
            "text/latex": "BCD:\\ 35 y + 25 z + 45"
          },
          "metadata": {}
        },
        {
          "output_type": "display_data",
          "data": {
            "text/plain": [
              "<IPython.core.display.Latex object>"
            ],
            "text/latex": "BCD:\\ 35 y + 25 z + 45"
          },
          "metadata": {}
        },
        {
          "output_type": "display_data",
          "data": {
            "text/plain": [
              "<IPython.core.display.Latex object>"
            ],
            "text/latex": "BCD:\\ 35 y + 25 z + 45"
          },
          "metadata": {}
        },
        {
          "output_type": "display_data",
          "data": {
            "text/plain": [
              "<IPython.core.display.Latex object>"
            ],
            "text/latex": "BCD:\\ 35 y + 25 z + 45"
          },
          "metadata": {}
        },
        {
          "output_type": "display_data",
          "data": {
            "text/plain": [
              "<IPython.core.display.Latex object>"
            ],
            "text/latex": "BCD:\\ 35 y + 25 z + 45"
          },
          "metadata": {}
        },
        {
          "output_type": "display_data",
          "data": {
            "text/plain": [
              "<IPython.core.display.Latex object>"
            ],
            "text/latex": "BCD:\\ 35 y + 25 z + 45"
          },
          "metadata": {}
        }
      ]
    },
    {
      "cell_type": "markdown",
      "metadata": {
        "id": "MAw3Av4Y2tR5"
      },
      "source": [
        "### Индивидуальное задание\n",
        "Даны точки в пространстве\n",
        "$A$, $B$, $C$ и\n",
        "$M$.\n",
        "\n",
        "Найти угол между прямой $AB$ и плоскостью $CDM$, угол между $AC$ и $CM$, угол между плоскостями $ABC$ и $CDM$.\n",
        "\n",
        "Составить уравнение: \n",
        "\n",
        "a) плоскости, параллельной $ABC$ и проходящей через $M$,\n",
        "\n",
        "b) плоскости, перпендикулярной $ABC$ и проходящей через $A$ и $M$,\n",
        "\n",
        "c) прямой (параметрическое!), перпендикулярной $ABC$ и проходящей через $C$."
      ]
    },
    {
      "cell_type": "code",
      "metadata": {
        "id": "__YmDMZK2tR5",
        "colab": {
          "base_uri": "https://localhost:8080/",
          "height": 274
        },
        "outputId": "f5c1eeab-55c7-45f6-be08-b66b44d5351a"
      },
      "source": [
        "A = Point(3, 0, 1)\n",
        "B = Point(-4, -2, 3)\n",
        "C = Point(0, -2, -3)\n",
        "D = Point(-1, 0, 4)\n",
        "M = Point(-2, -4, -1)\n",
        "\n",
        "AB = Line(A, B)\n",
        "CDM = Plane(C, D, M)\n",
        "display(CDM.angle_between(AB))\n",
        "\n",
        "AC= Line(A, C)\n",
        "CM = Line(C, M)\n",
        "display(CM.angle_between(AC))\n",
        "\n",
        "ABC = Plane(A, B, C)\n",
        "display(ABC.angle_between(CDM))\n",
        "\n",
        "display(ABC.parallel_plane(M).equation())\n",
        "\n",
        "display(ABC.perpendicular_plane(A, M).equation())\n",
        "\n",
        "tmp = ABC.perpendicular_line(C)\n",
        "#display(tmp.equation())\n",
        "\n",
        "x, y, t, z = symbols('x y t z')\n",
        "\n",
        "Ab = Matrix([[17, 6, 12, 82],\n",
        "             [-2, 0, 3, 9]])\n",
        "\n",
        "line = linsolve(Ab, [x, y, t])\n",
        "display(Eq(Matrix([x, y, z]), Matrix(*line), evaluate=False))\n",
        "\n"
      ],
      "execution_count": 25,
      "outputs": [
        {
          "output_type": "display_data",
          "data": {
            "text/plain": [
              "-asin(5*sqrt(798)/266)"
            ],
            "text/latex": "$\\displaystyle - \\operatorname{asin}{\\left(\\frac{5 \\sqrt{798}}{266} \\right)}$"
          },
          "metadata": {}
        },
        {
          "output_type": "display_data",
          "data": {
            "text/plain": [
              "acos(sqrt(87)/87)"
            ],
            "text/latex": "$\\displaystyle \\operatorname{acos}{\\left(\\frac{\\sqrt{87}}{87} \\right)}$"
          },
          "metadata": {}
        },
        {
          "output_type": "display_data",
          "data": {
            "text/plain": [
              "acos(4*sqrt(4774)/341)"
            ],
            "text/latex": "$\\displaystyle \\operatorname{acos}{\\left(\\frac{4 \\sqrt{4774}}{341} \\right)}$"
          },
          "metadata": {}
        },
        {
          "output_type": "display_data",
          "data": {
            "text/plain": [
              "12*x - 34*y + 8*z - 104"
            ],
            "text/latex": "$\\displaystyle 12 x - 34 y + 8 z - 104$"
          },
          "metadata": {}
        },
        {
          "output_type": "display_data",
          "data": {
            "text/plain": [
              "-100*x + 16*y + 218*z + 82"
            ],
            "text/latex": "$\\displaystyle - 100 x + 16 y + 218 z + 82$"
          },
          "metadata": {}
        },
        {
          "output_type": "display_data",
          "data": {
            "text/plain": [
              "Eq(Matrix([\n",
              "[x],\n",
              "[y],\n",
              "[z]]), Matrix([\n",
              "[    3*t/2 - 9/2],\n",
              "[317/12 - 25*t/4],\n",
              "[              t]]))"
            ],
            "text/latex": "$\\displaystyle \\left[\\begin{matrix}x\\\\y\\\\z\\end{matrix}\\right] = \\left[\\begin{matrix}\\frac{3 t}{2} - \\frac{9}{2}\\\\\\frac{317}{12} - \\frac{25 t}{4}\\\\t\\end{matrix}\\right]$"
          },
          "metadata": {}
        }
      ]
    }
  ]
}