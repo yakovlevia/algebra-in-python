{
  "nbformat": 4,
  "nbformat_minor": 0,
  "metadata": {
    "kernelspec": {
      "display_name": "Python 3",
      "language": "python",
      "name": "python3"
    },
    "language_info": {
      "codemirror_mode": {
        "name": "ipython",
        "version": 3
      },
      "file_extension": ".py",
      "mimetype": "text/x-python",
      "name": "python",
      "nbconvert_exporter": "python",
      "pygments_lexer": "ipython3",
      "version": "3.7.3"
    },
    "colab": {
      "provenance": []
    }
  },
  "cells": [
    {
      "cell_type": "code",
      "metadata": {
        "id": "8eFsGTqm2yYh"
      },
      "source": [
        "import sympy\n",
        "from sympy import  Point, Line, Plane, Point3D, Eq, Matrix, S, Symbol, symbols, latex\n",
        "from IPython.display import display, Latex"
      ],
      "execution_count": 2,
      "outputs": []
    },
    {
      "cell_type": "markdown",
      "metadata": {
        "id": "QsFfXQQN2yYq"
      },
      "source": [
        "# Практическое занятие 7\n",
        "# Компьютерный практикум по алгебре на Python\n",
        "https://docs.sympy.org/latest/search.html?q=geometry\n",
        "\n",
        "## Прямые и плоскости в пространстве. Модуль Geometry\n",
        "### Задание 1.\n",
        "Даны точки: $A(3, -2, 3)$,  $B(-2, 3, 1)$, $C(1, -8, 6)$, $D(1, 2, 4)$, $F(-7, 8, -1)$.\n",
        "\n",
        "Составить словарь точек (ключи - точки, значения - имена точек).\n",
        "\n",
        "Вывести на экран значения записей словаря (т.е. имена точек).\n",
        "\n",
        "Проверить, различны ли прямые $AB$ и $AF$, $AB$ и $AC$, а также плоскости $ABC$ и $ACF$, $ABC$ и $ACD$. \n",
        "\n",
        "Вывести на экран текст вида \"$AB$ и $AF$ одинаковы\" (или \"не одинаковы\")."
      ]
    },
    {
      "cell_type": "code",
      "source": [
        "def print_equals(dict, a, b):\n",
        "  if (a.equals(b)):\n",
        "    display(Latex(latex(dict[a]) + latex(' и ') + latex(dict[b]) + latex(' одинаковы')))\n",
        "  else:\n",
        "    display(Latex(latex(dict[a]) + latex(' и ') + latex(dict[b]) + latex(' не одинаковы')))\n"
      ],
      "metadata": {
        "id": "2m4NyWqhmx3s"
      },
      "execution_count": 29,
      "outputs": []
    },
    {
      "cell_type": "code",
      "source": [
        "A = Point(3, -2, 3)\n",
        "B = Point(-2, 3, 1)\n",
        "C = Point(1, -8, 6)\n",
        "D = Point(1, 2, 4)\n",
        "F = Point(-7, 8, -1)\n",
        "Points = {A: 'A', B: 'B', C: 'C', D: 'D', F: 'F'}\n",
        "for key, value in Points.items():\n",
        "    print(value)\n",
        "\n",
        "AB = Line(A, B)\n",
        "AF = Line(A, F)\n",
        "AC = Line(A, C)\n",
        "\n",
        "Lines = {AB: 'AB', AF : 'AF', AC : 'AC'}\n",
        "\n",
        "print_equals(Lines, AB, AF)\n",
        "print_equals(Lines, AB, AC)\n",
        "\n",
        "ABC = Plane(A, B, C)\n",
        "ACF = Plane(A, C, F)\n",
        "ACD = Plane(A, C, D)\n",
        "\n",
        "Planes = {ABC: 'ABC', ACF : 'ACF', ACD : 'ACD'}\n",
        "\n",
        "print_equals(Planes, ABC, ACF)\n",
        "print_equals(Planes, ABC, ACD)\n"
      ],
      "metadata": {
        "id": "t7ldDcHRZNjD",
        "colab": {
          "base_uri": "https://localhost:8080/",
          "height": 188
        },
        "outputId": "27037e0a-d08d-49ec-c6bf-cc5e48eec7fc"
      },
      "execution_count": 30,
      "outputs": [
        {
          "output_type": "stream",
          "name": "stdout",
          "text": [
            "A\n",
            "B\n",
            "C\n",
            "D\n",
            "F\n"
          ]
        },
        {
          "output_type": "display_data",
          "data": {
            "text/plain": [
              "<IPython.core.display.Latex object>"
            ],
            "text/latex": "\\mathtt{\\text{AB}}\\mathtt{\\text{ и }}\\mathtt{\\text{AF}}\\mathtt{\\text{ одинаковы}}"
          },
          "metadata": {}
        },
        {
          "output_type": "display_data",
          "data": {
            "text/plain": [
              "<IPython.core.display.Latex object>"
            ],
            "text/latex": "\\mathtt{\\text{AB}}\\mathtt{\\text{ и }}\\mathtt{\\text{AC}}\\mathtt{\\text{ не одинаковы}}"
          },
          "metadata": {}
        },
        {
          "output_type": "display_data",
          "data": {
            "text/plain": [
              "<IPython.core.display.Latex object>"
            ],
            "text/latex": "\\mathtt{\\text{ABC}}\\mathtt{\\text{ и }}\\mathtt{\\text{ACF}}\\mathtt{\\text{ одинаковы}}"
          },
          "metadata": {}
        },
        {
          "output_type": "display_data",
          "data": {
            "text/plain": [
              "<IPython.core.display.Latex object>"
            ],
            "text/latex": "\\mathtt{\\text{ABC}}\\mathtt{\\text{ и }}\\mathtt{\\text{ACD}}\\mathtt{\\text{ не одинаковы}}"
          },
          "metadata": {}
        }
      ]
    },
    {
      "cell_type": "markdown",
      "metadata": {
        "id": "DFLIFpCO2yYz"
      },
      "source": [
        "###  Задание 2\n",
        "Вывести на экран уравнение плоскости ACD и расстояние от оставшихся точек до этой плоскости. "
      ]
    },
    {
      "cell_type": "code",
      "source": [
        "display(Latex(f'\\\\text{{Уравнение плоскости ACD: }}{latex(ACD.equation())}'))\n",
        "display(Latex(f'\\\\text{{Расстояние от расстояние от  B до  ACD: }}{latex(ACD.distance(B))}'))\n",
        "display(Latex(f'\\\\text{{Расстояние от расстояние от  F до  ACD: }}{latex(ACD.distance(F))}'))"
      ],
      "metadata": {
        "id": "EDozYpORZPSo",
        "colab": {
          "base_uri": "https://localhost:8080/",
          "height": 85
        },
        "outputId": "4b525489-cdd6-45ad-8389-eef128926947"
      },
      "execution_count": 34,
      "outputs": [
        {
          "output_type": "display_data",
          "data": {
            "text/plain": [
              "<IPython.core.display.Latex object>"
            ],
            "text/latex": "\\text{Уравнение плоскости ACD: }- 18 x - 4 y - 20 z + 106"
          },
          "metadata": {}
        },
        {
          "output_type": "display_data",
          "data": {
            "text/plain": [
              "<IPython.core.display.Latex object>"
            ],
            "text/latex": "\\text{Расстояние от расстояние от  B до  ACD: }\\frac{11 \\sqrt{185}}{37}"
          },
          "metadata": {}
        },
        {
          "output_type": "display_data",
          "data": {
            "text/plain": [
              "<IPython.core.display.Latex object>"
            ],
            "text/latex": "\\text{Расстояние от расстояние от  F до  ACD: }\\frac{22 \\sqrt{185}}{37}"
          },
          "metadata": {}
        }
      ]
    },
    {
      "cell_type": "markdown",
      "source": [
        "###  Задание 2*\n",
        "Вывести на экран уравнения плоскостей, в которых лежит ровно три точки из Задания 1. Затем вывести на экран расстояние от оставшихся точек до каждой их этих плоскостей. \n",
        "\n",
        "Можно по желанию воспользоваться результатами Задания 1 для упрощения поиска."
      ],
      "metadata": {
        "id": "szAjbRFeJ724"
      }
    },
    {
      "cell_type": "code",
      "source": [
        "def my_print(name, pl, p1_name, p1, p2_name, p2):\n",
        "    display(Latex(latex('Уравнение плоскости ' + name + ' : ') + latex(pl.equation())))\n",
        "    display(Latex(latex('Расстояние от плоскости ' + name + ' до ') + latex(p1_name) + latex(' : ') + latex(pl.distance(p1))))\n",
        "    display(Latex(latex('Расстояние от плоскости ' + name + ' до ') + latex(p2_name) + latex(' : ') + latex(pl.distance(p2))))\n",
        "    print('\\n')"
      ],
      "metadata": {
        "id": "dziMY6tYrUu-"
      },
      "execution_count": 42,
      "outputs": []
    },
    {
      "cell_type": "code",
      "source": [
        "for key1, value1 in Points.items():\n",
        "  for key2, value2 in Points.items():\n",
        "    for key3, value3 in Points.items():\n",
        "      if not ((value1 < value2) and (value2 < value3)): continue\n",
        "      if Point3D.are_collinear(key1, key2, key3): continue\n",
        "      Pl = Plane(key1, key2, key3)\n",
        "      fl = 0;\n",
        "      fl += (Pl.distance(A) == 0) + (Pl.distance(B) == 0) + (Pl.distance(C) == 0) + (Pl.distance(D) == 0) + (Pl.distance(F) == 0)\n",
        "      if (fl == 3):\n",
        "         display(Latex(latex(value1) + latex(value2) + latex(value3)))\n",
        "\n",
        "ACD = Plane(A, C, D)\n",
        "BCD = Plane(B, C, D)\n",
        "CDF = Plane(C, D, F)\n",
        "\n",
        "my_print('ACD', ACD, 'B', B, 'F', F)\n",
        "my_print('BCD', BCD, 'A', A, 'F', F)\n",
        "my_print('CDF', CDF, 'A', A, 'B', B)"
      ],
      "metadata": {
        "id": "qF1SpcLDZQzU",
        "colab": {
          "base_uri": "https://localhost:8080/",
          "height": 386
        },
        "outputId": "49735ee9-ea38-4469-cba6-a48410a5f31f"
      },
      "execution_count": 43,
      "outputs": [
        {
          "output_type": "display_data",
          "data": {
            "text/plain": [
              "<IPython.core.display.Latex object>"
            ],
            "text/latex": "\\mathtt{\\text{A}}\\mathtt{\\text{C}}\\mathtt{\\text{D}}"
          },
          "metadata": {}
        },
        {
          "output_type": "display_data",
          "data": {
            "text/plain": [
              "<IPython.core.display.Latex object>"
            ],
            "text/latex": "\\mathtt{\\text{B}}\\mathtt{\\text{C}}\\mathtt{\\text{D}}"
          },
          "metadata": {}
        },
        {
          "output_type": "display_data",
          "data": {
            "text/plain": [
              "<IPython.core.display.Latex object>"
            ],
            "text/latex": "\\mathtt{\\text{C}}\\mathtt{\\text{D}}\\mathtt{\\text{F}}"
          },
          "metadata": {}
        },
        {
          "output_type": "display_data",
          "data": {
            "text/plain": [
              "<IPython.core.display.Latex object>"
            ],
            "text/latex": "\\mathtt{\\text{Уравнение плоскости ACD : }}- 18 x - 4 y - 20 z + 106"
          },
          "metadata": {}
        },
        {
          "output_type": "display_data",
          "data": {
            "text/plain": [
              "<IPython.core.display.Latex object>"
            ],
            "text/latex": "\\mathtt{\\text{Расстояние от плоскости ACD до }}\\mathtt{\\text{B}}\\mathtt{\\text{ : }}\\frac{11 \\sqrt{185}}{37}"
          },
          "metadata": {}
        },
        {
          "output_type": "display_data",
          "data": {
            "text/plain": [
              "<IPython.core.display.Latex object>"
            ],
            "text/latex": "\\mathtt{\\text{Расстояние от плоскости ACD до }}\\mathtt{\\text{F}}\\mathtt{\\text{ : }}\\frac{22 \\sqrt{185}}{37}"
          },
          "metadata": {}
        },
        {
          "output_type": "stream",
          "name": "stdout",
          "text": [
            "\n",
            "\n"
          ]
        },
        {
          "output_type": "display_data",
          "data": {
            "text/plain": [
              "<IPython.core.display.Latex object>"
            ],
            "text/latex": "\\mathtt{\\text{Уравнение плоскости BCD : }}- 28 x + 6 y + 30 z - 104"
          },
          "metadata": {}
        },
        {
          "output_type": "display_data",
          "data": {
            "text/plain": [
              "<IPython.core.display.Latex object>"
            ],
            "text/latex": "\\mathtt{\\text{Расстояние от плоскости BCD до }}\\mathtt{\\text{A}}\\mathtt{\\text{ : }}\\frac{11 \\sqrt{430}}{86}"
          },
          "metadata": {}
        },
        {
          "output_type": "display_data",
          "data": {
            "text/plain": [
              "<IPython.core.display.Latex object>"
            ],
            "text/latex": "\\mathtt{\\text{Расстояние от плоскости BCD до }}\\mathtt{\\text{F}}\\mathtt{\\text{ : }}\\frac{11 \\sqrt{430}}{86}"
          },
          "metadata": {}
        },
        {
          "output_type": "stream",
          "name": "stdout",
          "text": [
            "\n",
            "\n"
          ]
        },
        {
          "output_type": "display_data",
          "data": {
            "text/plain": [
              "<IPython.core.display.Latex object>"
            ],
            "text/latex": "\\mathtt{\\text{Уравнение плоскости CDF : }}- 38 x + 16 y + 80 z - 314"
          },
          "metadata": {}
        },
        {
          "output_type": "display_data",
          "data": {
            "text/plain": [
              "<IPython.core.display.Latex object>"
            ],
            "text/latex": "\\mathtt{\\text{Расстояние от плоскости CDF до }}\\mathtt{\\text{A}}\\mathtt{\\text{ : }}\\frac{22}{9}"
          },
          "metadata": {}
        },
        {
          "output_type": "display_data",
          "data": {
            "text/plain": [
              "<IPython.core.display.Latex object>"
            ],
            "text/latex": "\\mathtt{\\text{Расстояние от плоскости CDF до }}\\mathtt{\\text{B}}\\mathtt{\\text{ : }}\\frac{11}{9}"
          },
          "metadata": {}
        },
        {
          "output_type": "stream",
          "name": "stdout",
          "text": [
            "\n",
            "\n"
          ]
        }
      ]
    },
    {
      "cell_type": "markdown",
      "metadata": {
        "id": "Y9SJb76H2yY1"
      },
      "source": [
        "###  Задание 3\n",
        "Построить плоскость, перпендикулярную плоскости $ABC$, проходящую через $D$ и начало координат. Найти линию пересечения $ABC$ и этой плоскости.\n",
        "\n",
        "Вывести на экран уравнение полученной плоскости и уравнения линии пересечения $ABC$ и этой плоскости."
      ]
    },
    {
      "cell_type": "code",
      "source": [
        "Ln3 = Line(D, Point(0, 0, 0))\n",
        "Pl3 = ABC.perpendicular_plane(D, Point(0, 0, 0))\n",
        "display(Latex(latex('Уравнение плоскости Pl3 : ') + latex(Pl3.equation())))\n",
        "#display((Pl3.intersection(ABC))[0])\n",
        "display(((Pl3.intersection(ABC))[0]).equation())"
      ],
      "metadata": {
        "id": "ubQfFqD-ZSjW",
        "colab": {
          "base_uri": "https://localhost:8080/",
          "height": 60
        },
        "outputId": "58f60e6d-9c90-4130-f048-1e056f3a367b"
      },
      "execution_count": 82,
      "outputs": [
        {
          "output_type": "display_data",
          "data": {
            "text/plain": [
              "<IPython.core.display.Latex object>"
            ],
            "text/latex": "\\mathtt{\\text{Уравнение плоскости Pl3 : }}- 4 x + 28 y - 13 z"
          },
          "metadata": {}
        },
        {
          "output_type": "display_data",
          "data": {
            "text/plain": [
              "(-121*x + 1367*y - 1183, 160*x + 1367*z - 2548)"
            ],
            "text/latex": "$\\displaystyle \\left( - 121 x + 1367 y - 1183, \\  160 x + 1367 z - 2548\\right)$"
          },
          "metadata": {}
        }
      ]
    },
    {
      "cell_type": "markdown",
      "metadata": {
        "id": "rBqOF-CW2yY3"
      },
      "source": [
        "###  Задание 4\n",
        "Найти пересечение плоскости $ABC$ и прямой $DK$, где $K(3,-2, 3)$. Проверить с помощью словаря точек, не является ли точка пересечения одной из заданных точек."
      ]
    },
    {
      "cell_type": "code",
      "source": [
        "K = Point(3, -2, 3)\n",
        "Ln4 = Line(D, K)\n",
        "P = (ABC.intersection(Ln4))[0]\n",
        "display(P)\n",
        "display(Latex(latex('P = ') + latex(Points[P])))"
      ],
      "metadata": {
        "id": "XFlIKPA_ZUIZ",
        "colab": {
          "base_uri": "https://localhost:8080/",
          "height": 59
        },
        "outputId": "99853bf0-391f-465f-98df-045d856e0717"
      },
      "execution_count": 62,
      "outputs": [
        {
          "output_type": "display_data",
          "data": {
            "text/plain": [
              "Point3D(3, -2, 3)"
            ],
            "text/latex": "$\\displaystyle Point3D\\left(3, -2, 3\\right)$"
          },
          "metadata": {}
        },
        {
          "output_type": "display_data",
          "data": {
            "text/plain": [
              "<IPython.core.display.Latex object>"
            ],
            "text/latex": "\\mathtt{\\text{P = }}\\mathtt{\\text{A}}"
          },
          "metadata": {}
        }
      ]
    },
    {
      "cell_type": "markdown",
      "metadata": {
        "id": "R5udVUCQ2yY5"
      },
      "source": [
        "###  Задание 5\n",
        "Построить плоскость, параллельную плоскости $ABC$, проходящую через точку $M(-1, 6, 3)$, вывести на экран ее уравнение.\n",
        "\n",
        "Найти и вывести на экран расстояние от прямой $AB$ до построенной плоскости."
      ]
    },
    {
      "cell_type": "code",
      "source": [
        "M = Point(-1, 6, 3)\n",
        "Pl5 = ABC.parallel_plane(M)\n",
        "display(Latex(latex('Уравнение плоскости Pl5 : ') + latex(Pl5.equation())))\n",
        "display(Latex(f'\\\\text{{Расстояние от расстояние от  AB до Pl5: }}{latex(Pl5.distance(AB))}'))"
      ],
      "metadata": {
        "id": "clYFbQAhZX8x",
        "colab": {
          "base_uri": "https://localhost:8080/",
          "height": 83
        },
        "outputId": "9fd3d0fb-b603-4bdf-a3ba-45df0c2e6367"
      },
      "execution_count": 70,
      "outputs": [
        {
          "output_type": "display_data",
          "data": {
            "text/plain": [
              "3*x + 19*y + 40*z - 231"
            ],
            "text/latex": "$\\displaystyle 3 x + 19 y + 40 z - 231$"
          },
          "metadata": {}
        },
        {
          "output_type": "display_data",
          "data": {
            "text/plain": [
              "<IPython.core.display.Latex object>"
            ],
            "text/latex": "\\mathtt{\\text{Уравнение плоскости Pl5 : }}3 x + 19 y + 40 z - 231"
          },
          "metadata": {}
        },
        {
          "output_type": "display_data",
          "data": {
            "text/plain": [
              "<IPython.core.display.Latex object>"
            ],
            "text/latex": "\\text{Расстояние от расстояние от  AB до Pl5: }\\frac{14 \\sqrt{1970}}{197}"
          },
          "metadata": {}
        }
      ]
    },
    {
      "cell_type": "markdown",
      "metadata": {
        "id": "YQtDk8082yY6"
      },
      "source": [
        "###  Задание 6*\n",
        "Даны точки: $A(3, -2, 3)$,  $B(-2, 3, 1)$, $C(1, -8, 6)$, $D(1, 2, 4)$, $F(-7, 8, -1)$.\n",
        "\n",
        "Составить словарь всех прямых (в нем должны быть и прямая $AB$, и $BA$!), каждая из которых проходит хотя бы через две заданные точки, ключ - сама прямая (Line), значение - список из имен ВСЕХ точек, лежащих на этой прямой. Вывести на экран имена только тех прямых, на которых лежит не менее трех точек из условия, а также список точек, лежащих на прямой."
      ]
    },
    {
      "cell_type": "code",
      "source": [
        "new_lines = {}\n",
        "\n",
        "for key1, value1 in Points.items():\n",
        "  for key2, value2 in Points.items():\n",
        "    if (value1 == value2): continue\n",
        "    line = Line(key1, key2)\n",
        "    new_lines[line] = value1 + value2\n",
        "\n",
        "for line, name in new_lines.items():\n",
        "    pt = []\n",
        "    for point, name1 in Points.items():\n",
        "      if (line.distance(point) == 0): pt.append(name1)\n",
        "    \n",
        "    if (len(pt) > 2): display(Latex(latex('на прямой ' + name + ' лежат точки') + latex(pt)))"
      ],
      "metadata": {
        "id": "uqVVZMPKZaWr",
        "colab": {
          "base_uri": "https://localhost:8080/",
          "height": 139
        },
        "outputId": "1a820a9c-ef9d-4de7-a130-d5b2f94ee951"
      },
      "execution_count": 69,
      "outputs": [
        {
          "output_type": "display_data",
          "data": {
            "text/plain": [
              "<IPython.core.display.Latex object>"
            ],
            "text/latex": "\\mathtt{\\text{на прямой AB лежат точки}}\\left[ \\mathtt{\\text{A}}, \\  \\mathtt{\\text{B}}, \\  \\mathtt{\\text{F}}\\right]"
          },
          "metadata": {}
        },
        {
          "output_type": "display_data",
          "data": {
            "text/plain": [
              "<IPython.core.display.Latex object>"
            ],
            "text/latex": "\\mathtt{\\text{на прямой AF лежат точки}}\\left[ \\mathtt{\\text{A}}, \\  \\mathtt{\\text{B}}, \\  \\mathtt{\\text{F}}\\right]"
          },
          "metadata": {}
        },
        {
          "output_type": "display_data",
          "data": {
            "text/plain": [
              "<IPython.core.display.Latex object>"
            ],
            "text/latex": "\\mathtt{\\text{на прямой BA лежат точки}}\\left[ \\mathtt{\\text{A}}, \\  \\mathtt{\\text{B}}, \\  \\mathtt{\\text{F}}\\right]"
          },
          "metadata": {}
        },
        {
          "output_type": "display_data",
          "data": {
            "text/plain": [
              "<IPython.core.display.Latex object>"
            ],
            "text/latex": "\\mathtt{\\text{на прямой BF лежат точки}}\\left[ \\mathtt{\\text{A}}, \\  \\mathtt{\\text{B}}, \\  \\mathtt{\\text{F}}\\right]"
          },
          "metadata": {}
        },
        {
          "output_type": "display_data",
          "data": {
            "text/plain": [
              "<IPython.core.display.Latex object>"
            ],
            "text/latex": "\\mathtt{\\text{на прямой FA лежат точки}}\\left[ \\mathtt{\\text{A}}, \\  \\mathtt{\\text{B}}, \\  \\mathtt{\\text{F}}\\right]"
          },
          "metadata": {}
        },
        {
          "output_type": "display_data",
          "data": {
            "text/plain": [
              "<IPython.core.display.Latex object>"
            ],
            "text/latex": "\\mathtt{\\text{на прямой FB лежат точки}}\\left[ \\mathtt{\\text{A}}, \\  \\mathtt{\\text{B}}, \\  \\mathtt{\\text{F}}\\right]"
          },
          "metadata": {}
        }
      ]
    },
    {
      "cell_type": "markdown",
      "metadata": {
        "id": "RyK8Ftfp2yY7"
      },
      "source": [
        "### Индивидуальное задание\n",
        "\n",
        "Даны точки: $A(3, 2, 1)$,  $B(2, -3, 1)$, $C(0, -4, 6)$, $D(4, 7, 1)$, $F(1, -8, 1)$.\n",
        "\n",
        "Составить словарь с ключами - точками (например, Point3D(3, 2, 1)) и значениями - именами точек ('A', 'B' и т.д.). Найти и вывести на экран\n",
        "\n",
        ">расстояние от точек $D$ и $F$ до плоскости $ABC$, \n",
        "\n",
        ">уравнение плоскости $ABC$, \n",
        "\n",
        ">параметрические уравнения прямой $DF$.\n",
        "\n",
        "Определить и вывести на экран, какие 4 из заданных точек лежат в одной плоскости (пользуясь словарем точек, вывести имена точек).\n",
        "\n",
        "Определить и вывести на экран, какие 3 из заданных точек лежат на одной прямой (пользуясь словарем точек, вывести имена точек)."
      ]
    },
    {
      "cell_type": "code",
      "source": [
        "#126\n",
        "F = Point(1, 4, 0)\n",
        "J = Point(-5, -1, 15)\n",
        "K = Point(4, -1, 0)\n",
        "R = Point(2, -2, 5)\n",
        "S = Point(1, -1, 5)\n",
        "Points = {F: 'F', J: 'J', K: 'K', R: 'R', S: 'S'}\n",
        "\n",
        "FKS = Plane(F, K, S)\n",
        "display(Latex(latex(\"Расстояние от R до плоскости FKS : \") + latex(FKS.distance(R))))\n",
        "display(Latex(latex(\"Расстояние от J до плоскости FKS : \") + latex(FKS.distance(J))))\n",
        "display(Latex(latex('Уравнение плоскости FKS : ') + latex(FKS.equation())))\n",
        "\n",
        "print('\\n')\n",
        "for key1, value1 in Points.items():\n",
        "  for key2, value2 in Points.items():\n",
        "    for key3, value3 in Points.items():\n",
        "      for key4, value4 in Points.items():\n",
        "        if not ((value1 < value2) and (value2 < value3) and (value3 < value4)): continue\n",
        "        if Point3D.are_coplanar(key1, key2, key3, key4):\n",
        "          display(Latex(latex('Точки ' + value1 + ', ' + value2 + ', ' + value3 + ' и ' + value4 + ' лежат в одной плоскости')))\n",
        "\n",
        "print('\\n')\n",
        "for key1, value1 in Points.items():\n",
        "  for key2, value2 in Points.items():\n",
        "    for key3, value3 in Points.items():\n",
        "        if not ((value1 < value2) and (value2 < value3)): continue\n",
        "        if Point3D.are_collinear(key1, key2, key3):\n",
        "          display(Latex(latex('Точки ' + value1 + ', ' + value2 + ' и ' + value3 + ' лежат на одной прямой')))"
      ],
      "metadata": {
        "id": "1-0vauDkZbwf",
        "colab": {
          "base_uri": "https://localhost:8080/",
          "height": 215
        },
        "outputId": "1f1d9c41-55da-4e15-8e69-c11e0137a862"
      },
      "execution_count": 84,
      "outputs": [
        {
          "output_type": "display_data",
          "data": {
            "text/plain": [
              "<IPython.core.display.Latex object>"
            ],
            "text/latex": "\\mathtt{\\text{Расстояние от R до плоскости FKS : }}\\frac{2 \\sqrt{43}}{43}"
          },
          "metadata": {}
        },
        {
          "output_type": "display_data",
          "data": {
            "text/plain": [
              "<IPython.core.display.Latex object>"
            ],
            "text/latex": "\\mathtt{\\text{Расстояние от J до плоскости FKS : }}0"
          },
          "metadata": {}
        },
        {
          "output_type": "display_data",
          "data": {
            "text/plain": [
              "<IPython.core.display.Latex object>"
            ],
            "text/latex": "\\mathtt{\\text{Уравнение плоскости FKS : }}- 25 x - 15 y - 15 z + 85"
          },
          "metadata": {}
        },
        {
          "output_type": "stream",
          "name": "stdout",
          "text": [
            "\n",
            "\n"
          ]
        },
        {
          "output_type": "display_data",
          "data": {
            "text/plain": [
              "<IPython.core.display.Latex object>"
            ],
            "text/latex": "\\mathtt{\\text{Точки F, J, K и S лежат в одной плоскости}}"
          },
          "metadata": {}
        },
        {
          "output_type": "display_data",
          "data": {
            "text/plain": [
              "<IPython.core.display.Latex object>"
            ],
            "text/latex": "\\mathtt{\\text{Точки J, K, R и S лежат в одной плоскости}}"
          },
          "metadata": {}
        },
        {
          "output_type": "stream",
          "name": "stdout",
          "text": [
            "\n",
            "\n"
          ]
        },
        {
          "output_type": "display_data",
          "data": {
            "text/plain": [
              "<IPython.core.display.Latex object>"
            ],
            "text/latex": "\\mathtt{\\text{Точки J, K и S лежат на одной прямой}}"
          },
          "metadata": {}
        }
      ]
    }
  ]
}