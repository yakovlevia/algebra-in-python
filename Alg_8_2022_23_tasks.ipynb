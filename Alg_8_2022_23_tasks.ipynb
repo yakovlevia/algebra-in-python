{
  "nbformat": 4,
  "nbformat_minor": 0,
  "metadata": {
    "kernelspec": {
      "display_name": "Python 3",
      "language": "python",
      "name": "python3"
    },
    "language_info": {
      "codemirror_mode": {
        "name": "ipython",
        "version": 3
      },
      "file_extension": ".py",
      "mimetype": "text/x-python",
      "name": "python",
      "nbconvert_exporter": "python",
      "pygments_lexer": "ipython3",
      "version": "3.7.3"
    },
    "colab": {
      "provenance": []
    }
  },
  "cells": [
    {
      "cell_type": "markdown",
      "metadata": {
        "id": "KqMzidc80GGB"
      },
      "source": [
        "# Практическое занятие 8\n",
        "# Компьютерный практикум по алгебре на Python\n",
        "## Численное решение систем линейных алгебраических уравнений (СЛАУ) с numpy."
      ]
    },
    {
      "cell_type": "markdown",
      "metadata": {
        "id": "675Fb5ND0GGK"
      },
      "source": [
        "https://numpy.org/doc/stable/reference/routines.linalg.html"
      ]
    },
    {
      "cell_type": "code",
      "metadata": {
        "id": "TNk5d0Si0GGK"
      },
      "source": [
        "import numpy as np\n",
        "from numpy import linalg"
      ],
      "execution_count": 1,
      "outputs": []
    },
    {
      "cell_type": "markdown",
      "metadata": {
        "id": "dMGJ1uQC0GGM"
      },
      "source": [
        "### Задание 1.\n",
        "Решить СЛАУ с помощью linalg.solve() и выполнить проверку.\n",
        "$$\n",
        "\\left\\{\n",
        "\\begin{matrix}\n",
        "-x+5y-3z=8\\\\\n",
        "4x-y+5z=-1\\\\\n",
        "3x+4y+5z=10\n",
        "\\end{matrix}\n",
        "\\right.\n",
        "$$"
      ]
    },
    {
      "cell_type": "code",
      "source": [
        "A = np.array([[-1, 5, -3], [4, -1, 5], [3, 4, 5]])\n",
        "b = np.array([8, -1, 10])\n",
        "X = linalg.solve(A, b)\n",
        "print(f'Решение СЛАУ: {X}')"
      ],
      "metadata": {
        "id": "lrU1XWLhNBjz",
        "colab": {
          "base_uri": "https://localhost:8080/"
        },
        "outputId": "4c6e4fc6-256a-47a2-fb06-8c1fe13b555c"
      },
      "execution_count": 7,
      "outputs": [
        {
          "output_type": "stream",
          "name": "stdout",
          "text": [
            "Решение СЛАУ: [-1.  2.  1.]\n"
          ]
        }
      ]
    },
    {
      "cell_type": "markdown",
      "source": [
        "### Задание 2.\n",
        "Определить с помощью Теоремы Кронекера-Капелли и linalg.matrix_rank, совместна ли СЛАУ\n",
        "$$\n",
        "\\left\\{\n",
        "\\begin{matrix}\n",
        "-x+5y-3z=8\\\\\n",
        "4x-y+5z=-1\\\\\n",
        "3x+4y+2z=7\n",
        "\\end{matrix}\n",
        "\\right.\n",
        "$$\n",
        "\n",
        "Сделать вывод о числе решений (текстом)"
      ],
      "metadata": {
        "id": "E6-UJMGKB8Ej"
      }
    },
    {
      "cell_type": "code",
      "source": [
        "A = np.array([[-1, 5, -3], [4, -1, 5], [3, 4, 2]])\n",
        "b = np.array([8, -1, 7])\n",
        "Ab = np.column_stack((A, b))\n",
        "print(f'ранг A = {linalg.matrix_rank(A)}\\nранг Ab = {linalg.matrix_rank(Ab)}')\n",
        "\n",
        "if (linalg.matrix_rank(A) == linalg.matrix_rank(Ab)):\n",
        "  print('СЛАУ совместна')\n",
        "else:\n",
        "  print('СЛАУ несовместна')"
      ],
      "metadata": {
        "id": "aFuOUEgNNCj8",
        "colab": {
          "base_uri": "https://localhost:8080/",
          "height": 125
        },
        "outputId": "e8636d53-9918-4e4e-a790-ffb49eee65ff"
      },
      "execution_count": 19,
      "outputs": [
        {
          "output_type": "display_data",
          "data": {
            "text/plain": [
              "array([[-1,  5, -3,  8],\n",
              "       [ 4, -1,  5, -1],\n",
              "       [ 3,  4,  2,  7]])"
            ]
          },
          "metadata": {}
        },
        {
          "output_type": "stream",
          "name": "stdout",
          "text": [
            "ранг A = 2\n",
            "ранг Ab = 2\n",
            "СЛАУ совместна\n"
          ]
        }
      ]
    },
    {
      "cell_type": "markdown",
      "metadata": {
        "id": "sJLNktgn0GGO"
      },
      "source": [
        "### Задание 3.\n",
        "Исследовать на совместность СЛАУ с параметром $a$ при значениях параметра $a=1$ и $a=-1$ и найти решение, если оно единственно и провести проверку подстановкой.\n",
        "$$\n",
        "\\left\\{\n",
        "\\begin{matrix}\n",
        "-x+5y-3z=8a\\\\\n",
        "4x-ay+5z=-a\\\\\n",
        "3x+4y+2z=5a\n",
        "\\end{matrix}\n",
        "\\right.\n",
        "$$"
      ]
    },
    {
      "cell_type": "code",
      "source": [
        "print('a = 1:')\n",
        "A = np.array([[-1, 5, -3], [4, -1, 5], [3, 4, 2]])\n",
        "b = np.array([8 * 1, -1, 5 * 1])\n",
        "Ab = np.column_stack((A, b))\n",
        "\n",
        "print(f'ранг A = {linalg.matrix_rank(A)}\\nранг Ab = {linalg.matrix_rank(Ab)}')\n",
        "\n",
        "if (linalg.matrix_rank(A) == linalg.matrix_rank(Ab)):\n",
        "  print('СЛАУ совместна')\n",
        "else:\n",
        "  print('СЛАУ несовместна')"
      ],
      "metadata": {
        "id": "ivlQWvIbNEGO",
        "colab": {
          "base_uri": "https://localhost:8080/"
        },
        "outputId": "9a929606-019f-42cb-847e-f36926d63289"
      },
      "execution_count": 16,
      "outputs": [
        {
          "output_type": "stream",
          "name": "stdout",
          "text": [
            "a = 1:\n",
            "ранг A = 2\n",
            "ранг Ab = 3\n",
            "СЛАУ несовместна\n"
          ]
        }
      ]
    },
    {
      "cell_type": "code",
      "source": [
        "print('a = -1:')\n",
        "A = np.array([[-1, 5, -3], [4, -(-1), 5], [3, 4, 2]])\n",
        "b = np.array([8 * (-1), -(-1), 5 * (-1)])\n",
        "Ab = np.column_stack((A, b))\n",
        "\n",
        "print(f'ранг A = {linalg.matrix_rank(A)}\\nранг Ab = {linalg.matrix_rank(Ab)}')\n",
        "\n",
        "if (linalg.matrix_rank(A) == linalg.matrix_rank(Ab)):\n",
        "  print('СЛАУ совместна')\n",
        "else:\n",
        "  print('СЛАУ несовместна')"
      ],
      "metadata": {
        "colab": {
          "base_uri": "https://localhost:8080/"
        },
        "id": "s-T45sgp86a6",
        "outputId": "d0a58511-314e-4381-ac3e-255cef10171a"
      },
      "execution_count": 17,
      "outputs": [
        {
          "output_type": "stream",
          "name": "stdout",
          "text": [
            "a = -1:\n",
            "ранг A = 3\n",
            "ранг Ab = 3\n",
            "СЛАУ совместна\n"
          ]
        }
      ]
    },
    {
      "cell_type": "markdown",
      "metadata": {
        "id": "m8SPA6yz0GGP"
      },
      "source": [
        "### Задание 4\n",
        "В расширенной матрице СЛАУ из Задания 2 \n",
        "\n",
        "1) выделить матрицу левой части\n",
        "\n",
        "2) выделить столбец правой части\n",
        "\n",
        "3) транспонировать матрицу, полученную в 1)\n",
        "\n",
        "4) получить расширенную матрицу из матрицы 3) и столбца 2)\n",
        "\n",
        "5) создать на основе списочного выражения np.array $3\\times 4$ из расположенных в шахматном порядке чисел 1 и $-1$."
      ]
    },
    {
      "cell_type": "code",
      "source": [
        "Ab = np.array([[-1, 5, -3, 8], [4, -1, 5, -1], [3, 4, 2, 7]])\n",
        "A = Ab[:, :-1]\n",
        "display(A)\n",
        "print('\\n')\n",
        "\n",
        "b = Ab[:, -1]\n",
        "display(b)\n",
        "print('\\n')\n",
        "\n",
        "A_t = np.transpose(A)\n",
        "display(A_t)\n",
        "print('\\n')\n",
        "\n",
        "Ab = np.column_stack((A, b))\n",
        "display(Ab)\n",
        "print('\\n')\n",
        "\n",
        "Q = np.array([[2 * (((i + j + 1) % 2)) - 1 for i in range(4)] for j in range(3)])\n",
        "display(Q)"
      ],
      "metadata": {
        "id": "b_uq1uABNFTI",
        "colab": {
          "base_uri": "https://localhost:8080/",
          "height": 394
        },
        "outputId": "366b988d-2568-41a0-fc8e-faf1c4efe2a1"
      },
      "execution_count": 36,
      "outputs": [
        {
          "output_type": "display_data",
          "data": {
            "text/plain": [
              "array([[-1,  5, -3],\n",
              "       [ 4, -1,  5],\n",
              "       [ 3,  4,  2]])"
            ]
          },
          "metadata": {}
        },
        {
          "output_type": "stream",
          "name": "stdout",
          "text": [
            "\n",
            "\n"
          ]
        },
        {
          "output_type": "display_data",
          "data": {
            "text/plain": [
              "array([ 8, -1,  7])"
            ]
          },
          "metadata": {}
        },
        {
          "output_type": "stream",
          "name": "stdout",
          "text": [
            "\n",
            "\n"
          ]
        },
        {
          "output_type": "display_data",
          "data": {
            "text/plain": [
              "array([[-1,  4,  3],\n",
              "       [ 5, -1,  4],\n",
              "       [-3,  5,  2]])"
            ]
          },
          "metadata": {}
        },
        {
          "output_type": "stream",
          "name": "stdout",
          "text": [
            "\n",
            "\n"
          ]
        },
        {
          "output_type": "display_data",
          "data": {
            "text/plain": [
              "array([[-1,  5, -3,  8],\n",
              "       [ 4, -1,  5, -1],\n",
              "       [ 3,  4,  2,  7]])"
            ]
          },
          "metadata": {}
        },
        {
          "output_type": "stream",
          "name": "stdout",
          "text": [
            "\n",
            "\n"
          ]
        },
        {
          "output_type": "display_data",
          "data": {
            "text/plain": [
              "array([[ 1, -1,  1, -1],\n",
              "       [-1,  1, -1,  1],\n",
              "       [ 1, -1,  1, -1]])"
            ]
          },
          "metadata": {}
        }
      ]
    },
    {
      "cell_type": "markdown",
      "metadata": {
        "id": "PtPxOU3a0GGR"
      },
      "source": [
        "### Индивидуальное задание.\n",
        "Исследовать на совместность СЛАУ с параметром $a$ при заданных значениях параметра $a$ и найти решение, если оно единственно и провести проверку подстановкой.\n",
        " "
      ]
    },
    {
      "cell_type": "code",
      "source": [
        "#126\n",
        "print('a = -7:')\n",
        "A = np.array([[-9, -1, -1, -6], [-7, 5, 4, 4], [1, -3, -4, -8], [12, -16, -13, -18]])\n",
        "b = np.array([-87, -75, 5, 162])\n",
        "\n",
        "Ab = np.column_stack((A, b))\n",
        "print(f'ранг A = {linalg.matrix_rank(A)}\\nранг Ab = {linalg.matrix_rank(Ab)}')\n",
        "\n",
        "if (linalg.matrix_rank(A) == linalg.matrix_rank(Ab)):\n",
        "  print('СЛАУ совместна')\n",
        "else:\n",
        "  print('СЛАУ несовместна')\n",
        "\n"
      ],
      "metadata": {
        "id": "5R4UrvPjNGqf",
        "colab": {
          "base_uri": "https://localhost:8080/"
        },
        "outputId": "9194f04d-5922-47d7-c696-b0c77f03a4b8"
      },
      "execution_count": 42,
      "outputs": [
        {
          "output_type": "stream",
          "name": "stdout",
          "text": [
            "a = -7:\n",
            "ранг A = 3\n",
            "ранг Ab = 4\n",
            "СЛАУ несовместна\n"
          ]
        }
      ]
    },
    {
      "cell_type": "code",
      "source": [
        "print('a = -6:')\n",
        "A = np.array([[-9, -1, -1, -6], [-6, 5, 4, 4], [1, -3, -4, -8], [12, -16, -13, -18]])\n",
        "Ab = np.column_stack((A, b))\n",
        "print(f'ранг A = {linalg.matrix_rank(A)}\\nранг Ab = {linalg.matrix_rank(Ab)}')\n",
        "\n",
        "if (linalg.matrix_rank(A) == linalg.matrix_rank(Ab)):\n",
        "  print('СЛАУ совместна')\n",
        "else:\n",
        "  print('СЛАУ несовместна')\n",
        "\n",
        "X = linalg.solve(A, b)\n",
        "print(f'Решение СЛАУ: {X}')"
      ],
      "metadata": {
        "colab": {
          "base_uri": "https://localhost:8080/"
        },
        "id": "MpbSc8sYArrT",
        "outputId": "7417e646-7f5d-492a-8e0c-ce649fe90277"
      },
      "execution_count": 43,
      "outputs": [
        {
          "output_type": "stream",
          "name": "stdout",
          "text": [
            "a = -6:\n",
            "ранг A = 4\n",
            "ранг Ab = 4\n",
            "СЛАУ совместна\n",
            "Решение СЛАУ: [ 8. -7. -2.  4.]\n"
          ]
        }
      ]
    }
  ]
}