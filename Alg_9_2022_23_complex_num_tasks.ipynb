{
  "nbformat": 4,
  "nbformat_minor": 0,
  "metadata": {
    "kernelspec": {
      "display_name": "Python 3",
      "language": "python",
      "name": "python3"
    },
    "language_info": {
      "codemirror_mode": {
        "name": "ipython",
        "version": 3
      },
      "file_extension": ".py",
      "mimetype": "text/x-python",
      "name": "python",
      "nbconvert_exporter": "python",
      "pygments_lexer": "ipython3",
      "version": "3.7.3"
    },
    "colab": {
      "provenance": []
    }
  },
  "cells": [
    {
      "cell_type": "code",
      "metadata": {
        "id": "eTUL_xdODebk"
      },
      "source": [
        "import numpy as np\n",
        "import sympy\n",
        "from sympy import I, latex, S, Symbol\n",
        "from IPython.display import display, Latex\n",
        "import matplotlib.pyplot as plt\n",
        "from sympy import expand_complex"
      ],
      "execution_count": 15,
      "outputs": []
    },
    {
      "cell_type": "markdown",
      "metadata": {
        "id": "NYucazc7Debp"
      },
      "source": [
        "# Практическое занятие 9\n",
        "# Компьютерный практикум по алгебре на Python\n",
        "## Комплексные числа в sympy\n",
        "### Задание 1.\n",
        "Даны комплексные числа\n",
        "$$\n",
        "z_1 = 5\\sqrt{3} + 5i,\\quad z_2 = -3 + 3i,\\quad z_3 = - 1 + i,\\quad z_4 = i,\\quad z_5 = \\frac{12}{13} + \\frac{5}{13}i,\n",
        "$$\n",
        "вычислить (представить в алгебраической форме) с помощью sympy\n",
        "$$\n",
        "z_1 \\cdot z_2,\\quad (z_2 - 5z_3)^6,\\quad \\sqrt{\\frac{z_4}{z_3}},\\quad \\frac{z_1^2 + z_3}{13z_5 - 2z_2}.\n",
        "$$"
      ]
    },
    {
      "cell_type": "code",
      "source": [
        "z1 = 5 * sympy.sqrt(3) + 5 * I\n",
        "z2 = -3 + 3 * I\n",
        "z3 = -1 + I\n",
        "z4 = I\n",
        "z5 = S(12)/13 + S(5)/13 * I\n",
        "display(sympy.expand_complex((z1 * z2)), \n",
        "        sympy.expand_complex((z2 - 5 * z3)**6), \n",
        "        sympy.expand_complex(sympy.sqrt(z4 / z3)), \n",
        "        sympy.expand_complex((z1**2 + z3) / (13*z5 - 2*z2))\n",
        "        )"
      ],
      "metadata": {
        "id": "E9iRFpK2MCTO"
      },
      "execution_count": null,
      "outputs": []
    },
    {
      "cell_type": "markdown",
      "metadata": {
        "id": "hMWTheVHDebr"
      },
      "source": [
        "### Задание  2.\n",
        "Вычисления Задания 1 проделать для мнимой единицы из Python (использовать встроенную функцию complex)."
      ]
    },
    {
      "cell_type": "code",
      "source": [
        "z1 = complex(5 * 3**0.5, 5)\n",
        "z2 = complex(-3, 3)\n",
        "z3 = complex(-1, 1)\n",
        "z4 = complex(0, 1)\n",
        "z5 = complex(S(12)/13, S(5)/13)\n",
        "\n",
        "display(z1 * z2, \n",
        "        (z2 - 5 * z3)**6, \n",
        "        (z4 / z3)**0.5, \n",
        "        (z1**2 + z3) / (13*z5 - 2*z2)\n",
        "        )"
      ],
      "metadata": {
        "id": "rUaUUg7bMDfO",
        "colab": {
          "base_uri": "https://localhost:8080/",
          "height": 86
        },
        "outputId": "c9017393-7b3a-4af6-9d20-e3eeb4398046"
      },
      "execution_count": null,
      "outputs": [
        {
          "output_type": "display_data",
          "data": {
            "text/plain": [
              "(-40.98076211353316+10.980762113533157j)"
            ]
          },
          "metadata": {}
        },
        {
          "output_type": "display_data",
          "data": {
            "text/plain": [
              "(-0+512j)"
            ]
          },
          "metadata": {}
        },
        {
          "output_type": "display_data",
          "data": {
            "text/plain": [
              "(0.7768869870150187-0.32179712645279135j)"
            ]
          },
          "metadata": {}
        },
        {
          "output_type": "display_data",
          "data": {
            "text/plain": [
              "(2.4442998757586336+5.002602236344583j)"
            ]
          },
          "metadata": {}
        }
      ]
    },
    {
      "cell_type": "markdown",
      "metadata": {
        "id": "tb3ET3y6Debs"
      },
      "source": [
        "### Задание  3.\n",
        "Изобразить на координатной плоскости точки, соответствующие корням  $7$-й степени комплексного числа $z = \\frac{3}{5} + i\\frac{3}{5}$. Подписать точки $A_k$, где $k$  - номер корня."
      ]
    },
    {
      "cell_type": "code",
      "source": [
        "roots_list = [sympy.root(S(3) / 5 + S(3) / 5 * I, 7, k) for k in range(7)]\n",
        "display(Latex(latex(roots_list)))\n",
        "\n",
        "roots = [sympy.expand_complex(item) for item in roots_list]\n",
        "roots_x = [sympy.re(item) for item in roots_list]\n",
        "roots_y = [sympy.im(item) for item in roots_list]\n",
        "plt.scatter(roots_x, roots_y)\n",
        "for k, x_coord in enumerate(roots_x): \n",
        "    plt.annotate(f'$A_{k}$',\n",
        "            xy=(x_coord, roots_y[k]), \n",
        "            xytext=(x_coord + 0.05, roots_y[k] - 0.05)) \n",
        "    \n",
        "plt.axis('equal')\n",
        "plt.xlabel(\"Re\")\n",
        "plt.ylabel(\"Im\")\n",
        "plt.xlim(-2.5, 2.5)\n",
        "plt.ylim(-1.5, 1.5)"
      ],
      "metadata": {
        "id": "Hfw6-tc1MEk2",
        "colab": {
          "base_uri": "https://localhost:8080/",
          "height": 332
        },
        "outputId": "97828eca-9fb2-477f-9edb-95f00f86fd71"
      },
      "execution_count": null,
      "outputs": [
        {
          "output_type": "display_data",
          "data": {
            "text/plain": [
              "<IPython.core.display.Latex object>"
            ],
            "text/latex": "\\left[ \\sqrt[7]{\\frac{3}{5} + \\frac{3 i}{5}}, \\  \\left(-1\\right)^{\\frac{2}{7}} \\sqrt[7]{\\frac{3}{5} + \\frac{3 i}{5}}, \\  \\left(-1\\right)^{\\frac{4}{7}} \\sqrt[7]{\\frac{3}{5} + \\frac{3 i}{5}}, \\  \\left(-1\\right)^{\\frac{6}{7}} \\sqrt[7]{\\frac{3}{5} + \\frac{3 i}{5}}, \\  - \\sqrt[7]{-1} \\sqrt[7]{\\frac{3}{5} + \\frac{3 i}{5}}, \\  - \\left(-1\\right)^{\\frac{3}{7}} \\sqrt[7]{\\frac{3}{5} + \\frac{3 i}{5}}, \\  - \\left(-1\\right)^{\\frac{5}{7}} \\sqrt[7]{\\frac{3}{5} + \\frac{3 i}{5}}\\right]"
          },
          "metadata": {}
        },
        {
          "output_type": "execute_result",
          "data": {
            "text/plain": [
              "(-1.5, 1.5)"
            ]
          },
          "metadata": {},
          "execution_count": 42
        },
        {
          "output_type": "display_data",
          "data": {
            "text/plain": [
              "<Figure size 432x288 with 1 Axes>"
            ],
            "image/png": "[encoded data removed]"
          },
          "metadata": {
            "needs_background": "light"
          }
        }
      ]
    },
    {
      "cell_type": "markdown",
      "metadata": {
        "id": "t9mDRl5eDebt"
      },
      "source": [
        "### Задание  4.\n",
        "Изобразить на координатной плоскости точки, соответствующие $z_4 = - \\sqrt{3} + 3i$ и $\\bar{z_4}$, подписать $z_4$ тригонометрической формой, $\\bar{z_4}$ - экспоненциальной ($z = r e^{i\\varphi}$, $r$ и $\\varphi$ такие же, как в тригонометрической форме)."
      ]
    },
    {
      "cell_type": "code",
      "source": [
        "z4 = -sympy.sqrt(3) + 3 * I\n",
        "z4_rev = sympy.conjugate(z4)\n",
        "\n",
        "arr = [z4, z4_rev]\n",
        "\n",
        "roots_x = [sympy.re(item) for item in arr]\n",
        "roots_y = [sympy.im(item) for item in arr]\n",
        "\n",
        "\n",
        "r = sympy.functions.Abs(z4)\n",
        "phi = sympy.functions.arg(z4)\n",
        "z4_trig = r * (sympy.cos(phi) + sympy.sin(phi) * I)\n",
        "\n",
        "r_rev = sympy.functions.Abs(z4_rev)\n",
        "phi_rev = sympy.functions.arg(z4_rev)\n",
        "\n",
        "pod = [z4_trig, r_rev * Symbol('e')**(I * phi_rev)] \n",
        "\n",
        "plt.scatter(roots_x, roots_y)\n",
        "for k in range(2): \n",
        "    if (k == 0):\n",
        "        plt.annotate(r'${z_4} = ' + f'{latex(r)}(\\cos({latex(phi)}) + i\\sin({latex(phi)}))$',\n",
        "        xy=(roots_x[k], roots_y[k]), \n",
        "        xytext=(roots_x[k] + 0.5, roots_y[k] - 0.5))\n",
        "    else:\n",
        "        plt.annotate(r'$\\bar{z_4} =' + f'{latex(pod[k])}$',\n",
        "        xy=(roots_x[k], roots_y[k]), \n",
        "        xytext=(roots_x[k] + 0.5, roots_y[k] + 0.5))\n",
        "\n",
        "\n",
        "plt.axis('equal')\n",
        "plt.xlabel(\"Re\")\n",
        "plt.ylabel(\"Im\")\n",
        "plt.xlim(-6, 6)\n",
        "plt.ylim(-3, 3)"
      ],
      "metadata": {
        "id": "8tJwH-zxMF-m",
        "colab": {
          "base_uri": "https://localhost:8080/",
          "height": 297
        },
        "outputId": "4cc8bdc3-870d-448d-d424-5f41dfeb6526"
      },
      "execution_count": 51,
      "outputs": [
        {
          "output_type": "execute_result",
          "data": {
            "text/plain": [
              "(-3.0, 3.0)"
            ]
          },
          "metadata": {},
          "execution_count": 51
        },
        {
          "output_type": "display_data",
          "data": {
            "text/plain": [
              "<Figure size 432x288 with 1 Axes>"
            ],
            "image/png": "[encoded data removed]"
          },
          "metadata": {
            "needs_background": "light"
          }
        }
      ]
    },
    {
      "cell_type": "markdown",
      "metadata": {
        "id": "GRVpOD5bDebv"
      },
      "source": [
        "#### Задание  5.\n",
        "Изобразить корни 4 степени числа $5e^{\\frac{i\\pi}{8}}$, в полярной системе координат, подписи к точкам - аргументы (углы) сответствующих комплексных чисел. \n",
        "\n",
        "Число вводить в тригонометрической форме, для получения корней комплексного числа $z = r(\\cos(\\varphi) + \\sin(\\varphi))$ использовать формулу \n",
        "$\\sqrt[n]{z} = \\sqrt[n]{r}(\\cos(\\varphi_k) + i \\sin(\\varphi_k))$, \n",
        "$\\varphi_k = \\frac{\\varphi + 2\\pi k}{n}$, $k = 0, ..., n$. \n",
        "\n",
        "Вывести алгебраическую форму полученных корней на экран и сравнить с результатом, полученным с помощью sympy.root (с использованием sympy.expand_complex для упрощения выражения). Аналитическое представление оказывается разным.\n",
        "\n",
        "Для каждого корня найти разность модуля разности корней, полученных двумя способами (т.е. нужно для каждой пары одинаковых корней, полученных двумя способами находить разность корней, вычислять модуль sympy.Abs этой разности и вычислить приближенное значение с помощью evalf())."
      ]
    },
    {
      "cell_type": "code",
      "source": [
        "z_0 = 5 * (sympy.cos(sympy.pi / 8) + I * sympy.sin(sympy.pi / 8))\n",
        "\n",
        "r = sympy.root(5, n, 0)\n",
        "angle_list = [(sympy.pi / 8 + 2 * sympy.pi * k) / 4 for k in range(n)]\n",
        "\n",
        "plt.polar(angle_list, [r] * 4, 'go')\n",
        "\n",
        "for id, val in enumerate(angle_list):\n",
        "    z = r * (sympy.cos(val) + I * sympy.sin(val))\n",
        "    root = expand_complex(sympy.root(z_0, 4, id))\n",
        "    plt.annotate(r'$' + f\"{sympy.latex(val)}\" + r'$',\n",
        "                 xy=(val, r),\n",
        "                 xytext=(val - 0.1, r - 0.2))\n",
        "    display(Latex(latex(expand_complex(z)) + ', ' + latex(root)))\n",
        "    display(Latex(r\"$Difference\\ is\\ \" + latex(sympy.functions.Abs(z - root).evalf()) + '$'))"
      ],
      "metadata": {
        "id": "k0Ntj_GaMHE1",
        "colab": {
          "base_uri": "https://localhost:8080/",
          "height": 710
        },
        "outputId": "226b540a-1d99-4fe5-97a5-68e2ac554870"
      },
      "execution_count": 53,
      "outputs": [
        {
          "output_type": "display_data",
          "data": {
            "text/plain": [
              "<IPython.core.display.Latex object>"
            ],
            "text/latex": "\\sqrt[4]{5} \\cos{\\left(\\frac{\\pi}{32} \\right)} + \\sqrt[4]{5} i \\sin{\\left(\\frac{\\pi}{32} \\right)}, \\sqrt[4]{5} \\cos{\\left(\\frac{\\operatorname{atan}{\\left(\\frac{\\sqrt{\\frac{1}{2} - \\frac{\\sqrt{2}}{4}}}{\\sqrt{\\frac{\\sqrt{2}}{4} + \\frac{1}{2}}} \\right)}}{4} \\right)} + \\sqrt[4]{5} i \\sin{\\left(\\frac{\\operatorname{atan}{\\left(\\frac{\\sqrt{\\frac{1}{2} - \\frac{\\sqrt{2}}{4}}}{\\sqrt{\\frac{\\sqrt{2}}{4} + \\frac{1}{2}}} \\right)}}{4} \\right)}"
          },
          "metadata": {}
        },
        {
          "output_type": "display_data",
          "data": {
            "text/plain": [
              "<IPython.core.display.Latex object>"
            ],
            "text/latex": "$Difference\\ is\\ 5.24560964393985 \\cdot 10^{-68}$"
          },
          "metadata": {}
        },
        {
          "output_type": "display_data",
          "data": {
            "text/plain": [
              "<IPython.core.display.Latex object>"
            ],
            "text/latex": "- \\sqrt[4]{5} \\cos{\\left(\\frac{15 \\pi}{32} \\right)} + \\sqrt[4]{5} i \\sin{\\left(\\frac{15 \\pi}{32} \\right)}, - \\sqrt[4]{5} \\sin{\\left(\\frac{\\operatorname{atan}{\\left(\\frac{\\sqrt{\\frac{1}{2} - \\frac{\\sqrt{2}}{4}}}{\\sqrt{\\frac{\\sqrt{2}}{4} + \\frac{1}{2}}} \\right)}}{4} \\right)} + \\sqrt[4]{5} i \\cos{\\left(\\frac{\\operatorname{atan}{\\left(\\frac{\\sqrt{\\frac{1}{2} - \\frac{\\sqrt{2}}{4}}}{\\sqrt{\\frac{\\sqrt{2}}{4} + \\frac{1}{2}}} \\right)}}{4} \\right)}"
          },
          "metadata": {}
        },
        {
          "output_type": "display_data",
          "data": {
            "text/plain": [
              "<IPython.core.display.Latex object>"
            ],
            "text/latex": "$Difference\\ is\\ 5.24560964393985 \\cdot 10^{-68}$"
          },
          "metadata": {}
        },
        {
          "output_type": "display_data",
          "data": {
            "text/plain": [
              "<IPython.core.display.Latex object>"
            ],
            "text/latex": "- \\sqrt[4]{5} \\cos{\\left(\\frac{\\pi}{32} \\right)} - \\sqrt[4]{5} i \\sin{\\left(\\frac{\\pi}{32} \\right)}, - \\sqrt[4]{5} \\cos{\\left(\\frac{\\operatorname{atan}{\\left(\\frac{\\sqrt{\\frac{1}{2} - \\frac{\\sqrt{2}}{4}}}{\\sqrt{\\frac{\\sqrt{2}}{4} + \\frac{1}{2}}} \\right)}}{4} \\right)} - \\sqrt[4]{5} i \\sin{\\left(\\frac{\\operatorname{atan}{\\left(\\frac{\\sqrt{\\frac{1}{2} - \\frac{\\sqrt{2}}{4}}}{\\sqrt{\\frac{\\sqrt{2}}{4} + \\frac{1}{2}}} \\right)}}{4} \\right)}"
          },
          "metadata": {}
        },
        {
          "output_type": "display_data",
          "data": {
            "text/plain": [
              "<IPython.core.display.Latex object>"
            ],
            "text/latex": "$Difference\\ is\\ 5.24560964393985 \\cdot 10^{-68}$"
          },
          "metadata": {}
        },
        {
          "output_type": "display_data",
          "data": {
            "text/plain": [
              "<IPython.core.display.Latex object>"
            ],
            "text/latex": "\\sqrt[4]{5} \\cos{\\left(\\frac{15 \\pi}{32} \\right)} - \\sqrt[4]{5} i \\sin{\\left(\\frac{15 \\pi}{32} \\right)}, \\sqrt[4]{5} \\sin{\\left(\\frac{\\operatorname{atan}{\\left(\\frac{\\sqrt{\\frac{1}{2} - \\frac{\\sqrt{2}}{4}}}{\\sqrt{\\frac{\\sqrt{2}}{4} + \\frac{1}{2}}} \\right)}}{4} \\right)} - \\sqrt[4]{5} i \\cos{\\left(\\frac{\\operatorname{atan}{\\left(\\frac{\\sqrt{\\frac{1}{2} - \\frac{\\sqrt{2}}{4}}}{\\sqrt{\\frac{\\sqrt{2}}{4} + \\frac{1}{2}}} \\right)}}{4} \\right)}"
          },
          "metadata": {}
        },
        {
          "output_type": "display_data",
          "data": {
            "text/plain": [
              "<IPython.core.display.Latex object>"
            ],
            "text/latex": "$Difference\\ is\\ 5.24560964393985 \\cdot 10^{-68}$"
          },
          "metadata": {}
        },
        {
          "output_type": "display_data",
          "data": {
            "text/plain": [
              "<Figure size 432x288 with 1 Axes>"
            ],
            "image/png": "[encoded data removed]"
          },
          "metadata": {
            "needs_background": "light"
          }
        }
      ]
    },
    {
      "cell_type": "markdown",
      "metadata": {
        "id": "30FXizVhDebw"
      },
      "source": [
        "### Индивидуальное задание.\n",
        "Решить уравнение.\n",
        "Для получения корней использовать sympy.roots.\n",
        "Корни уравнения вывести на экран в алгебраической, тригонометрической и экспоненциальной форме."
      ]
    },
    {
      "cell_type": "code",
      "source": [
        "#126\n",
        "x = Symbol('x')\n",
        "equation = (4 + 4 * I) * x**2 + (16 - 8 * I) * x - 96 + 32 * I\n",
        "\n",
        "roots = [sympy.expand_complex(root) for root in sympy.roots(equation)]\n",
        "\n",
        "for root in roots:\n",
        "    r = sympy.functions.Abs(root)\n",
        "    phi = sympy.functions.arg(root)\n",
        "\n",
        "    display(Latex(f\"Алгебраическая форма:\\ {latex(root)}\"))\n",
        "    display(Latex(f\"Тригонометрическая форма:\\ {latex(r)}(\\cos({latex(phi)}) + i\\sin({latex(phi)}))\"))\n",
        "    display(Latex(r'$' + f\"Экспоненциальной форма:\\ {latex(r)}\\cdot e^\" + r'{' + f\"{latex(phi)}\" + r'}$'))\n",
        "    print('\\n')"
      ],
      "metadata": {
        "id": "eWTviQfgMIrF",
        "colab": {
          "base_uri": "https://localhost:8080/",
          "height": 223
        },
        "outputId": "e0534266-2ff7-41b7-f2ad-e830dca48183"
      },
      "execution_count": 52,
      "outputs": [
        {
          "output_type": "display_data",
          "data": {
            "text/plain": [
              "<IPython.core.display.Latex object>"
            ],
            "text/latex": "Алгебраическая форма:\\ -4 + 4 i"
          },
          "metadata": {}
        },
        {
          "output_type": "display_data",
          "data": {
            "text/plain": [
              "<IPython.core.display.Latex object>"
            ],
            "text/latex": "Тригонометрическая форма:\\ 4 \\sqrt{2}(\\cos(\\frac{3 \\pi}{4}) + i\\sin(\\frac{3 \\pi}{4}))"
          },
          "metadata": {}
        },
        {
          "output_type": "display_data",
          "data": {
            "text/plain": [
              "<IPython.core.display.Latex object>"
            ],
            "text/latex": "$Экспоненциальной форма:\\ 4 \\sqrt{2}\\cdot e^{\\frac{3 \\pi}{4}}$"
          },
          "metadata": {}
        },
        {
          "output_type": "stream",
          "name": "stdout",
          "text": [
            "\n",
            "\n"
          ]
        },
        {
          "output_type": "display_data",
          "data": {
            "text/plain": [
              "<IPython.core.display.Latex object>"
            ],
            "text/latex": "Алгебраическая форма:\\ 3 - i"
          },
          "metadata": {}
        },
        {
          "output_type": "display_data",
          "data": {
            "text/plain": [
              "<IPython.core.display.Latex object>"
            ],
            "text/latex": "Тригонометрическая форма:\\ \\sqrt{10}(\\cos(- \\operatorname{atan}{\\left(\\frac{1}{3} \\right)}) + i\\sin(- \\operatorname{atan}{\\left(\\frac{1}{3} \\right)}))"
          },
          "metadata": {}
        },
        {
          "output_type": "display_data",
          "data": {
            "text/plain": [
              "<IPython.core.display.Latex object>"
            ],
            "text/latex": "$Экспоненциальной форма:\\ \\sqrt{10}\\cdot e^{- \\operatorname{atan}{\\left(\\frac{1}{3} \\right)}}$"
          },
          "metadata": {}
        },
        {
          "output_type": "stream",
          "name": "stdout",
          "text": [
            "\n",
            "\n"
          ]
        }
      ]
    }
  ]
}